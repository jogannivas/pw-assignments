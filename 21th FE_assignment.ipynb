{
 "cells": [
  {
   "cell_type": "markdown",
   "id": "198c7757-0353-4ea8-90f9-bd21a9521036",
   "metadata": {},
   "source": [
    "#Q1\n",
    "\n",
    "\n",
    "Label Encoding:\n",
    "Label encoding assigns a unique numerical label to each category in a categorical variable. The labels are typically integers ranging from 0 to (number of categories - 1).\n",
    "\n",
    "Ordinal Encoding:\n",
    "Ordinal encoding assigns numerical values to categories based on their ordinal relationship or hierarchy. It considers the order of the categories and assigns values accordingly.\n"
   ]
  },
  {
   "cell_type": "markdown",
   "id": "9c153b76-0909-4e1d-9502-c8f7c910dc81",
   "metadata": {},
   "source": [
    "#Q2\n",
    "\n",
    "Target Guided Ordinal Encoding is a technique used to encode categorical variables based on their relationship with the target variable. It assigns ordinal values to the categories based on the target variable's mean, median, or some other statistical measure. The purpose is to capture the correlation between the categorical variable and the target variable."
   ]
  },
  {
   "cell_type": "markdown",
   "id": "189957c3-076e-49a8-a708-efaab35b7bde",
   "metadata": {},
   "source": [
    "#Q3\n",
    "Covariance is a measure of the relationship or association between two random variables. It quantifies how changes in one variable correspond to changes in another variable. In statistical analysis, covariance provides insights into the direction and strength of the linear relationship between variables.\n",
    "\n",
    "Importance of Covariance in Statistical Analysis,Relationship Assessment,Variable Selection,Portfolio Diversification are the features of co variance.\n",
    "Calculation of Covariance:\n",
    "The covariance between two variables, X and Y, is calculated using the following formula:\n",
    "\n",
    "Cov(X, Y) = Σ[(Xᵢ - Ȳ)(Yᵢ - Ȳ)] / (n - 1)\n",
    "\n",
    "Where:\n",
    "\n",
    "Xᵢ and Yᵢ represent the individual data points of X and Y, respectively.\n",
    "Ȳ represents the mean (average) of Y.\n",
    "Σ denotes the summation of the products of the deviations from the mean.\n",
    "n represents the number of data points.\n"
   ]
  },
  {
   "cell_type": "code",
   "execution_count": 2,
   "id": "d8c8ffc2-1877-4ae2-8cd2-4c9003686731",
   "metadata": {},
   "outputs": [
    {
     "name": "stdout",
     "output_type": "stream",
     "text": [
      "   Color  Size  Material\n",
      "0      2     2         2\n",
      "1      1     1         0\n",
      "2      0     0         1\n",
      "3      2     1         1\n",
      "4      1     2         0\n"
     ]
    }
   ],
   "source": [
    "#Q4\n",
    "from sklearn.preprocessing import LabelEncoder\n",
    "import pandas as pd\n",
    "\n",
    "data = {\n",
    "    'Color': ['red', 'green', 'blue', 'red', 'green'],\n",
    "    'Size': ['small', 'medium', 'large', 'medium', 'small'],\n",
    "    'Material': ['wood', 'metal', 'plastic', 'plastic', 'metal']\n",
    "}\n",
    "\n",
    "df = pd.DataFrame(data)\n",
    "\n",
    "\n",
    "label_encoder = LabelEncoder()\n",
    "df_encoded = df.apply(label_encoder.fit_transform)\n",
    "\n",
    "print(df_encoded)\n",
    "\n"
   ]
  },
  {
   "cell_type": "code",
   "execution_count": 3,
   "id": "64e62b49-7467-485b-981f-02097d0d81d2",
   "metadata": {},
   "outputs": [
    {
     "name": "stdout",
     "output_type": "stream",
     "text": [
      "[[1.123e+02 2.170e+05 1.180e+01]\n",
      " [2.170e+05 4.300e+08 2.200e+04]\n",
      " [1.180e+01 2.200e+04 1.300e+00]]\n"
     ]
    }
   ],
   "source": [
    "#Q5\n",
    "import numpy as np\n",
    "\n",
    "age = [35, 42, 28, 48, 55]\n",
    "income = [50000, 60000, 40000, 80000, 90000]\n",
    "education_level = [3, 4, 2, 4, 5]\n",
    "\n",
    "data = np.array([age, income, education_level])\n",
    "\n",
    "covariance_matrix = np.cov(data)\n",
    "\n",
    "print(covariance_matrix)\n"
   ]
  },
  {
   "cell_type": "markdown",
   "id": "85aada73-0345-46aa-8dcd-b83597430ce3",
   "metadata": {},
   "source": [
    "#Q6\n",
    "Gender: Label Encoding\n",
    "Education Level: Ordinal Encoding\n",
    "Employment Status: Label Encoding\n",
    "\n",
    "It's important to note that the choice of encoding method may depend on the specific characteristics of the dataset, the machine learning algorithm being used, and the desired interpretation of the encoded variables. Additionally, after applying the encoding, it is common practice to one-hot encode the resulting encoded variables before using them in machine learning models to avoid potential bias arising from the numerical values assigned during encoding."
   ]
  },
  {
   "cell_type": "markdown",
   "id": "80bf8aee-7a3b-4b04-8c4b-627fb052554b",
   "metadata": {},
   "source": [
    "#Q7\n"
   ]
  }
 ],
 "metadata": {
  "kernelspec": {
   "display_name": "Python 3 (ipykernel)",
   "language": "python",
   "name": "python3"
  },
  "language_info": {
   "codemirror_mode": {
    "name": "ipython",
    "version": 3
   },
   "file_extension": ".py",
   "mimetype": "text/x-python",
   "name": "python",
   "nbconvert_exporter": "python",
   "pygments_lexer": "ipython3",
   "version": "3.10.6"
  }
 },
 "nbformat": 4,
 "nbformat_minor": 5
}

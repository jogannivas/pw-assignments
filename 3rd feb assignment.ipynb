{
 "cells": [
  {
   "cell_type": "code",
   "execution_count": 1,
   "id": "fc38e61f-dbf0-49a1-8779-11428c26a7fc",
   "metadata": {},
   "outputs": [],
   "source": [
    "#Q1//this program is able to find the odd number upto 25"
   ]
  },
  {
   "cell_type": "code",
   "execution_count": 2,
   "id": "0b891b6d-c0e6-4835-88a6-d542a1c77c16",
   "metadata": {},
   "outputs": [
    {
     "name": "stdout",
     "output_type": "stream",
     "text": [
      "1\n",
      "3\n",
      "5\n",
      "7\n",
      "9\n",
      "11\n",
      "13\n",
      "15\n",
      "17\n",
      "19\n",
      "21\n",
      "23\n",
      "25\n"
     ]
    }
   ],
   "source": [
    "def odd_finder ():\n",
    "    \n",
    "    for i in range (26):\n",
    "        if (i%2!=0):\n",
    "            print (i)\n",
    "odd_finder()\n"
   ]
  },
  {
   "cell_type": "raw",
   "id": "020645ef-4ffe-485e-a404-7ebfc52bc0e1",
   "metadata": {},
   "source": [
    "Q2//  Why *args and **kwargs is used in some functions? Create a function each for *args and **kwargs\n",
    "to demonstrate their use.\n",
    "Answer:-\n",
    "*args allows us to pass a variable number of non-keyword arguments to a Python function. In the function, we  use an asterisk (*) before the parameter name to pass a variable number of arguments.\n",
    "**kwargs allows us to pass a variable number of keyword arguments to a Python function. In the function, we use the double-asterisk (**) before the parameter name to denote this type of argument.\n"
   ]
  },
  {
   "cell_type": "code",
   "execution_count": 3,
   "id": "4e152dcc-c93f-4b73-aa53-f1cb5facd917",
   "metadata": {},
   "outputs": [
    {
     "name": "stdout",
     "output_type": "stream",
     "text": [
      "5\n",
      "10\n",
      "{'banana': 5, 'mango': 7, 'apple': 8} <class 'dict'>\n"
     ]
    }
   ],
   "source": [
    "#Q2//\n",
    "#this is for *args\n",
    "def add(*numbers):\n",
    "    total = 0\n",
    "    for num in numbers:\n",
    "        total += num\n",
    "    return total\n",
    "\n",
    "\n",
    "print(add(2, 3))\n",
    "print(add(2, 3, 5))\n",
    "#this ome is for **kwargs\n",
    "\n",
    "def total_fruits(**kwargs):\n",
    "    print(kwargs, type(kwargs))\n",
    "\n",
    "\n",
    "total_fruits(banana=5, mango=7, apple=8)\n"
   ]
  },
  {
   "cell_type": "raw",
   "id": "c2342f8a-2640-45dc-8b1a-558bfad3d0e3",
   "metadata": {},
   "source": [
    "Q3//An iterator is an object that can be iterated upon, meaning that you can traverse through all the values.\n",
    "To create an class as an iterator we have to implement the methods __iter__()  to your object. As we  have learned in the Python , all classes have a function called __init__() , which allows  us  to do some initializing when the object is being created.\n"
   ]
  },
  {
   "cell_type": "code",
   "execution_count": 4,
   "id": "b4941b9f-9328-4e30-8617-4996e96db013",
   "metadata": {},
   "outputs": [
    {
     "name": "stdout",
     "output_type": "stream",
     "text": [
      "4\n",
      "6\n",
      "8\n",
      "10\n",
      "12\n"
     ]
    }
   ],
   "source": [
    "#Q2//\n",
    "t2=(2,4,6,8,10,12,14,16,18,20)\n",
    "for i in t2[1:6]:\n",
    "    print (i)\n"
   ]
  },
  {
   "cell_type": "raw",
   "id": "3e1f917f-7355-41c3-8e2a-3d181c64092b",
   "metadata": {},
   "source": [
    "Q4//What is a generator function in python? Why yield keyword is used? Give an example of a generator\n",
    "function.\n",
    "answer:-\n",
    "A Python generator function allows you to declare a function that behaves like an iterator, providing a faster and easier way to create iterators. They can be used on an abstract container of data to turn it into an iterable object like lists, dictionaries and strings.\n"
   ]
  },
  {
   "cell_type": "raw",
   "id": "c952b3d9-70ab-4d1d-89d3-4149b8005778",
   "metadata": {},
   "source": [
    "def simpleGeneratorFun():\n",
    "\tyield 1\t\t\n",
    "\tyield 2\t\t\n",
    "\tyield 3\t\t\n",
    "for i in simpleGeneratorFun():\n",
    "\tprint(value)\n"
   ]
  },
  {
   "cell_type": "code",
   "execution_count": 6,
   "id": "c2c0a58a-b652-4b41-af7d-a587201dff7c",
   "metadata": {},
   "outputs": [
    {
     "name": "stdout",
     "output_type": "stream",
     "text": [
      "0\n",
      "2\n",
      "4\n",
      "6\n",
      "8\n",
      "10\n",
      "12\n",
      "14\n",
      "16\n",
      "18\n",
      "20\n",
      "22\n",
      "24\n",
      "26\n",
      "28\n",
      "30\n",
      "32\n",
      "34\n",
      "36\n",
      "38\n"
     ]
    }
   ],
   "source": [
    "##Q5. Create a generator function for prime numbers less than 1000. Use the next() method to print the\n",
    "#first 20 prime numbers.\n",
    "def gen1():\n",
    "    count=0\n",
    "    for i in range (1000):\n",
    "        if (i%2==0 & count<=20):\n",
    "            yield i\n",
    "        count=count+1\n",
    "        \n",
    "objgen=iter(gen1())\n",
    "#list(objgen)\n",
    "for i in range (20):\n",
    "    print (next(objgen))\n"
   ]
  },
  {
   "cell_type": "code",
   "execution_count": 7,
   "id": "b20aa30a-8d8f-4125-a03b-62ee59d51fd9",
   "metadata": {},
   "outputs": [
    {
     "name": "stdout",
     "output_type": "stream",
     "text": [
      "0\n",
      "1\n",
      "1\n",
      "2\n",
      "3\n",
      "5\n",
      "8\n",
      "13\n",
      "21\n",
      "34\n"
     ]
    }
   ],
   "source": [
    "#Q6. Write a python program to print the first 10 Fibonacci numbers using a while loop.\n",
    "#Answer:-\n",
    "a,b,i=0,1,0\n",
    "while i < 10:\n",
    "    print (a)\n",
    "    a,b=b,a+b\n",
    "   \n",
    "    i=i+1\n"
   ]
  },
  {
   "cell_type": "code",
   "execution_count": 8,
   "id": "55894e03-d728-4ed3-b2e5-393cc2875e30",
   "metadata": {},
   "outputs": [
    {
     "name": "stdout",
     "output_type": "stream",
     "text": [
      "['p', 'w', 's', 'k', 'i', 'l', 'l', 's']\n"
     ]
    }
   ],
   "source": [
    "#Q7. Write a List Comprehension to iterate through the given string: ‘pwskills’.\n",
    "#Expected output: ['p', 'w', 's', 'k', 'i', 'l', 'l', 's']\n",
    "string =\"pwskills\"\n",
    "a=[]\n",
    "for i  in string :\n",
    "    a.append(i)\n",
    "print (a)\n"
   ]
  },
  {
   "cell_type": "code",
   "execution_count": 9,
   "id": "b3ee71dc-bc8e-43e5-a10c-ffaa68065b5f",
   "metadata": {},
   "outputs": [
    {
     "name": "stdin",
     "output_type": "stream",
     "text": [
      "entre a number here 6226\n"
     ]
    },
    {
     "name": "stdout",
     "output_type": "stream",
     "text": [
      "yes this is a palindrome number\n"
     ]
    }
   ],
   "source": [
    "#Q8. Write a python program to check whether a given number is Palindrome or not using a while loop.\n",
    "a=input(\"entre a number here\")\n",
    "if (a==str(a)[::-1]):\n",
    "    print (\"yes this is a palindrome number\")\n",
    "else :\n",
    "    print(\"not a palindrome nummber\")\n"
   ]
  },
  {
   "cell_type": "code",
   "execution_count": 11,
   "id": "f86b0640-ab30-4c2d-a69e-33c1201b9b74",
   "metadata": {},
   "outputs": [
    {
     "name": "stdout",
     "output_type": "stream",
     "text": [
      "odd numbers are [1, 3, 5, 7, 9, 11, 13, 15, 17, 19, 21, 23, 25, 27, 29, 31, 33, 35, 37, 39, 41, 43, 45, 47, 49, 51, 53, 55, 57, 59, 61, 63, 65, 67, 69, 71, 73, 75, 77, 79, 81, 83, 85, 87, 89, 91, 93, 95, 97, 99]\n"
     ]
    }
   ],
   "source": [
    "#Q9. Write a code to print odd numbers from 1 to 100 using list comprehension.\n",
    "#Note: Use a list comprehension to create a list from 1 to 100 and use another List comprehension to filter\n",
    "#out odd numbers.\n",
    "#Answer:-\n",
    "a=[]\n",
    "for i in range (1,101):\n",
    "    a.append(i)  \n",
    "print (\"odd numbers are\",a[::2])"
   ]
  },
  {
   "cell_type": "code",
   "execution_count": null,
   "id": "f36102a7-697b-474d-9157-9fd5e75725dc",
   "metadata": {},
   "outputs": [],
   "source": []
  }
 ],
 "metadata": {
  "kernelspec": {
   "display_name": "Python 3 (ipykernel)",
   "language": "python",
   "name": "python3"
  },
  "language_info": {
   "codemirror_mode": {
    "name": "ipython",
    "version": 3
   },
   "file_extension": ".py",
   "mimetype": "text/x-python",
   "name": "python",
   "nbconvert_exporter": "python",
   "pygments_lexer": "ipython3",
   "version": "3.10.6"
  }
 },
 "nbformat": 4,
 "nbformat_minor": 5
}

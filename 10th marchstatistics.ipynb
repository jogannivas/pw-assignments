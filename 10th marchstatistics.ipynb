{
 "cells": [
  {
   "cell_type": "markdown",
   "id": "75485f1e-775d-4417-bc96-367fc407acba",
   "metadata": {},
   "source": [
    "Q1: What is Estimation Statistics? Explain point estimate and interval estimate."
   ]
  },
  {
   "cell_type": "code",
   "execution_count": 2,
   "id": "c2ca29dd-63de-45f5-9a58-59e0157fe6dd",
   "metadata": {},
   "outputs": [
    {
     "data": {
      "text/plain": [
       "'A point estimate is a single value estimate of a parameter. For instance, a sample mean is a point estimate of a population mean. An interval estimate gives you a range of values where the parameter is expected to lie. A confidence interval is the most common type of interval estimate.'"
      ]
     },
     "execution_count": 2,
     "metadata": {},
     "output_type": "execute_result"
    }
   ],
   "source": [
    "'''A point estimate is a single value estimate of a parameter. For instance, a sample mean is a point estimate of a population mean. An interval estimate gives you a range of values where the parameter is expected to lie. A confidence interval is the most common type of interval estimate.'''"
   ]
  },
  {
   "cell_type": "markdown",
   "id": "d6f7beaa-6810-4391-8b70-b34602eb2801",
   "metadata": {},
   "source": [
    "Q2. Write a Python function to estimate the population mean using a sample mean and standard\n",
    "deviation."
   ]
  },
  {
   "cell_type": "code",
   "execution_count": 1,
   "id": "76924f66-1cfd-4f1e-ad54-5038171db180",
   "metadata": {},
   "outputs": [],
   "source": [
    "def p_mean(x,N):\n",
    "     m=x/n\n",
    "     return m"
   ]
  },
  {
   "cell_type": "markdown",
   "id": "f3da9ccd-ff83-4984-8087-2f52ebc2180e",
   "metadata": {},
   "source": [
    "Q3: What is Hypothesis testing? Why is it used? State the importance of Hypothesis testing."
   ]
  },
  {
   "cell_type": "code",
   "execution_count": 4,
   "id": "a796031a-1032-4044-be6c-f1c81174621f",
   "metadata": {},
   "outputs": [
    {
     "data": {
      "text/plain": [
       "' Hypothesis testing is a systematic procedure for deciding whether the results of a research study support a particular theory which applies to a population. Hypothesis testing uses sample data to evaluate a hypothesis about a population.\\nThe real value of hypothesis testing in business is that it allows professionals to test their theories and assumptions before putting them into action. This essentially allows an organization to verify its analysis is correct before committing resources to implement a broader strategy.\\n\\n'"
      ]
     },
     "execution_count": 4,
     "metadata": {},
     "output_type": "execute_result"
    }
   ],
   "source": [
    "''' Hypothesis testing is a systematic procedure for deciding whether the results of a research study support a particular theory which applies to a population. Hypothesis testing uses sample data to evaluate a hypothesis about a population.\n",
    "The real value of hypothesis testing in business is that it allows professionals to test their theories and assumptions before putting them into action. This essentially allows an organization to verify its analysis is correct before committing resources to implement a broader strategy.\n",
    "\n",
    "'''"
   ]
  },
  {
   "cell_type": "markdown",
   "id": "92bd2131-343d-4a92-bb4a-b89e2fad3398",
   "metadata": {},
   "source": [
    "Q4. Create a hypothesis that states whether the average weight of male college students is greater than\n",
    "the average weight of female college students."
   ]
  },
  {
   "cell_type": "code",
   "execution_count": 5,
   "id": "132bab92-627a-4f00-b576-7ed3caa1cb55",
   "metadata": {},
   "outputs": [
    {
     "data": {
      "text/plain": [
       "'lets say that average weight of male collage (Mc) is greater thenfemale collage (Gc)\\n\\n:-null hypothesys H0  Mc>Gc\\n:-alternate hypothesys H1 Mc < Gc'"
      ]
     },
     "execution_count": 5,
     "metadata": {},
     "output_type": "execute_result"
    }
   ],
   "source": [
    "'''lets say that average weight of male collage (Mc) is greater thenfemale collage (Gc)\n",
    "\n",
    ":-null hypothesys H0  Mc>Gc\n",
    ":-alternate hypothesys H1 Mc < Gc'''"
   ]
  },
  {
   "cell_type": "markdown",
   "id": "2e3be837-2d0d-475e-887c-46038704f6b8",
   "metadata": {},
   "source": [
    "Q5. Write a Python script to conduct a hypothesis test on the difference between two population means,\n",
    "given a sample from each population."
   ]
  },
  {
   "cell_type": "code",
   "execution_count": 10,
   "id": "15945ae6-0620-4a3f-8b64-13ebcc245c28",
   "metadata": {},
   "outputs": [
    {
     "data": {
      "text/plain": [
       "21.857142857142858"
      ]
     },
     "execution_count": 10,
     "metadata": {},
     "output_type": "execute_result"
    }
   ],
   "source": [
    "import numpy as np\n",
    "SP=[2,5,6,9,8,45,78]\n",
    "PM=sum(SP)/len(SP)\n",
    "PM\n"
   ]
  },
  {
   "cell_type": "markdown",
   "id": "32b5d6d3-37fa-436d-b4c2-1a812375e80e",
   "metadata": {},
   "source": [
    "Q6: What is a null and alternative hypothesis? Give some examples."
   ]
  },
  {
   "cell_type": "code",
   "execution_count": 1,
   "id": "7691b7a3-b6a3-4922-8a90-9f88e1149a65",
   "metadata": {},
   "outputs": [
    {
     "data": {
      "text/plain": [
       "'The null hypothesis is the one to be tested and the alternative is everything else. In our example: \\nThe null hypothesis would be: Height of all students from my cass is 165cm\\nWhile the alternative:  Height of all students from my cass more then 165cm'"
      ]
     },
     "execution_count": 1,
     "metadata": {},
     "output_type": "execute_result"
    }
   ],
   "source": [
    "'''The null hypothesis is the one to be tested and the alternative is everything else. In our example: \n",
    "The null hypothesis would be: Height of all students from my cass is 165cm\n",
    "While the alternative:  Height of all students from my cass more then 165cm'''"
   ]
  },
  {
   "cell_type": "markdown",
   "id": "f55651ee-930b-4bc0-99c2-b1c9a7272766",
   "metadata": {},
   "source": [
    "Q7: Write down the steps involved in hypothesis testing."
   ]
  },
  {
   "cell_type": "code",
   "execution_count": 2,
   "id": "0872b968-3cba-410e-8edd-55a1c81d90e8",
   "metadata": {},
   "outputs": [
    {
     "data": {
      "text/plain": [
       "'Step 1: State your null and alternate hypothesis. ...\\nStep 2: Collect data. ...\\nStep 3: Perform a statistical test. ...\\nStep 4: Decide whether to reject or fail to reject your null hypothesis. ...\\nStep 5: Present your findings.'"
      ]
     },
     "execution_count": 2,
     "metadata": {},
     "output_type": "execute_result"
    }
   ],
   "source": [
    "'''Step 1: State your null and alternate hypothesis. ...\n",
    "Step 2: Collect data. ...\n",
    "Step 3: Perform a statistical test. ...\n",
    "Step 4: Decide whether to reject or fail to reject your null hypothesis. ...\n",
    "Step 5: Present your findings.'''"
   ]
  },
  {
   "cell_type": "markdown",
   "id": "05bc5d19-e551-4440-af02-e998e506e47b",
   "metadata": {},
   "source": [
    "Q8. Define p-value and explain its significance in hypothesis testing."
   ]
  },
  {
   "cell_type": "code",
   "execution_count": 3,
   "id": "b6795d87-8f79-4629-880c-39c332691cd5",
   "metadata": {},
   "outputs": [
    {
     "data": {
      "text/plain": [
       "'The p value is a number, calculated from a statistical test, that describes how likely you are to have found a particular set of observations if the null hypothesis were true. P values are used in hypothesis testing to help decide whether to reject the null hypothesis.'"
      ]
     },
     "execution_count": 3,
     "metadata": {},
     "output_type": "execute_result"
    }
   ],
   "source": [
    "'''The p value is a number, calculated from a statistical test, that describes how likely you are to have found a particular set of observations if the null hypothesis were true. P values are used in hypothesis testing to help decide whether to reject the null hypothesis.'''"
   ]
  },
  {
   "cell_type": "markdown",
   "id": "88f04d03-a561-4b6a-889c-53cb7a458e15",
   "metadata": {},
   "source": [
    "Q9. Generate a Student's t-distribution plot using Python's matplotlib library, with the degrees of freedom\n",
    "parameter set to 10."
   ]
  },
  {
   "cell_type": "code",
   "execution_count": null,
   "id": "c2869fda-fa47-450b-9dbb-fcae0a3dd1cb",
   "metadata": {},
   "outputs": [],
   "source": []
  },
  {
   "cell_type": "markdown",
   "id": "4f6c252d-b3a7-4818-8ea9-d9721d2768b9",
   "metadata": {},
   "source": [
    "Q10. Write a Python program to calculate the two-sample t-test for independent samples, given two\n",
    "random samples of equal size and a null hypothesis that the population means are equal."
   ]
  },
  {
   "cell_type": "code",
   "execution_count": 8,
   "id": "5aa91d06-7c94-4fff-89fe-52f30ede53c7",
   "metadata": {},
   "outputs": [],
   "source": [
    "import numpy as np\n",
    "\n",
    "group1 = np.array([14, 15, 15, 16, 13, 8, 14, 17, 16, 14, 19, 20, 21, 15, 15, 16, 16, 13, 14, 12])\n",
    "group2 = np.array([15, 17, 14, 17, 14, 8, 12, 19, 19, 14, 17, 22, 24, 16, 13, 16, 13, 18, 15, 13])\n"
   ]
  },
  {
   "cell_type": "code",
   "execution_count": 14,
   "id": "80ced650-2ff3-4cf3-a422-f903ed2ff2c3",
   "metadata": {},
   "outputs": [
    {
     "name": "stdout",
     "output_type": "stream",
     "text": [
      "7.727500000000001 & 12.260000000000002\n",
      "15.15 & 15.8\n"
     ]
    }
   ],
   "source": [
    "#find variance for each group\n",
    "print(np.var(group1),'&',np.var(group2))\n",
    "\n",
    "print (np.mean(group1),'&',np.mean(group2))"
   ]
  },
  {
   "cell_type": "markdown",
   "id": "38d22bd9-28cb-4e5e-85b4-9475863efb84",
   "metadata": {},
   "source": [
    "Q11: What is Student’s t distribution? When to use the t-Distribution."
   ]
  },
  {
   "cell_type": "code",
   "execution_count": 15,
   "id": "9214a56a-8f94-4083-a0b7-7228c2395fd8",
   "metadata": {},
   "outputs": [
    {
     "data": {
      "text/plain": [
       "\"The t-distribution, also known as the Student's t-distribution, is a type of probability distribution that is similar to the normal distribution with its bell shape but has heavier tails. It is used for estimating population parameters for small sample sizes or unknown variances.\""
      ]
     },
     "execution_count": 15,
     "metadata": {},
     "output_type": "execute_result"
    }
   ],
   "source": [
    "'''The t-distribution, also known as the Student's t-distribution, is a type of probability distribution that is similar to the normal distribution with its bell shape but has heavier tails. It is used for estimating population parameters for small sample sizes or unknown variances.'''"
   ]
  },
  {
   "cell_type": "markdown",
   "id": "ca1dfb5a-373a-452f-88ad-95f5eb088db2",
   "metadata": {},
   "source": [
    "Q12: What is t-statistic? State the formula for t-statistic."
   ]
  },
  {
   "cell_type": "code",
   "execution_count": 16,
   "id": "559faf4b-1226-4382-be74-344c87c6ecec",
   "metadata": {},
   "outputs": [
    {
     "data": {
      "text/plain": [
       "'The t-value measures the size of the difference relative to the variation in your sample data. Put another way, T is simply the calculated difference represented in units of standard error. The greater the magnitude of T, the greater the evidence against the null hypothesis.'"
      ]
     },
     "execution_count": 16,
     "metadata": {},
     "output_type": "execute_result"
    }
   ],
   "source": [
    "'''The t-value measures the size of the difference relative to the variation in your sample data. Put another way, T is simply the calculated difference represented in units of standard error. The greater the magnitude of T, the greater the evidence against the null hypothesis.'''"
   ]
  },
  {
   "cell_type": "markdown",
   "id": "ae1b0a13-fec3-4d5d-ad97-4d571e2c90b4",
   "metadata": {},
   "source": [
    "Q13. A coffee shop owner wants to estimate the average daily revenue for their shop. They take a random\n",
    "sample of 50 days and find the sample mean revenue to be $500 with a standard deviation of $50.\n",
    "Estimate the population mean revenue with a 95% confidence interval."
   ]
  },
  {
   "cell_type": "code",
   "execution_count": null,
   "id": "81eec370-526a-4229-9fd9-0e5722de5d3d",
   "metadata": {},
   "outputs": [],
   "source": []
  },
  {
   "cell_type": "code",
   "execution_count": null,
   "id": "2905ac05-25c9-476e-82f4-8c3c6efd4f29",
   "metadata": {},
   "outputs": [],
   "source": []
  }
 ],
 "metadata": {
  "kernelspec": {
   "display_name": "Python 3 (ipykernel)",
   "language": "python",
   "name": "python3"
  },
  "language_info": {
   "codemirror_mode": {
    "name": "ipython",
    "version": 3
   },
   "file_extension": ".py",
   "mimetype": "text/x-python",
   "name": "python",
   "nbconvert_exporter": "python",
   "pygments_lexer": "ipython3",
   "version": "3.10.6"
  }
 },
 "nbformat": 4,
 "nbformat_minor": 5
}

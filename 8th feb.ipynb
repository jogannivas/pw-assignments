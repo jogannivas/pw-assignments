{
 "cells": [
  {
   "cell_type": "raw",
   "id": "3d9f7a0d-5920-4e58-979d-357c26e8c48f",
   "metadata": {},
   "source": [
    "Q1. What is Abstraction in OOps? Explain with an example.\n",
    "Abstraction is the process of hiding the internal details of an application from the outer world. Abstraction is used to describe things in simple terms. It's used to create a boundary between the application and the client programs."
   ]
  },
  {
   "cell_type": "code",
   "execution_count": 2,
   "id": "508e6c38-64f3-4a82-8234-a51203a03ee1",
   "metadata": {},
   "outputs": [
    {
     "data": {
      "text/plain": [
       "'this is a method for assigning details for a particular studnts '"
      ]
     },
     "execution_count": 2,
     "metadata": {},
     "output_type": "execute_result"
    }
   ],
   "source": [
    "import abc\n",
    "class pwskills:\n",
    "    @abc.abstractmethod\n",
    "    def students_etails(self):\n",
    "        pass\n",
    "    @abc.abstractmethod\n",
    "    def students_assignments(self):\n",
    "        pass\n",
    "    @abc.abstractmethod\n",
    "    def studentts_marks(self):\n",
    "        pass\n",
    "class student_details(pwskills):\n",
    "    def students_details(self):\n",
    "        return \"this is method for taking students details\"\n",
    "    def students_assignment(self):\n",
    "        return\"this is a method for assigning details for a particular studnts \"\n",
    "class data_science_master (pwskills):\n",
    "    def students_details (self):\n",
    "        return\"this will return a students details for dat science master\"\n",
    "    def student_assignment001(self):\n",
    "        return\"this will give you student assignment\"\n",
    "det=student_details()\n",
    "det.students_assignment()\n",
    "det.students_assignment()"
   ]
  },
  {
   "cell_type": "raw",
   "id": "f4c651e2-5cf9-429c-bbb1-9a9c1c1b4bac",
   "metadata": {},
   "source": [
    "Q2//Differentiate between Abstraction and Encapsulation.\n",
    "Abstraction  is a feature of OOPs. It is used to hide the unnecessary information or data from the user but shows the essential data that is useful for the user. It can be achieved by using the interface and the abstract class.\n",
    "encapsulation is also a feature of OOP. It is used to bind up the data into a single unit called class. It provides the mechanism which is known as data hiding. It is an important feature of OOPs. It prevents to access data members from the outside of the class. It is also necessary from the security point of view"
   ]
  },
  {
   "cell_type": "raw",
   "id": "ad3a2618-babe-42d8-9fe9-2366cba558d5",
   "metadata": {},
   "source": [
    "Q3//What is abc module in python?\n",
    " This module provides the infrastructure for defining abstract base classes (ABCs) in Python."
   ]
  },
  {
   "cell_type": "raw",
   "id": "59d89331-32a3-45e0-ae83-86ed9cf17e94",
   "metadata": {},
   "source": [
    "Q4. How can we achieve data abstraction?\n",
    "\n",
    "In Python, abstraction can be achieved by having/using abstract classes and methods in our programs. Understanding Abstract Methods and Classes: An abstract method is a method that is declared, but does not contain implementation."
   ]
  },
  {
   "cell_type": "raw",
   "id": "5867a626-5280-47c1-9384-437470b2dea8",
   "metadata": {},
   "source": [
    "Q5. Can we create an instance of an abstract class?\n",
    "\n"
   ]
  }
 ],
 "metadata": {
  "kernelspec": {
   "display_name": "Python 3 (ipykernel)",
   "language": "python",
   "name": "python3"
  },
  "language_info": {
   "codemirror_mode": {
    "name": "ipython",
    "version": 3
   },
   "file_extension": ".py",
   "mimetype": "text/x-python",
   "name": "python",
   "nbconvert_exporter": "python",
   "pygments_lexer": "ipython3",
   "version": "3.10.6"
  }
 },
 "nbformat": 4,
 "nbformat_minor": 5
}

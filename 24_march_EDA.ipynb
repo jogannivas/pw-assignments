{
 "cells": [
  {
   "cell_type": "markdown",
   "id": "bf9bde69-6c3c-4411-938b-44752d5fb65e",
   "metadata": {},
   "source": [
    "'''Fixed acidity: The non-volatile acids present in the wine.\n",
    "Volatile acidity\n",
    "Citric acid,Residual sugar,Chlorides,Free sulfur dioxide,Total sulfur dioxide,Density,pH,Sulphates,Alcohol,Quality are the key features of wine quality data set'''\n"
   ]
  },
  {
   "cell_type": "code",
   "execution_count": 27,
   "id": "df69ec1a-de5a-49ba-9397-a02ea88a7a84",
   "metadata": {},
   "outputs": [],
   "source": [
    "import pandas as pd\n",
    "import numpy as np\n",
    "import matplotlib.pyplot as plt\n",
    "import seaborn as sns\n",
    "import warnings\n",
    "warnings.filterwarnings(\"ignore\")"
   ]
  },
  {
   "cell_type": "code",
   "execution_count": 28,
   "id": "c84fd00d-e839-4988-8af2-f30a7f5e9c73",
   "metadata": {},
   "outputs": [
    {
     "name": "stdout",
     "output_type": "stream",
     "text": [
      "              precision    recall  f1-score   support\n",
      "\n",
      "           3       0.00      0.00      0.00         1\n",
      "           4       0.00      0.00      0.00        10\n",
      "           5       0.71      0.74      0.72       130\n",
      "           6       0.63      0.70      0.66       132\n",
      "           7       0.64      0.55      0.59        42\n",
      "           8       0.00      0.00      0.00         5\n",
      "\n",
      "    accuracy                           0.66       320\n",
      "   macro avg       0.33      0.33      0.33       320\n",
      "weighted avg       0.63      0.66      0.64       320\n",
      "\n"
     ]
    }
   ],
   "source": [
    "# Import the required libraries\n",
    "import pandas as pd\n",
    "from sklearn.model_selection import train_test_split\n",
    "from sklearn.preprocessing import StandardScaler\n",
    "from sklearn.ensemble import RandomForestClassifier\n",
    "from sklearn.metrics import classification_report\n",
    "\n",
    "# Load the wine quality data set\n",
    "data = pd.read_csv('winequality-red.csv')  # Replace 'wine_quality.csv' with the actual file path or URL\n",
    "\n",
    "# Split the data into features (X) and target variable (y)\n",
    "X = data.drop('quality', axis=1)\n",
    "y = data['quality']\n",
    "\n",
    "# Split the data into training and testing sets\n",
    "X_train, X_test, y_train, y_test = train_test_split(X, y, test_size=0.2, random_state=42)\n",
    "\n",
    "# Scale the features\n",
    "scaler = StandardScaler()\n",
    "X_train_scaled = scaler.fit_transform(X_train)\n",
    "X_test_scaled = scaler.transform(X_test)\n",
    "\n",
    "# Create and train a random forest classifier\n",
    "clf = RandomForestClassifier(n_estimators=100, random_state=42)\n",
    "clf.fit(X_train_scaled, y_train)\n",
    "\n",
    "# Predict the wine quality for the test set\n",
    "y_pred = clf.predict(X_test_scaled)\n",
    "\n",
    "# Evaluate the model\n",
    "print(classification_report(y_test, y_pred))\n"
   ]
  },
  {
   "cell_type": "code",
   "execution_count": 32,
   "id": "8ec71d30-37ca-451d-a96e-a5a3507c7005",
   "metadata": {},
   "outputs": [
    {
     "data": {
      "text/plain": [
       "fixed acidity           0\n",
       "volatile acidity        0\n",
       "citric acid             0\n",
       "residual sugar          0\n",
       "chlorides               0\n",
       "free sulfur dioxide     0\n",
       "total sulfur dioxide    0\n",
       "density                 0\n",
       "pH                      0\n",
       "sulphates               0\n",
       "alcohol                 0\n",
       "quality                 0\n",
       "dtype: int64"
      ]
     },
     "execution_count": 32,
     "metadata": {},
     "output_type": "execute_result"
    }
   ],
   "source": [
    "#Q2\n",
    "# Impute missing values with the mean\n",
    "data.fillna(data.mean(), inplace=True)\n",
    "\n",
    "# Impute missing values with the median\n",
    "data.fillna(data.median(), inplace=True)\n",
    "\n",
    "# Impute missing values with the mode\n",
    "data.fillna(data.mode().iloc[0], inplace=True)\n",
    "df.isnull().sum()"
   ]
  },
  {
   "cell_type": "code",
   "execution_count": 38,
   "id": "27d01e56-0f90-444b-8035-fc82afada96f",
   "metadata": {},
   "outputs": [
    {
     "data": {
      "text/html": [
       "<div>\n",
       "<style scoped>\n",
       "    .dataframe tbody tr th:only-of-type {\n",
       "        vertical-align: middle;\n",
       "    }\n",
       "\n",
       "    .dataframe tbody tr th {\n",
       "        vertical-align: top;\n",
       "    }\n",
       "\n",
       "    .dataframe thead th {\n",
       "        text-align: right;\n",
       "    }\n",
       "</style>\n",
       "<table border=\"1\" class=\"dataframe\">\n",
       "  <thead>\n",
       "    <tr style=\"text-align: right;\">\n",
       "      <th></th>\n",
       "      <th>math_score</th>\n",
       "      <th>reading_score</th>\n",
       "      <th>writing_score</th>\n",
       "    </tr>\n",
       "  </thead>\n",
       "  <tbody>\n",
       "    <tr>\n",
       "      <th>count</th>\n",
       "      <td>1000.00000</td>\n",
       "      <td>1000.000000</td>\n",
       "      <td>1000.000000</td>\n",
       "    </tr>\n",
       "    <tr>\n",
       "      <th>mean</th>\n",
       "      <td>66.08900</td>\n",
       "      <td>69.169000</td>\n",
       "      <td>68.054000</td>\n",
       "    </tr>\n",
       "    <tr>\n",
       "      <th>std</th>\n",
       "      <td>15.16308</td>\n",
       "      <td>14.600192</td>\n",
       "      <td>15.195657</td>\n",
       "    </tr>\n",
       "    <tr>\n",
       "      <th>min</th>\n",
       "      <td>0.00000</td>\n",
       "      <td>17.000000</td>\n",
       "      <td>10.000000</td>\n",
       "    </tr>\n",
       "    <tr>\n",
       "      <th>25%</th>\n",
       "      <td>57.00000</td>\n",
       "      <td>59.000000</td>\n",
       "      <td>57.750000</td>\n",
       "    </tr>\n",
       "    <tr>\n",
       "      <th>50%</th>\n",
       "      <td>66.00000</td>\n",
       "      <td>70.000000</td>\n",
       "      <td>69.000000</td>\n",
       "    </tr>\n",
       "    <tr>\n",
       "      <th>75%</th>\n",
       "      <td>77.00000</td>\n",
       "      <td>79.000000</td>\n",
       "      <td>79.000000</td>\n",
       "    </tr>\n",
       "    <tr>\n",
       "      <th>max</th>\n",
       "      <td>100.00000</td>\n",
       "      <td>100.000000</td>\n",
       "      <td>100.000000</td>\n",
       "    </tr>\n",
       "  </tbody>\n",
       "</table>\n",
       "</div>"
      ],
      "text/plain": [
       "       math_score  reading_score  writing_score\n",
       "count  1000.00000    1000.000000    1000.000000\n",
       "mean     66.08900      69.169000      68.054000\n",
       "std      15.16308      14.600192      15.195657\n",
       "min       0.00000      17.000000      10.000000\n",
       "25%      57.00000      59.000000      57.750000\n",
       "50%      66.00000      70.000000      69.000000\n",
       "75%      77.00000      79.000000      79.000000\n",
       "max     100.00000     100.000000     100.000000"
      ]
     },
     "execution_count": 38,
     "metadata": {},
     "output_type": "execute_result"
    }
   ],
   "source": [
    "#Q3\n",
    "df1=pd.read_csv(\"stud.csv\")\n",
    "df1.describe()"
   ]
  },
  {
   "cell_type": "markdown",
   "id": "fcb885f1-d831-42fd-bd33-6de0a6b148e9",
   "metadata": {},
   "source": [
    "#Q4\n",
    "Feature engineering is the process of selecting, creating, and transforming variables (features) in a dataset to improve the performance and interpretability of a machine learning model. In the context of the student performance data set, let's discuss the process of feature engineering and how variables were selected and transformed for the model.\n",
    "\n",
    "\n",
    "The specific selection and transformation of variables for the model will depend on the specific objectives of the analysis and the insights gained from exploratory data analysis. It is essential to iteratively experiment with different approaches, evaluate their impact on the model's performance, and refine the feature engineering process accordingly to build the most effective and informative model."
   ]
  },
  {
   "cell_type": "code",
   "execution_count": 41,
   "id": "81ab6cd2-693d-485b-be7f-e8f551629959",
   "metadata": {},
   "outputs": [
    {
     "data": {
      "text/plain": [
       "(array([[1599.,    0.,    0.,    0.,    0.,    0.,    0.,    0.,    0.,\n",
       "            0.],\n",
       "        [1599.,    0.,    0.,    0.,    0.,    0.,    0.,    0.,    0.,\n",
       "            0.],\n",
       "        [1599.,    0.,    0.,    0.,    0.,    0.,    0.,    0.,    0.,\n",
       "            0.],\n",
       "        [1599.,    0.,    0.,    0.,    0.,    0.,    0.,    0.,    0.,\n",
       "            0.],\n",
       "        [1599.,    0.,    0.,    0.,    0.,    0.,    0.,    0.,    0.,\n",
       "            0.],\n",
       "        [1397.,  198.,    4.,    0.,    0.,    0.,    0.,    0.,    0.,\n",
       "            0.],\n",
       "        [ 607.,  535.,  246.,  139.,   54.,   16.,    0.,    0.,    0.,\n",
       "            2.],\n",
       "        [1599.,    0.,    0.,    0.,    0.,    0.,    0.,    0.,    0.,\n",
       "            0.],\n",
       "        [1599.,    0.,    0.,    0.,    0.,    0.,    0.,    0.,    0.,\n",
       "            0.],\n",
       "        [1599.,    0.,    0.,    0.,    0.,    0.,    0.,    0.,    0.,\n",
       "            0.],\n",
       "        [1599.,    0.,    0.,    0.,    0.,    0.,    0.,    0.,    0.,\n",
       "            0.],\n",
       "        [1599.,    0.,    0.,    0.,    0.,    0.,    0.,    0.,    0.,\n",
       "            0.]]),\n",
       " array([  0. ,  28.9,  57.8,  86.7, 115.6, 144.5, 173.4, 202.3, 231.2,\n",
       "        260.1, 289. ]),\n",
       " <a list of 12 BarContainer objects>)"
      ]
     },
     "execution_count": 41,
     "metadata": {},
     "output_type": "execute_result"
    },
    {
     "data": {
      "image/png": "[encoded data removed]",
      "text/plain": [
       "<Figure size 640x480 with 1 Axes>"
      ]
     },
     "metadata": {},
     "output_type": "display_data"
    }
   ],
   "source": [
    "#Q5\n",
    "plt.hist(df)\n"
   ]
  },
  {
   "cell_type": "code",
   "execution_count": 46,
   "id": "c5a30508-f8d1-4fc1-a96f-9d789ef02ba9",
   "metadata": {},
   "outputs": [
    {
     "data": {
      "text/plain": [
       "fixed acidity            96\n",
       "volatile acidity        143\n",
       "citric acid              80\n",
       "residual sugar           91\n",
       "chlorides               153\n",
       "free sulfur dioxide      60\n",
       "total sulfur dioxide    144\n",
       "density                 436\n",
       "pH                       89\n",
       "sulphates                96\n",
       "alcohol                  65\n",
       "quality                   6\n",
       "dtype: int64"
      ]
     },
     "execution_count": 46,
     "metadata": {},
     "output_type": "execute_result"
    }
   ],
   "source": [
    "df.nunique()"
   ]
  },
  {
   "cell_type": "code",
   "execution_count": 51,
   "id": "9844bfe8-3fb6-42eb-a54f-009cff0337fa",
   "metadata": {},
   "outputs": [
    {
     "name": "stdout",
     "output_type": "stream",
     "text": [
      "[[0.24778761 0.39726027 0.         ... 0.13772455 0.15384615 0.4       ]\n",
      " [0.28318584 0.52054795 0.         ... 0.20958084 0.21538462 0.4       ]\n",
      " [0.28318584 0.43835616 0.04       ... 0.19161677 0.21538462 0.4       ]\n",
      " ...\n",
      " [0.15044248 0.26712329 0.13       ... 0.25149701 0.4        0.6       ]\n",
      " [0.11504425 0.35958904 0.12       ... 0.22754491 0.27692308 0.4       ]\n",
      " [0.12389381 0.13013699 0.47       ... 0.19760479 0.4        0.6       ]]\n"
     ]
    }
   ],
   "source": [
    "from sklearn.preprocessing import MinMaxScaler\n",
    "\n",
    "# Select the columns to normalize (assuming 'column1' and 'column2' are the columns to normalize)\n",
    "columns_to_normalize = ['volatile acidity', 'density']\n",
    "scaler = MinMaxScaler()\n",
    "data=scaler.fit_transform(df)\n",
    "print(data)\n"
   ]
  },
  {
   "cell_type": "code",
   "execution_count": 54,
   "id": "76ea5ab2-88b9-4ff8-b018-9cbaf58c318a",
   "metadata": {},
   "outputs": [
    {
     "name": "stdout",
     "output_type": "stream",
     "text": [
      "            PC1        PC2       PC3\n",
      "0    -13.224905  -2.023900 -1.126821\n",
      "1     22.037724   4.408322 -0.310378\n",
      "2      7.162673  -2.501461 -0.581868\n",
      "3     13.430063  -1.951122  2.634040\n",
      "4    -13.224905  -2.023900 -1.126821\n",
      "...         ...        ...       ...\n",
      "1594   1.129111  16.313102 -1.860069\n",
      "1595   9.489984  21.627525 -1.986558\n",
      "1596  -3.431354  14.271243 -1.750719\n",
      "1597   1.132878  16.316167 -2.134414\n",
      "1598  -3.874377   3.126348 -1.874149\n",
      "\n",
      "[1599 rows x 3 columns]\n"
     ]
    }
   ],
   "source": [
    "#Q6\n",
    "from sklearn.decomposition import PCA\n",
    "\n",
    "\n",
    "# Load the wine quality data set (assuming it is stored in a DataFrame called 'data')\n",
    "data = pd.read_csv('winequality-red.csv')  # Replace 'wine_quality.csv' with the actual file path or URL\n",
    "\n",
    "# Separate the features from the target variable (assuming 'quality' is the target variable)\n",
    "X = data.drop('quality', axis=1)\n",
    "\n",
    "# Create a PCA object with the desired number of components\n",
    "n_components = 3  # Specify the number of components you want to retain after dimensionality reduction\n",
    "pca = PCA(n_components=n_components)\n",
    "\n",
    "# Fit the PCA model to the data and transform the data\n",
    "X_pca = pca.fit_transform(X)\n",
    "\n",
    "# Create a DataFrame with the transformed data and print it\n",
    "X_pca_df = pd.DataFrame(X_pca, columns=[f'PC{i+1}' for i in range(n_components)])\n",
    "print(X_pca_df)\n"
   ]
  }
 ],
 "metadata": {
  "kernelspec": {
   "display_name": "Python 3 (ipykernel)",
   "language": "python",
   "name": "python3"
  },
  "language_info": {
   "codemirror_mode": {
    "name": "ipython",
    "version": 3
   },
   "file_extension": ".py",
   "mimetype": "text/x-python",
   "name": "python",
   "nbconvert_exporter": "python",
   "pygments_lexer": "ipython3",
   "version": "3.10.6"
  }
 },
 "nbformat": 4,
 "nbformat_minor": 5
}

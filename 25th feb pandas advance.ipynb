{
 "cells": [
  {
   "cell_type": "code",
   "execution_count": 4,
   "id": "b4ab9e3f-9105-45fa-85ab-0dcd4e570dcd",
   "metadata": {},
   "outputs": [],
   "source": [
    "import pandas as pd\n",
    "course_name = ['Data Science', 'Machine Learning', 'Big Data', 'Data Engineer']\n",
    "duration = [2,3,6,4]\n",
    "df = pd.DataFrame(data = {'course_name' : course_name, 'duration' : duration})"
   ]
  },
  {
   "cell_type": "code",
   "execution_count": 5,
   "id": "33a93bfd-4375-4d93-98f3-9874aac93b41",
   "metadata": {},
   "outputs": [
    {
     "data": {
      "text/html": [
       "<div>\n",
       "<style scoped>\n",
       "    .dataframe tbody tr th:only-of-type {\n",
       "        vertical-align: middle;\n",
       "    }\n",
       "\n",
       "    .dataframe tbody tr th {\n",
       "        vertical-align: top;\n",
       "    }\n",
       "\n",
       "    .dataframe thead th {\n",
       "        text-align: right;\n",
       "    }\n",
       "</style>\n",
       "<table border=\"1\" class=\"dataframe\">\n",
       "  <thead>\n",
       "    <tr style=\"text-align: right;\">\n",
       "      <th></th>\n",
       "      <th>course_name</th>\n",
       "      <th>duration</th>\n",
       "    </tr>\n",
       "  </thead>\n",
       "  <tbody>\n",
       "    <tr>\n",
       "      <th>0</th>\n",
       "      <td>Data Science</td>\n",
       "      <td>2</td>\n",
       "    </tr>\n",
       "    <tr>\n",
       "      <th>1</th>\n",
       "      <td>Machine Learning</td>\n",
       "      <td>3</td>\n",
       "    </tr>\n",
       "    <tr>\n",
       "      <th>2</th>\n",
       "      <td>Big Data</td>\n",
       "      <td>6</td>\n",
       "    </tr>\n",
       "    <tr>\n",
       "      <th>3</th>\n",
       "      <td>Data Engineer</td>\n",
       "      <td>4</td>\n",
       "    </tr>\n",
       "  </tbody>\n",
       "</table>\n",
       "</div>"
      ],
      "text/plain": [
       "        course_name  duration\n",
       "0      Data Science         2\n",
       "1  Machine Learning         3\n",
       "2          Big Data         6\n",
       "3     Data Engineer         4"
      ]
     },
     "execution_count": 5,
     "metadata": {},
     "output_type": "execute_result"
    }
   ],
   "source": [
    "df"
   ]
  },
  {
   "cell_type": "code",
   "execution_count": 15,
   "id": "61a81c47-b6ee-49d4-a407-075329395c9f",
   "metadata": {},
   "outputs": [
    {
     "name": "stdout",
     "output_type": "stream",
     "text": [
      "  course_name  duration\n",
      "2    Big Data         6\n"
     ]
    }
   ],
   "source": [
    "'''Q1. Write a code to print the data present in the second row of the dataframe, df.'''\n",
    "print(df.iloc[[2]])"
   ]
  },
  {
   "cell_type": "raw",
   "id": "fd7c20a0-caf7-4f7f-891d-33a910053d89",
   "metadata": {},
   "source": [
    "'''Q2. What is the difference between the functions loc and iloc in pandas.DataFrame?'''\n",
    "\n",
    "The iloc() function is an indexed-based selecting method which means that we have to pass an integer index in the method to select a specific row/column. \n",
    "\n",
    "The loc() function is label based data selecting method which means that we have to pass the name of the row or column which we want to select."
   ]
  },
  {
   "cell_type": "code",
   "execution_count": 24,
   "id": "940f5790-8a4a-4987-b835-de19000f4ddb",
   "metadata": {},
   "outputs": [
    {
     "name": "stdout",
     "output_type": "stream",
     "text": [
      "        course_name  duration\n",
      "3     Data Engineer         4\n",
      "0      Data Science         2\n",
      "1  Machine Learning         3\n",
      "2          Big Data         6\n"
     ]
    }
   ],
   "source": [
    "'''Q3. Reindex the given dataframe using a variable, reindex = [3,0,1,2] and store it in the variable, new_df\n",
    "then find the output for both new_df.loc[2] and new_df.iloc[2].'''\n",
    "\n",
    "\n",
    "reindex = [3,0,1,2] \n",
    "new_df=df.reindex(reindex)\n",
    "print(new_df)\n",
    "\n"
   ]
  },
  {
   "cell_type": "code",
   "execution_count": 25,
   "id": "7740e6aa-abed-40f9-baa6-2bb3c2d53fb0",
   "metadata": {},
   "outputs": [
    {
     "data": {
      "text/plain": [
       "course_name    Big Data\n",
       "duration              6\n",
       "Name: 2, dtype: object"
      ]
     },
     "execution_count": 25,
     "metadata": {},
     "output_type": "execute_result"
    }
   ],
   "source": [
    "new_df.loc[2]\n",
    "\n",
    "#it is searching as  per its index==index , Here in 2 index there was big data"
   ]
  },
  {
   "cell_type": "code",
   "execution_count": 26,
   "id": "58e69602-9a05-4f43-9061-05496cbf81eb",
   "metadata": {},
   "outputs": [
    {
     "data": {
      "text/plain": [
       "course_name    Machine Learning\n",
       "duration                      3\n",
       "Name: 1, dtype: object"
      ]
     },
     "execution_count": 26,
     "metadata": {},
     "output_type": "execute_result"
    }
   ],
   "source": [
    "new_df.iloc[2]\n",
    "\n",
    "#it is searching as  per its original index , Here in actually after first index second indx was there so in which Ml was there"
   ]
  },
  {
   "cell_type": "code",
   "execution_count": 32,
   "id": "f272ca38-0621-4ca0-8a8d-ebbe2298cef1",
   "metadata": {},
   "outputs": [],
   "source": [
    "import pandas as pd\n",
    "import numpy as np\n",
    "columns = ['column_1', 'column_2', 'column_3', 'column_4', 'column_5', 'column_6']\n",
    "indices = [1,2,3,4,5,6]\n",
    "#Creating a dataframe:\n",
    "df1 = pd.DataFrame(np.random.rand(6,6), columns = columns, index = indices)"
   ]
  },
  {
   "cell_type": "code",
   "execution_count": 29,
   "id": "67116ff5-eca6-4c34-8a8c-20852c4e52ba",
   "metadata": {},
   "outputs": [
    {
     "data": {
      "text/plain": [
       "column_1    0.368545\n",
       "column_2    0.473035\n",
       "column_3    0.591006\n",
       "column_4    0.456071\n",
       "column_5    0.551423\n",
       "column_6    0.634875\n",
       "dtype: float64"
      ]
     },
     "execution_count": 29,
     "metadata": {},
     "output_type": "execute_result"
    }
   ],
   "source": [
    "'''Q4. Write a code to find the following statistical measurements for the above dataframe df1:\n",
    "(i) mean of each and every column present in the dataframe.\n",
    "(ii) standard deviation of column, ‘column_2’'''\n",
    "\n",
    "'''(i) mean of each and every column present in the dataframe.'''\n",
    "df1.mean()\n",
    "\n",
    "\n"
   ]
  },
  {
   "cell_type": "code",
   "execution_count": 40,
   "id": "a00998ac-ccb9-452c-96a1-c274bdeac7d6",
   "metadata": {},
   "outputs": [
    {
     "data": {
      "text/plain": [
       "0.22399517336135547"
      ]
     },
     "execution_count": 40,
     "metadata": {},
     "output_type": "execute_result"
    }
   ],
   "source": [
    "'''(ii) standard deviation of column, ‘column_2’'''\n",
    "\n",
    "df1['column_2'].std( )"
   ]
  },
  {
   "cell_type": "code",
   "execution_count": 47,
   "id": "8bd22668-e8bc-4dfb-bd2c-55e9c23b69fd",
   "metadata": {},
   "outputs": [
    {
     "data": {
      "text/html": [
       "<div>\n",
       "<style scoped>\n",
       "    .dataframe tbody tr th:only-of-type {\n",
       "        vertical-align: middle;\n",
       "    }\n",
       "\n",
       "    .dataframe tbody tr th {\n",
       "        vertical-align: top;\n",
       "    }\n",
       "\n",
       "    .dataframe thead th {\n",
       "        text-align: right;\n",
       "    }\n",
       "</style>\n",
       "<table border=\"1\" class=\"dataframe\">\n",
       "  <thead>\n",
       "    <tr style=\"text-align: right;\">\n",
       "      <th></th>\n",
       "      <th>column_1</th>\n",
       "      <th>column_2</th>\n",
       "      <th>column_3</th>\n",
       "      <th>column_4</th>\n",
       "      <th>column_5</th>\n",
       "      <th>column_6</th>\n",
       "    </tr>\n",
       "  </thead>\n",
       "  <tbody>\n",
       "    <tr>\n",
       "      <th>1</th>\n",
       "      <td>0.619456</td>\n",
       "      <td>0.026538</td>\n",
       "      <td>0.021771</td>\n",
       "      <td>0.265536</td>\n",
       "      <td>0.302424</td>\n",
       "      <td>0.346654</td>\n",
       "    </tr>\n",
       "    <tr>\n",
       "      <th>2</th>\n",
       "      <td>0.104524</td>\n",
       "      <td>0.410063</td>\n",
       "      <td>0.548592</td>\n",
       "      <td>0.674047</td>\n",
       "      <td>0.382062</td>\n",
       "      <td>0.654086</td>\n",
       "    </tr>\n",
       "    <tr>\n",
       "      <th>3</th>\n",
       "      <td>0.685184</td>\n",
       "      <td>0.711127</td>\n",
       "      <td>0.006950</td>\n",
       "      <td>0.598965</td>\n",
       "      <td>0.828073</td>\n",
       "      <td>0.822113</td>\n",
       "    </tr>\n",
       "    <tr>\n",
       "      <th>4</th>\n",
       "      <td>0.151146</td>\n",
       "      <td>0.336858</td>\n",
       "      <td>0.924804</td>\n",
       "      <td>0.619424</td>\n",
       "      <td>0.685722</td>\n",
       "      <td>0.243513</td>\n",
       "    </tr>\n",
       "    <tr>\n",
       "      <th>5</th>\n",
       "      <td>0.727184</td>\n",
       "      <td>0.461887</td>\n",
       "      <td>0.617908</td>\n",
       "      <td>0.659491</td>\n",
       "      <td>0.516521</td>\n",
       "      <td>0.902618</td>\n",
       "    </tr>\n",
       "    <tr>\n",
       "      <th>6</th>\n",
       "      <td>0.847945</td>\n",
       "      <td>0.482568</td>\n",
       "      <td>0.816779</td>\n",
       "      <td>0.057644</td>\n",
       "      <td>0.060203</td>\n",
       "      <td>0.058187</td>\n",
       "    </tr>\n",
       "  </tbody>\n",
       "</table>\n",
       "</div>"
      ],
      "text/plain": [
       "   column_1  column_2  column_3  column_4  column_5  column_6\n",
       "1  0.619456  0.026538  0.021771  0.265536  0.302424  0.346654\n",
       "2  0.104524  0.410063  0.548592  0.674047  0.382062  0.654086\n",
       "3  0.685184  0.711127  0.006950  0.598965  0.828073  0.822113\n",
       "4  0.151146  0.336858  0.924804  0.619424  0.685722  0.243513\n",
       "5  0.727184  0.461887  0.617908  0.659491  0.516521  0.902618\n",
       "6  0.847945  0.482568  0.816779  0.057644  0.060203  0.058187"
      ]
     },
     "execution_count": 47,
     "metadata": {},
     "output_type": "execute_result"
    }
   ],
   "source": [
    "df1"
   ]
  },
  {
   "cell_type": "code",
   "execution_count": 59,
   "id": "6dc561f1-222d-454e-b50b-6a464e9cd99a",
   "metadata": {},
   "outputs": [
    {
     "ename": "AttributeError",
     "evalue": "'numpy.float64' object has no attribute 'loc'",
     "output_type": "error",
     "traceback": [
      "\u001b[0;31m---------------------------------------------------------------------------\u001b[0m",
      "\u001b[0;31mAttributeError\u001b[0m                            Traceback (most recent call last)",
      "Cell \u001b[0;32mIn [59], line 8\u001b[0m\n\u001b[1;32m      1\u001b[0m \u001b[38;5;124;03m'''Q5. Replace the data present in the second row of column, ‘column_2’ by a string variable then find the\u001b[39;00m\n\u001b[1;32m      2\u001b[0m \u001b[38;5;124;03mmean of column, column_2.\u001b[39;00m\n\u001b[1;32m      3\u001b[0m \u001b[38;5;124;03mIf you are getting errors in executing it then explain why.\u001b[39;00m\n\u001b[1;32m      4\u001b[0m \u001b[38;5;124;03m[Hint: To replace the data use df1.loc[] and equate this to string data of your choice.]'''\u001b[39;00m\n\u001b[1;32m      6\u001b[0m \u001b[38;5;66;03m#df1.replace(\"column_2\",'okay')#loc['column_2']\u001b[39;00m\n\u001b[1;32m      7\u001b[0m \u001b[38;5;66;03m#df.loc[m, 'conlumn_b'] = df.loc[m, 'conlumn_b'].replace(11, 'XXX')\u001b[39;00m\n\u001b[0;32m----> 8\u001b[0m \u001b[43mdf1\u001b[49m\u001b[43m[\u001b[49m\u001b[38;5;124;43m\"\u001b[39;49m\u001b[38;5;124;43mcolumn_2\u001b[39;49m\u001b[38;5;124;43m\"\u001b[39;49m\u001b[43m]\u001b[49m\u001b[43m[\u001b[49m\u001b[38;5;241;43m2\u001b[39;49m\u001b[43m]\u001b[49m\u001b[38;5;241;43m.\u001b[39;49m\u001b[43mloc\u001b[49m()\n",
      "\u001b[0;31mAttributeError\u001b[0m: 'numpy.float64' object has no attribute 'loc'"
     ]
    }
   ],
   "source": [
    "'''Q5. Replace the data present in the second row of column, ‘column_2’ by a string variable then find the\n",
    "mean of column, column_2.\n",
    "If you are getting errors in executing it then explain why.\n",
    "[Hint: To replace the data use df1.loc[] and equate this to string data of your choice.]'''\n",
    "\n",
    "#df1.replace(\"column_2\",'okay')#loc['column_2']\n",
    "#df.loc[m, 'conlumn_b'] = df.loc[m, 'conlumn_b'].replace(11, 'XXX')\n",
    "df1[\"column_2\"][2].loc()#.loc(2,axis=1)"
   ]
  },
  {
   "cell_type": "raw",
   "id": "3a812e66-2299-435d-b553-9efdf71d8511",
   "metadata": {},
   "source": [
    "'''Q6. What do you understand about the windows function in pandas and list the types of windows\n",
    "functions?'''\n",
    "\n",
    "\n",
    "Nested window functions include two functions that you can nest as an argument of a window aggregate function. Those are the nested row number function, and the nested value_of expression at row function.\n",
    "\n",
    "df5['ok'].rolling(window=3).max()"
   ]
  },
  {
   "cell_type": "code",
   "execution_count": 111,
   "id": "ceac3627-b022-40fa-9b1d-1bc1c4d31a68",
   "metadata": {},
   "outputs": [],
   "source": [
    "'''Q7. Write a code to print only the current month and year at the time of answering this question.\n",
    "[Hint: Use pandas.datetime function]'''\n",
    "\n",
    "df4=pd.DataFrame({\"date\" : ['2023-5-30']})"
   ]
  },
  {
   "cell_type": "code",
   "execution_count": 118,
   "id": "425f55bc-7f90-444a-bb2e-78a1016ae51e",
   "metadata": {},
   "outputs": [],
   "source": [
    "df4[\"month\"]=pd.to_datetime(df4['date']).dt.month"
   ]
  },
  {
   "cell_type": "code",
   "execution_count": 119,
   "id": "52003faa-8693-4129-8ddf-e735e18bd8a2",
   "metadata": {},
   "outputs": [],
   "source": [
    "df4[\"year\"]=pd.to_datetime(df4['date']).dt.year"
   ]
  },
  {
   "cell_type": "code",
   "execution_count": 120,
   "id": "fe7d67ba-c544-447c-8cb4-6c01e58908a5",
   "metadata": {},
   "outputs": [
    {
     "data": {
      "text/html": [
       "<div>\n",
       "<style scoped>\n",
       "    .dataframe tbody tr th:only-of-type {\n",
       "        vertical-align: middle;\n",
       "    }\n",
       "\n",
       "    .dataframe tbody tr th {\n",
       "        vertical-align: top;\n",
       "    }\n",
       "\n",
       "    .dataframe thead th {\n",
       "        text-align: right;\n",
       "    }\n",
       "</style>\n",
       "<table border=\"1\" class=\"dataframe\">\n",
       "  <thead>\n",
       "    <tr style=\"text-align: right;\">\n",
       "      <th></th>\n",
       "      <th>date</th>\n",
       "      <th>Bhal</th>\n",
       "      <th>month</th>\n",
       "      <th>year</th>\n",
       "    </tr>\n",
       "  </thead>\n",
       "  <tbody>\n",
       "    <tr>\n",
       "      <th>0</th>\n",
       "      <td>2023-5-30</td>\n",
       "      <td>5</td>\n",
       "      <td>5</td>\n",
       "      <td>2023</td>\n",
       "    </tr>\n",
       "  </tbody>\n",
       "</table>\n",
       "</div>"
      ],
      "text/plain": [
       "        date  Bhal  month  year\n",
       "0  2023-5-30     5      5  2023"
      ]
     },
     "execution_count": 120,
     "metadata": {},
     "output_type": "execute_result"
    }
   ],
   "source": [
    "df4"
   ]
  },
  {
   "cell_type": "code",
   "execution_count": 5,
   "id": "a50b3303-ec29-4a55-bb54-7e3ada2f529b",
   "metadata": {},
   "outputs": [
    {
     "name": "stdin",
     "output_type": "stream",
     "text": [
      "FROM   Enter the date in the form of yyyy-mm-dd 2023-12-11\n",
      "TO Enterthe date that you want  2022-11-23\n"
     ]
    },
    {
     "data": {
      "text/plain": [
       "Timedelta('383 days 00:00:00')"
      ]
     },
     "execution_count": 5,
     "metadata": {},
     "output_type": "execute_result"
    }
   ],
   "source": [
    "'''Q8. Write a Python program that takes in two dates as input (in the format YYYY-MM-DD) and\n",
    "calculates the difference between them in days, hours, and minutes using Pandas time delta. The\n",
    "program should prompt the user to enter the dates and display the result.'''\n",
    "import pandas as pd\n",
    "in_dt_from=input(\"FROM   Enter the date in the form of yyyy-mm-dd\")\n",
    "in_dt_to=input (\"TO Enterthe date that you want \")\n",
    "dt1=pd.to_datetime(in_dt_from)\n",
    "dt2=pd.to_datetime(in_dt_to)\n",
    "dt=dt1-dt2\n",
    "dt"
   ]
  },
  {
   "cell_type": "code",
   "execution_count": 6,
   "id": "d237d7bb-b3d9-4b7c-a01a-bfc77c50c9e2",
   "metadata": {},
   "outputs": [
    {
     "data": {
      "text/plain": [
       "'Q9. Write a Python program that reads a CSV file containing categorical data and converts a specified\\ncolumn to a categorical data type. The program should prompt the user to enter the file path, column\\nname, and category order, and then display the sorted data.'"
      ]
     },
     "execution_count": 6,
     "metadata": {},
     "output_type": "execute_result"
    }
   ],
   "source": [
    "'''Q9. Write a Python program that reads a CSV file containing categorical data and converts a specified\n",
    "column to a categorical data type. The program should prompt the user to enter the file path, column\n",
    "name, and category order, and then display the sorted data.'''\n",
    "\n"
   ]
  },
  {
   "cell_type": "code",
   "execution_count": 13,
   "id": "42861383-bba4-4c3d-ac61-4b47da864e6c",
   "metadata": {},
   "outputs": [
    {
     "data": {
      "text/plain": [
       "<AxesSubplot: xlabel='Order Priority'>"
      ]
     },
     "execution_count": 13,
     "metadata": {},
     "output_type": "execute_result"
    },
    {
     "data": {
      "image/png": "[encoded data removed]",
      "text/plain": [
       "<Figure size 640x480 with 1 Axes>"
      ]
     },
     "metadata": {},
     "output_type": "display_data"
    }
   ],
   "source": [
    "'''Q10. Write a Python program that reads a CSV file containing sales data for different products and\n",
    "visualizes the data using a stacked bar chart to show the sales of each product category over time. The\n",
    "program should prompt the user to enter the file path and display the chart.'''\n",
    "\n",
    "\n",
    "import pandas as pd\n",
    "df=pd.read_csv(\"sale.csv\")\n",
    "df.plot.bar(x='Order Priority')"
   ]
  },
  {
   "cell_type": "code",
   "execution_count": 30,
   "id": "0e57551b-4d29-401d-a581-09b362e2bb19",
   "metadata": {},
   "outputs": [
    {
     "data": {
      "text/html": [
       "<div>\n",
       "<style scoped>\n",
       "    .dataframe tbody tr th:only-of-type {\n",
       "        vertical-align: middle;\n",
       "    }\n",
       "\n",
       "    .dataframe tbody tr th {\n",
       "        vertical-align: top;\n",
       "    }\n",
       "\n",
       "    .dataframe thead th {\n",
       "        text-align: right;\n",
       "    }\n",
       "</style>\n",
       "<table border=\"1\" class=\"dataframe\">\n",
       "  <thead>\n",
       "    <tr style=\"text-align: right;\">\n",
       "      <th></th>\n",
       "      <th>gender</th>\n",
       "      <th>race/ethnicity</th>\n",
       "      <th>parental level of education</th>\n",
       "      <th>lunch</th>\n",
       "      <th>test preparation course</th>\n",
       "      <th>math score</th>\n",
       "      <th>reading score</th>\n",
       "      <th>writing score</th>\n",
       "      <th>mean_mathscore</th>\n",
       "      <th>median_mathscore</th>\n",
       "      <th>mode_mathscore</th>\n",
       "    </tr>\n",
       "  </thead>\n",
       "  <tbody>\n",
       "    <tr>\n",
       "      <th>0</th>\n",
       "      <td>male</td>\n",
       "      <td>group C</td>\n",
       "      <td>high school</td>\n",
       "      <td>free/reduced</td>\n",
       "      <td>completed</td>\n",
       "      <td>54</td>\n",
       "      <td>65</td>\n",
       "      <td>65</td>\n",
       "      <td>66.7</td>\n",
       "      <td>73.0</td>\n",
       "      <td>34</td>\n",
       "    </tr>\n",
       "    <tr>\n",
       "      <th>1</th>\n",
       "      <td>male</td>\n",
       "      <td>group E</td>\n",
       "      <td>some high school</td>\n",
       "      <td>standard</td>\n",
       "      <td>none</td>\n",
       "      <td>58</td>\n",
       "      <td>58</td>\n",
       "      <td>46</td>\n",
       "      <td>66.7</td>\n",
       "      <td>73.0</td>\n",
       "      <td>45</td>\n",
       "    </tr>\n",
       "    <tr>\n",
       "      <th>2</th>\n",
       "      <td>female</td>\n",
       "      <td>group C</td>\n",
       "      <td>some college</td>\n",
       "      <td>standard</td>\n",
       "      <td>none</td>\n",
       "      <td>74</td>\n",
       "      <td>80</td>\n",
       "      <td>79</td>\n",
       "      <td>66.7</td>\n",
       "      <td>73.0</td>\n",
       "      <td>54</td>\n",
       "    </tr>\n",
       "    <tr>\n",
       "      <th>3</th>\n",
       "      <td>female</td>\n",
       "      <td>group B</td>\n",
       "      <td>some college</td>\n",
       "      <td>standard</td>\n",
       "      <td>none</td>\n",
       "      <td>75</td>\n",
       "      <td>87</td>\n",
       "      <td>84</td>\n",
       "      <td>66.7</td>\n",
       "      <td>73.0</td>\n",
       "      <td>58</td>\n",
       "    </tr>\n",
       "    <tr>\n",
       "      <th>4</th>\n",
       "      <td>female</td>\n",
       "      <td>group B</td>\n",
       "      <td>some high school</td>\n",
       "      <td>free/reduced</td>\n",
       "      <td>none</td>\n",
       "      <td>34</td>\n",
       "      <td>46</td>\n",
       "      <td>40</td>\n",
       "      <td>66.7</td>\n",
       "      <td>73.0</td>\n",
       "      <td>72</td>\n",
       "    </tr>\n",
       "    <tr>\n",
       "      <th>5</th>\n",
       "      <td>female</td>\n",
       "      <td>group E</td>\n",
       "      <td>associate's degree</td>\n",
       "      <td>free/reduced</td>\n",
       "      <td>completed</td>\n",
       "      <td>92</td>\n",
       "      <td>100</td>\n",
       "      <td>100</td>\n",
       "      <td>66.7</td>\n",
       "      <td>73.0</td>\n",
       "      <td>74</td>\n",
       "    </tr>\n",
       "    <tr>\n",
       "      <th>6</th>\n",
       "      <td>male</td>\n",
       "      <td>group B</td>\n",
       "      <td>associate's degree</td>\n",
       "      <td>standard</td>\n",
       "      <td>completed</td>\n",
       "      <td>78</td>\n",
       "      <td>77</td>\n",
       "      <td>77</td>\n",
       "      <td>66.7</td>\n",
       "      <td>73.0</td>\n",
       "      <td>75</td>\n",
       "    </tr>\n",
       "    <tr>\n",
       "      <th>7</th>\n",
       "      <td>male</td>\n",
       "      <td>group C</td>\n",
       "      <td>associate's degree</td>\n",
       "      <td>standard</td>\n",
       "      <td>completed</td>\n",
       "      <td>85</td>\n",
       "      <td>70</td>\n",
       "      <td>80</td>\n",
       "      <td>66.7</td>\n",
       "      <td>73.0</td>\n",
       "      <td>78</td>\n",
       "    </tr>\n",
       "    <tr>\n",
       "      <th>8</th>\n",
       "      <td>male</td>\n",
       "      <td>group C</td>\n",
       "      <td>high school</td>\n",
       "      <td>free/reduced</td>\n",
       "      <td>completed</td>\n",
       "      <td>45</td>\n",
       "      <td>48</td>\n",
       "      <td>49</td>\n",
       "      <td>66.7</td>\n",
       "      <td>73.0</td>\n",
       "      <td>85</td>\n",
       "    </tr>\n",
       "    <tr>\n",
       "      <th>9</th>\n",
       "      <td>male</td>\n",
       "      <td>group D</td>\n",
       "      <td>associate's degree</td>\n",
       "      <td>standard</td>\n",
       "      <td>completed</td>\n",
       "      <td>72</td>\n",
       "      <td>62</td>\n",
       "      <td>63</td>\n",
       "      <td>66.7</td>\n",
       "      <td>73.0</td>\n",
       "      <td>92</td>\n",
       "    </tr>\n",
       "  </tbody>\n",
       "</table>\n",
       "</div>"
      ],
      "text/plain": [
       "   gender race/ethnicity parental level of education         lunch  \\\n",
       "0    male        group C                 high school  free/reduced   \n",
       "1    male        group E            some high school      standard   \n",
       "2  female        group C                some college      standard   \n",
       "3  female        group B                some college      standard   \n",
       "4  female        group B            some high school  free/reduced   \n",
       "5  female        group E          associate's degree  free/reduced   \n",
       "6    male        group B          associate's degree      standard   \n",
       "7    male        group C          associate's degree      standard   \n",
       "8    male        group C                 high school  free/reduced   \n",
       "9    male        group D          associate's degree      standard   \n",
       "\n",
       "  test preparation course  math score  reading score  writing score  \\\n",
       "0               completed          54             65             65   \n",
       "1                    none          58             58             46   \n",
       "2                    none          74             80             79   \n",
       "3                    none          75             87             84   \n",
       "4                    none          34             46             40   \n",
       "5               completed          92            100            100   \n",
       "6               completed          78             77             77   \n",
       "7               completed          85             70             80   \n",
       "8               completed          45             48             49   \n",
       "9               completed          72             62             63   \n",
       "\n",
       "   mean_mathscore  median_mathscore  mode_mathscore  \n",
       "0            66.7              73.0              34  \n",
       "1            66.7              73.0              45  \n",
       "2            66.7              73.0              54  \n",
       "3            66.7              73.0              58  \n",
       "4            66.7              73.0              72  \n",
       "5            66.7              73.0              74  \n",
       "6            66.7              73.0              75  \n",
       "7            66.7              73.0              78  \n",
       "8            66.7              73.0              85  \n",
       "9            66.7              73.0              92  "
      ]
     },
     "execution_count": 30,
     "metadata": {},
     "output_type": "execute_result"
    }
   ],
   "source": [
    "'''Q11. You are given a CSV file containing student data that includes the student ID and their test score. Write\n",
    "a Python program that reads the CSV file, calculates the mean, median, and mode of the test scores, and\n",
    "displays the results in a table.'''\n",
    "\n",
    "import pandas as pd\n",
    "df=pd.read_csv('exams.csv')\n",
    "df['mean_mathscore']=df[\"math score\"].mean()\n",
    "df['median_mathscore']=df[\"math score\"].median()\n",
    "df['mode_mathscore']=df[\"math score\"].mode()\n",
    "df"
   ]
  },
  {
   "cell_type": "code",
   "execution_count": null,
   "id": "2500222f-86de-4242-8d86-90106ec6847f",
   "metadata": {},
   "outputs": [],
   "source": []
  }
 ],
 "metadata": {
  "kernelspec": {
   "display_name": "Python 3 (ipykernel)",
   "language": "python",
   "name": "python3"
  },
  "language_info": {
   "codemirror_mode": {
    "name": "ipython",
    "version": 3
   },
   "file_extension": ".py",
   "mimetype": "text/x-python",
   "name": "python",
   "nbconvert_exporter": "python",
   "pygments_lexer": "ipython3",
   "version": "3.10.6"
  }
 },
 "nbformat": 4,
 "nbformat_minor": 5
}

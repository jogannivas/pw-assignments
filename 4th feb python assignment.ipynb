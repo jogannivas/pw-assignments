{
 "cells": [
  {
   "cell_type": "code",
   "execution_count": 45,
   "id": "481a3013-a454-47b6-9dfe-c378e75ae652",
   "metadata": {},
   "outputs": [
    {
     "data": {
      "text/plain": [
       "[('Sachin Tendulkar', 34357),\n",
       " ('Ricky Ponting', 27483),\n",
       " ('Jack Kallis', 25534),\n",
       " ('Virat Kohli', 24936)]"
      ]
     },
     "execution_count": 45,
     "metadata": {},
     "output_type": "execute_result"
    }
   ],
   "source": [
    "'''Q1. Create a python program to sort the given list of tuples based on integer value using a\n",
    "lambda function.\n",
    "[('Sachin Tendulkar', 34357), ('Ricky Ponting', 27483), ('Jack Kallis', 25534), ('Virat Kohli', 24936)]'''\n",
    "\n",
    "t=[('Sachin Tendulkar', 34357), ('Ricky Ponting', 27483), ('Jack Kallis', 25534), ('Virat Kohli', 24936)]\n",
    "m=t.sort\n",
    "t"
   ]
  },
  {
   "cell_type": "code",
   "execution_count": 8,
   "id": "8936ea27-f078-4efc-945d-8acfd5e22bc7",
   "metadata": {},
   "outputs": [
    {
     "name": "stdout",
     "output_type": "stream",
     "text": [
      "[1, 4, 9, 16, 25, 36, 49, 64, 81, 100]\n"
     ]
    }
   ],
   "source": [
    "'''Q2. Write a Python Program to find the squares of all the numbers in the given list of integers using\n",
    "lambda and map functions.\n",
    "[1, 2, 3, 4, 5, 6, 7, 8, 9, 10]'''\n",
    "\n",
    "lu=[1, 2, 3, 4, 5, 6, 7, 8, 9, 10]\n",
    "\n",
    "lu_sq=[]\n",
    "for i in lu:\n",
    "    lu_sq.append(i*i)\n",
    "print (lu_sq)"
   ]
  },
  {
   "cell_type": "code",
   "execution_count": 48,
   "id": "18c6e377-92cc-4465-b761-4d52193b381b",
   "metadata": {},
   "outputs": [
    {
     "data": {
      "text/plain": [
       "('[',\n",
       " '1',\n",
       " ',',\n",
       " ' ',\n",
       " '2',\n",
       " ',',\n",
       " ' ',\n",
       " '3',\n",
       " ',',\n",
       " ' ',\n",
       " '4',\n",
       " ',',\n",
       " ' ',\n",
       " '5',\n",
       " ',',\n",
       " ' ',\n",
       " '6',\n",
       " ',',\n",
       " ' ',\n",
       " '7',\n",
       " ',',\n",
       " ' ',\n",
       " '8',\n",
       " ',',\n",
       " ' ',\n",
       " '9',\n",
       " ',',\n",
       " ' ',\n",
       " '1',\n",
       " '0',\n",
       " ']')"
      ]
     },
     "execution_count": 48,
     "metadata": {},
     "output_type": "execute_result"
    }
   ],
   "source": [
    "'''Q3. Write a python program to convert the given list of integers into a tuple of strings. Use map and\n",
    "lambda functions\n",
    "Given String: [1, 2, 3, 4, 5, 6, 7, 8, 9, 10]\n",
    "Expected output: ('1', '2', '3', '4', '5', '6', '7', '8', '9', '10')'''\n",
    "\n",
    "string_list=[1, 2, 3, 4, 5, 6, 7, 8, 9, 10]\n",
    "\n",
    "tuple(str(string_list))"
   ]
  },
  {
   "cell_type": "code",
   "execution_count": 25,
   "id": "c4e1ff89-ad81-4fc9-8d57-a91960922fb0",
   "metadata": {},
   "outputs": [
    {
     "name": "stdout",
     "output_type": "stream",
     "text": [
      "So the produced list is  [1, 2, 3, 4, 5, 6, 7, 8, 9, 10, 11, 12, 13, 14, 15, 16, 17, 18, 19, 20, 21, 22, 23, 24, 25]\n"
     ]
    },
    {
     "data": {
      "text/plain": [
       "15511210043330985984000000"
      ]
     },
     "execution_count": 25,
     "metadata": {},
     "output_type": "execute_result"
    }
   ],
   "source": [
    "'''Q4. Write a python program using reduce function to compute the product of a list containing numbers\n",
    "from 1 to 25.'''\n",
    "\n",
    "from functools import reduce\n",
    "l=[]\n",
    "for i in range (1,26):\n",
    "    l.append(i)\n",
    "print (\"So the produced list is \" ,l)\n",
    "reduce(lambda x,y:x*y,l)\n"
   ]
  },
  {
   "cell_type": "code",
   "execution_count": 39,
   "id": "df663ea1-27b2-4180-a249-475f4220fce9",
   "metadata": {},
   "outputs": [
    {
     "data": {
      "text/plain": [
       "[2, 6, 60, 90, 120, 46]"
      ]
     },
     "execution_count": 39,
     "metadata": {},
     "output_type": "execute_result"
    }
   ],
   "source": [
    "'''Q5. Write a python program to filter the numbers in a given list that are divisible by 2 and 3 using the\n",
    "filter function.\n",
    "[2, 3, 6, 9, 27, 60, 90, 120, 55, 46]'''\n",
    "\n",
    "l=[2, 3, 6, 9, 27, 60, 90, 120, 55, 46]\n",
    "l1=[]\n",
    "v=filter(lambda x : x%2==0 & x%3==0 ,l)\n",
    "for i in v:\n",
    "    l1.append(i)\n",
    "l1"
   ]
  },
  {
   "cell_type": "code",
   "execution_count": 43,
   "id": "bcb712e2-a11f-450a-a610-a6013a7930c5",
   "metadata": {},
   "outputs": [
    {
     "data": {
      "text/plain": [
       "['php', 'aba', 'radar', 'level']"
      ]
     },
     "execution_count": 43,
     "metadata": {},
     "output_type": "execute_result"
    }
   ],
   "source": [
    "'''Q6. Write a python program to find palindromes in the given list of strings using lambda and filter\n",
    "function.\n",
    "['python', 'php', 'aba', 'radar', 'level']'''\n",
    "\n",
    "l1=['python', 'php', 'aba', 'radar', 'level']\n",
    "l2=[]\n",
    "v=filter(lambda x : x==x[::-1],l1)\n",
    "for i in v:\n",
    "    l2.append(i)\n",
    "l2"
   ]
  },
  {
   "cell_type": "code",
   "execution_count": null,
   "id": "8fcece38-46a8-4fc5-b7f9-acf8f7d52326",
   "metadata": {},
   "outputs": [],
   "source": []
  }
 ],
 "metadata": {
  "kernelspec": {
   "display_name": "Python 3 (ipykernel)",
   "language": "python",
   "name": "python3"
  },
  "language_info": {
   "codemirror_mode": {
    "name": "ipython",
    "version": 3
   },
   "file_extension": ".py",
   "mimetype": "text/x-python",
   "name": "python",
   "nbconvert_exporter": "python",
   "pygments_lexer": "ipython3",
   "version": "3.10.6"
  }
 },
 "nbformat": 4,
 "nbformat_minor": 5
}

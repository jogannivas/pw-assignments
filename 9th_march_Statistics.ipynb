{
 "cells": [
  {
   "cell_type": "markdown",
   "id": "4740cf1b-46ba-4a8a-b5d6-286b96332a3a",
   "metadata": {},
   "source": [
    "Q1: What are the Probability Mass Function (PMF) and Probability Density Function (PDF)? Explain with\n",
    "an example."
   ]
  },
  {
   "cell_type": "raw",
   "id": "23ba211e-5fa8-43b7-b3fd-32eb2ad36b6d",
   "metadata": {},
   "source": [
    "Probability Distribution can be of two types: – Discrete and Continuous. Discrete distributions are for the variables which take only a limited number of values within a range. \n",
    "There are two types of probability distributions: Discrete probability distributions. Continuous probability distributions.\n",
    "\n",
    "\n",
    "I toss a fair coin twice\n",
    "let X be defined as the number of heads I observe. Find the range of X\n",
    ", RX\n",
    ", as well as its probability mass function PX\n",
    ".\n",
    "\n",
    "Sol:-\n",
    "S={HH,HT,TH,TT}.\n",
    "The number of heads will be 0\n",
    "so RX={0,1,2}.\n",
    "Since this is a finite (and thus a countable) set, the random variable X\n",
    " is a discrete random variable. Next, we need to find PMF of X\n",
    ". The PMF is defined as\n",
    "PX(k)=P(X=k) for k=0,1,2.\n",
    "We have\n",
    "PX(0)=P(X=0)=P(TT)=1/4,\n",
    "PX(1)=P(X=1)=P({HT,TH})=1/4+1/4=1/2,\n",
    "PX(2)=P(X=2)=P(HH)=1/4."
   ]
  },
  {
   "cell_type": "markdown",
   "id": "bfeeb590-2f0b-4f0d-82fa-ebb7ed48572c",
   "metadata": {},
   "source": [
    "Q2: What is Cumulative Density Function (CDF)? Explain with an example. Why CDF is used?"
   ]
  },
  {
   "cell_type": "raw",
   "id": "40037457-04fb-4777-81be-b10e96d39683",
   "metadata": {},
   "source": [
    "The cumulative distribution function is used to describe the probability distribution of random variables. It can be used to describe the probability for a discrete, continuous or mixed variable. It is obtained by summing up the probability density function and getting the cumulative probability for a random variable.\n",
    "\n",
    "\n",
    "Given the CDF F(x) for the discrete random variable X, \n",
    "\n",
    "Find: (a) P(X = 3) (b) P(X > 2)\n",
    "\n",
    "x  fx\n",
    "\n",
    "1  .2\n",
    "2  .32\n",
    "3  .67\n",
    "4  .9\n",
    "5  1\n",
    "FX(x) = P(X ≤ x)(a) P(X = 3)\n",
    "F(3) = P(X  3) = P(X = 1) + P(X = 2) + P(X = 3)\n",
    "\n",
    "P(X > 2)\n",
    "\n",
    "P(X > 2) = 1 - P(X ≤ 2)\n",
    "\n",
    "P(X > 2) = 1 - F(2)\n",
    "\n",
    "P(X > 2) = 1 - 0.32P\n",
    "\n",
    "(X > 2) = 0.87"
   ]
  },
  {
   "cell_type": "markdown",
   "id": "b7890662-8938-46a0-bd11-dcc64c1f5a61",
   "metadata": {},
   "source": [
    "Q3: What are some examples of situations where the normal distribution might be used as a model?\n",
    "Explain how the parameters of the normal distribution relate to the shape of the distribution."
   ]
  },
  {
   "cell_type": "markdown",
   "id": "b0067fe4-e664-4cb4-8576-50107f2f5fee",
   "metadata": {},
   "source": [
    "Height\n",
    "Rolling \n",
    "Tossing A Coin\n",
    "IQ\n",
    "Technical Stock Market\n",
    "\n",
    "The parameters determine the shape and probabilities of the distribution. The shape of the distribution changes as the parameter values change."
   ]
  },
  {
   "cell_type": "markdown",
   "id": "80503731-ee6f-49d3-929e-2e47a2f91e8a",
   "metadata": {},
   "source": [
    "Q4: Explain the importance of Normal Distribution. Give a few real-life examples of Normal\n",
    "Distribution."
   ]
  },
  {
   "cell_type": "raw",
   "id": "eaaf8536-c23d-460f-9f13-c6fe3aeebe13",
   "metadata": {},
   "source": [
    "It is the most important probability distribution in statistics because it accurately describes the distribution of values for many natural phenomena.\n",
    "\n",
    " Height, birth weight, reading ability, job satisfaction are the example of Normal Distribution."
   ]
  },
  {
   "cell_type": "markdown",
   "id": "c64cfde0-5915-4f91-9e07-d42e7ee144ef",
   "metadata": {},
   "source": [
    "Q5: What is Bernaulli Distribution? Give an Example. What is the difference between Bernoulli\n",
    "Distribution and Binomial Distribution?"
   ]
  },
  {
   "cell_type": "raw",
   "id": "cef4bb1f-c80a-48c4-9ebb-cf28e1ccedca",
   "metadata": {},
   "source": [
    "Bernoulli distribution is a discrete probability distribution. It describes the probability of achieving a “success” or “failure” from a Bernoulli trial. A Bernoulli trial is an event that has only two possible outcomes (success or failure).\n",
    "The Bernoulli distribution represents the success or failure of a single Bernoulli trial. The Binomial Distribution represents the number of successes and failures in n independent Bernoulli trials for some given value of n."
   ]
  },
  {
   "cell_type": "markdown",
   "id": "d9f244a7-8216-4d78-bc58-b1595a7f062a",
   "metadata": {},
   "source": [
    "Q6. Consider a dataset with a mean of 50 and a standard deviation of 10. If we assume that the dataset\n",
    "is normally distributed, what is the probability that a randomly selected observation will be greater\n",
    "than 60? Use the appropriate formula and show your calculations."
   ]
  },
  {
   "cell_type": "raw",
   "id": "c2709851-3b90-4603-86bc-c07e1706f9d3",
   "metadata": {},
   "source": [
    "Here U=50\n",
    "row=10\n",
    "x=60\n",
    "so zscore= x-U/row\n",
    "\n",
    "60-50/10=1\n",
    "and value of 1 in z table is =0.53983"
   ]
  },
  {
   "cell_type": "markdown",
   "id": "6013148a-7c95-4c36-b3f4-83ab1506693a",
   "metadata": {},
   "source": [
    "Q7: Explain uniform Distribution with an example."
   ]
  },
  {
   "cell_type": "raw",
   "id": "2ebb03c4-b8ce-4cee-932e-de132a206314",
   "metadata": {},
   "source": [
    "In statistics, uniform distribution refers to a type of probability distribution in which all outcomes are equally likely. A deck of cards has within it uniform distributions because the likelihood of drawing a heart, a club, a diamonnd etc."
   ]
  },
  {
   "cell_type": "markdown",
   "id": "4c8e9767-e7c3-4723-8a26-87275e9a50bc",
   "metadata": {},
   "source": [
    "Q8: What is the z score? State the importance of the z score."
   ]
  },
  {
   "cell_type": "raw",
   "id": "624d5d0e-a81d-41f6-a0c3-47915edbefac",
   "metadata": {},
   "source": [
    "The z-score shows the number of standard deviations a given data point lies from the mean. So, standard deviation must be calculated first because the z-score uses it to communicate a data point's variability."
   ]
  },
  {
   "cell_type": "markdown",
   "id": "d206e837-2836-4cee-a0d8-573c8f342c45",
   "metadata": {},
   "source": [
    "Q9: What is Central Limit Theorem? State the significance of the Central Limit Theorem."
   ]
  },
  {
   "cell_type": "raw",
   "id": "177d123b-5443-4cb8-8951-bfac006baef2",
   "metadata": {},
   "source": [
    "The central limit theorem (CLT) states that the distribution of sample means approximates a normal distribution as the sample size gets larger, regardless of the population's distribution.\n",
    "\n",
    " The central limit theorem is useful when analyzing large data sets because it allows one to assume that the sampling distribution of the mean will be normally-distributed in most cases. This allows for easier statistical analysis and inference."
   ]
  },
  {
   "cell_type": "markdown",
   "id": "64fd4074-1d0e-4348-901a-13cd34808b05",
   "metadata": {},
   "source": [
    "Q10: State the assumptions of the Central Limit Theorem."
   ]
  },
  {
   "cell_type": "code",
   "execution_count": null,
   "id": "80867a92-2daf-4f22-b096-d848ed9e6c47",
   "metadata": {},
   "outputs": [],
   "source": []
  }
 ],
 "metadata": {
  "kernelspec": {
   "display_name": "Python 3 (ipykernel)",
   "language": "python",
   "name": "python3"
  },
  "language_info": {
   "codemirror_mode": {
    "name": "ipython",
    "version": 3
   },
   "file_extension": ".py",
   "mimetype": "text/x-python",
   "name": "python",
   "nbconvert_exporter": "python",
   "pygments_lexer": "ipython3",
   "version": "3.10.6"
  }
 },
 "nbformat": 4,
 "nbformat_minor": 5
}

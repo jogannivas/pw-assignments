{
 "cells": [
  {
   "cell_type": "code",
   "execution_count": 21,
   "id": "2ff03d17-73e5-4beb-ad0f-45d52a003298",
   "metadata": {},
   "outputs": [
    {
     "name": "stdout",
     "output_type": "stream",
     "text": [
      "[44, 55, 66, 34, 56, 78, 89, 34, 1, 2, 3, 1, 4, 56, 1, 2, 3, 4]\n"
     ]
    }
   ],
   "source": [
    "'''Q1.\n",
    "Create a function which will take a list as an argument and return the product of all the numbers\n",
    "after creating a flat list.\n",
    "Use the below-given list as an argument for your function.\n",
    "\n",
    "list1 = [1,2,3,4, [44,55,66, True], False, (34,56,78,89,34), {1,2,3,3,2,1}, {1:34, \"key2\": [55, 67, 78, 89], 4: (45,\n",
    "22, 61, 34)}, [56, 'data science'], 'Machine Learning']\n",
    "Note: you must extract numeric keys and values of the dictionary also.'''\n",
    "\n",
    "\n",
    "list1 = [1,2,3,4, [44,55,66, True], False, (34,56,78,89,34), {1,2,3,3,2,1}, {1:34, \"key2\": [55, 67, 78, 89], 4: (45,\n",
    "22, 61, 34)}, [56, 'data science'], 'Machine Learning']\n",
    "list2=[]\n",
    "list3=[]\n",
    "list4=[]\n",
    "list5=[]\n",
    "list6=[]\n",
    "\n",
    "for i in list1:\n",
    "    if (type(i)!=int):\n",
    "        list2.append(i)\n",
    "    else:\n",
    "        list3.append(i)#integerrrrrrr\n",
    "for i in list2:\n",
    "    if (type(i)==list or type(i)==tuple or type(i)== dict or type(i)==set or type(i)== dict):\n",
    "        for j in i:\n",
    "            if (type(j)==int):\n",
    "                list5.append(j)#integerrrrrr\n",
    "            else:\n",
    "                list6.append(j)\n",
    "print (list5+list3)\n"
   ]
  },
  {
   "cell_type": "code",
   "execution_count": 55,
   "id": "ddfd5f8c-e06e-42d6-abd0-ffc92ee6712c",
   "metadata": {},
   "outputs": [
    {
     "data": {
      "text/plain": [
       "'i$wznt$to$yexome$z$dztz$sxientist.'"
      ]
     },
     "execution_count": 55,
     "metadata": {},
     "output_type": "execute_result"
    }
   ],
   "source": [
    "'''Q2. Write a python program for encrypting a message sent to you by your friend. The logic of encryption\n",
    "should be such that, for a the output should be z. For b, the output should be y. For c, the output should\n",
    "be x respectively. Also, the whitespace should be replaced with a dollar sign. Keep the punctuation\n",
    "marks unchanged.\n",
    "Input Sentence: I want to become a Data Scientist.\n",
    "Encrypt the above input sentence using the program you just created.\n",
    "Note: Convert the given input sentence into lowercase before encrypting. The final output should be\n",
    "lowercase.'''\n",
    "\n",
    "s= \"I want to become a Data Scientist.\"\n",
    "s1=s.lower()\n",
    "for i in s1:\n",
    "    if (i==\"a\"):\n",
    "        s2=s1.replace('a','z')\n",
    "    elif (i==\"b\"):\n",
    "        s3=s2.replace('b','y')\n",
    "    elif (i==\"c\"):\n",
    "        s4=s3.replace('c','x')\n",
    "    elif (i==' '):\n",
    "        s5=s4.replace(' ','$')\n",
    "    \n",
    "        \n",
    "s5"
   ]
  },
  {
   "cell_type": "code",
   "execution_count": null,
   "id": "dcbe3675-7f7d-42c5-bceb-157484f2b92b",
   "metadata": {},
   "outputs": [],
   "source": []
  }
 ],
 "metadata": {
  "kernelspec": {
   "display_name": "Python 3 (ipykernel)",
   "language": "python",
   "name": "python3"
  },
  "language_info": {
   "codemirror_mode": {
    "name": "ipython",
    "version": 3
   },
   "file_extension": ".py",
   "mimetype": "text/x-python",
   "name": "python",
   "nbconvert_exporter": "python",
   "pygments_lexer": "ipython3",
   "version": "3.10.6"
  }
 },
 "nbformat": 4,
 "nbformat_minor": 5
}

{
 "cells": [
  {
   "cell_type": "markdown",
   "id": "fe1f72be-20ba-473c-afb4-eaa2379994cc",
   "metadata": {},
   "source": [
    "'''Q1. What is Statistics?'''\n",
    "\n",
    "\n",
    "'''Statistics is the study and manipulation of data, including ways to gather, review, analyze, and draw conclusions from data. The two major areas of statistics are descriptive and inferential statistics.'''"
   ]
  },
  {
   "cell_type": "markdown",
   "id": "eb952002-d01c-4fc5-a90a-6302b5506fdd",
   "metadata": {},
   "source": [
    "'''Q2. Define the different types of statistics and give an example of when each type might be used.'''\n",
    "\n",
    "There are two kinds of Statistics, which are descriptive Statistics and inferential Statistics. In descriptive Statistics, the Data or Collection Data are described in a summarized way, whereas in inferential Statistics, we make use of it in order to explain the descriptive kind.\n"
   ]
  },
  {
   "cell_type": "markdown",
   "id": "49c130f2-548f-4e59-b16e-9c7dca035d10",
   "metadata": {},
   "source": [
    "Q3. What are the different types of data and how do they differ from each other? Provide an example of\n",
    "each type of data.\n",
    "\n",
    "1.Qualitative Data Type\n",
    "\n",
    "Nominal\n",
    "Ordinal\n",
    "2.Quantitative Data Type\n",
    "\n",
    "Discrete\n",
    "Continuous"
   ]
  },
  {
   "cell_type": "markdown",
   "id": "8abbec2e-49b3-456e-a3c0-7d590c0dd2a5",
   "metadata": {},
   "source": [
    "Q4. Categorise the following datasets with respect to quantitative and qualitative data types:\n",
    "(i) Grading in exam: A+, A, B+, B, C+, C, D, E ...............IS ORDINAL DATA\n",
    "(ii) Colour of mangoes: yellow, green, orange, red ..............IS NOMINAL DATA\n",
    "(iii) Height data of a class: [178.9, 179, 179.5, 176, 177.2, 178.3, 175.8,...] .............IS CONTINOUS\n",
    "(iv) Number of mangoes exported by a farm: [500, 600, 478, 672, .............IS DISCRETE"
   ]
  },
  {
   "cell_type": "markdown",
   "id": "dd184e95-cec6-4fe8-be7f-fe217d0ec40e",
   "metadata": {},
   "source": [
    "Q5. Explain the concept of levels of measurement and give an example of a variable for each level.\n",
    "\n",
    "There are four main levels of measurement: nominal, ordinal, interval, and ratio.\n",
    "\n",
    "The nominal scale simply categorizes variables according to qualitative labels (or names).\n",
    "The ordinal scale also categorizes variables into labeled groups, and these categories have an order or hierarchy to them. \n",
    "The interval scale is a numerical scale which labels and orders variables, with a known, evenly spaced interval between each     of the values.\n",
    "The ratio scale is exactly the same as the interval scale, with one key difference: The ratio scale has what’s known as a       “true zero.”"
   ]
  },
  {
   "cell_type": "markdown",
   "id": "cfdb391d-4181-4828-a78d-40a53d3bf495",
   "metadata": {},
   "source": [
    "Q6. Why is it important to understand the level of measurement when analyzing data? Provide an\n",
    "example to illustrate your answer.\n",
    "\n",
    "It is important to understand the level of measurement of variables in research, because the level of measurement determines the type of statistical analysis that can be conducted, and, therefore, the type of conclusions that can be drawn from the research.\n"
   ]
  },
  {
   "cell_type": "markdown",
   "id": "0b0ceab5-e8fc-41bf-90ba-dc0c78d65dcf",
   "metadata": {},
   "source": [
    "Q7. How nominal data type is different from ordinal data type.\n",
    "\n",
    "Nominal data is classified without a natural order or rank, whereas ordinal data has a predetermined or natural order. On the other hand, numerical or quantitative data will always be a number that can be measured."
   ]
  },
  {
   "cell_type": "markdown",
   "id": "f9b73f0c-8c8d-46b7-b3c8-8e6bd483c930",
   "metadata": {},
   "source": [
    "Q8. Which type of plot can be used to display data in terms of range?\n",
    "\n",
    "Histogram"
   ]
  },
  {
   "cell_type": "markdown",
   "id": "e8487e50-39b9-4051-8ab7-db16ead002fa",
   "metadata": {},
   "source": [
    "Q9. Describe the difference between descriptive and inferential statistics. Give an example of each\n",
    "type of statistics and explain how they are used.\n",
    "\n",
    "Descriptive statistics summarize the characteristics of a data set. Inferential statistics allow you to test a hypothesis or assess whether your data is generalizable to the broader population.\n",
    "\n",
    "example of descriptive :-calculate the mean and standard deviation of the exam marks for the 100 students \n",
    "example of inferential :-making estimates about populations "
   ]
  },
  {
   "cell_type": "markdown",
   "id": "084e732d-e75f-4786-8da5-72e472daa0ad",
   "metadata": {},
   "source": [
    "Q10. What are some common measures of central tendency and variability used in statistics? Explain\n",
    "how each measure can be used to describe a dataset.\n",
    "\n",
    "Measures of central tendency: categories or scores that describe what is \"average\" or \"typical\" of a given distribution. These include the mode, median and mean."
   ]
  },
  {
   "cell_type": "code",
   "execution_count": null,
   "id": "3d169e38-f396-44db-b00f-aef16b93644d",
   "metadata": {},
   "outputs": [],
   "source": []
  }
 ],
 "metadata": {
  "kernelspec": {
   "display_name": "Python 3 (ipykernel)",
   "language": "python",
   "name": "python3"
  },
  "language_info": {
   "codemirror_mode": {
    "name": "ipython",
    "version": 3
   },
   "file_extension": ".py",
   "mimetype": "text/x-python",
   "name": "python",
   "nbconvert_exporter": "python",
   "pygments_lexer": "ipython3",
   "version": "3.10.6"
  }
 },
 "nbformat": 4,
 "nbformat_minor": 5
}

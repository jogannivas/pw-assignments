{
 "cells": [
  {
   "cell_type": "markdown",
   "id": "ceba4368-019c-4683-a89a-88cae1c8b298",
   "metadata": {},
   "source": [
    "Q1- Explain thK following with an example \n",
    "a) Artificial Intelligence\n",
    "b) Machine learning\n",
    "c) Deep Learning"
   ]
  },
  {
   "cell_type": "markdown",
   "id": "27e9e05b-6b4b-4304-a5fa-e58b351194e9",
   "metadata": {},
   "source": [
    "'''\n",
    "    Artificial intelligence is a field, which combines computer science and robust datasets, to enable problem-solving. \n",
    "It also encompasses sub-fields of machine learning and deep learning, which are frequently mentioned in conjunction with artificial intelligence.\n",
    "Google Maps and Ride-Hailing Applications.\n",
    "Face Detection and recognition. Text Editors and Autocorrec are the example of AI.\n",
    "\n",
    "\n",
    "Machine learning is a branch of artificial intelligence (AI) and computer science which focuse on the \n",
    "use of data andalgorithms to imitate the way that humans learn,gradually improving\n",
    "its accuracy.\n",
    "Product recommendations , Email automation and spam filtering are the example of machine learning.\n",
    "\n",
    "\n",
    "A type of machine learning based on artificial neural networks in which multiple layers of processing are used to extract progressively higher level features from data.\n",
    "\n",
    "\n",
    "'''"
   ]
  },
  {
   "cell_type": "markdown",
   "id": "7f093704-3181-4271-ba4c-0d3e85058f50",
   "metadata": {},
   "source": [
    "Q2- What is supervised learning ? List some examples of supervised learning .\n",
    "\n",
    "\n",
    "Supervised learning is a process of providing input data as well as correct output data to the machine learning model.\n",
    "\n",
    "examples of supervised learning include spam filters, fraud detection systems, recommendation engines, and image recognition systems.\n",
    "\n"
   ]
  },
  {
   "cell_type": "markdown",
   "id": "d8245b3e-e52a-47a3-9577-09a75a2d90f2",
   "metadata": {},
   "source": [
    "Q3- What is unsupervised learning ? List some example of  unsupervised learning.\n",
    "\n",
    "Unsupervised learning is when it can provide a set of unlabelled data, which it is required to analyze and find patterns inside. \n",
    "\n",
    "The examples are dimension reduction and clustering.\n"
   ]
  },
  {
   "cell_type": "markdown",
   "id": "c5cd490c-8093-49d7-bd3e-1342984d28a9",
   "metadata": {},
   "source": [
    "Q4- What is the diffarence between  AI, ML, DL, and DS?\n",
    "\n",
    "Data Science involves analysis, visualization, and prediction. It uses different statistical techniques, while AI and Machine Learning implements models to predict future events and makes use of algorithms.\n",
    "\n",
    "ML refers to an AI system that can self-learn based on the algorithm. Systems that get smarter and smarter over time without human intervention is ML. Deep Learning (DL) is a machine learning (ML) applied to large data sets. \n",
    "Most AI work involves ML because intelligent behaviour requires considerable knowledge.\n",
    "\n"
   ]
  },
  {
   "cell_type": "markdown",
   "id": "dd1f7655-e2e7-4df5-8e34-c45c2dd46c87",
   "metadata": {},
   "source": [
    "Q5- What are the main diffarence between unsupervised and semisupervised learning ?\n",
    "\n",
    "Semi-supervised learning aims to label unlabeled data points using knowledge learned from a small number of labeled data points. \n",
    "\n",
    "Unsupervised learning does not have  any labeled outputs, so its goal is to infer the natural structure present within a set of data points\n"
   ]
  },
  {
   "cell_type": "markdown",
   "id": "0c0fc28f-8d0b-4f55-8799-e691d8e2b058",
   "metadata": {},
   "source": [
    "Q6- What is train, test and validation split? Explain the importance of each term.\n",
    "\n",
    "Training data is the set of the data on which the actual training takes place.\n",
    "\n",
    "Validation split helps to improve the model performance by fine-tuning the model after each epoch.\n",
    "\n",
    "The test set informs us about the final accuracy of the model after completing the training phase.\n"
   ]
  },
  {
   "cell_type": "markdown",
   "id": "d309f404-979a-4d7e-9598-ea27c07f8336",
   "metadata": {},
   "source": [
    "Q7- How can unsupervised learning be  used in anomaly detection ?\n",
    "\n",
    "Anomaly detection techniques of unsupervised nature assume that normal data points occur considerably more frequently than anomalous data points. \n",
    "\n",
    "This assumption is used to classify data points that occur less frequently as anomalies. Unsupervised techniques assign each data point a score instead of a label.\n"
   ]
  },
  {
   "cell_type": "markdown",
   "id": "fbcfe3fe-62f9-4169-8df7-af98beb4945d",
   "metadata": {},
   "source": [
    "Q8- List down some commonly used supervised learning algorithms and supervised learning algorithms.\n",
    "\n",
    "Common classification algorithms are linear classifiers, support vector machines (SVM), decision trees, k-nearest neighbor, and random forest, which are described in more detail below. Regression is used to understand the relationship between dependent and independent variables.\n",
    "\n"
   ]
  }
 ],
 "metadata": {
  "kernelspec": {
   "display_name": "Python 3 (ipykernel)",
   "language": "python",
   "name": "python3"
  },
  "language_info": {
   "codemirror_mode": {
    "name": "ipython",
    "version": 3
   },
   "file_extension": ".py",
   "mimetype": "text/x-python",
   "name": "python",
   "nbconvert_exporter": "python",
   "pygments_lexer": "ipython3",
   "version": "3.10.6"
  }
 },
 "nbformat": 4,
 "nbformat_minor": 5
}

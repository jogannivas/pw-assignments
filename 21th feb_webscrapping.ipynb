{
 "cells": [
  {
   "cell_type": "raw",
   "id": "291314a3-d292-4674-a48d-b19331ea6088",
   "metadata": {},
   "source": [
    "Q1. What is Web Scraping? Why is it Used? Give three areas where Web Scraping is used to get data.\n",
    "\n",
    "Web scraping is an automatic method to obtain large amounts of data from websites. Most of this data is unstructured data in an HTML format which is then converted into structured data in a spreadsheet or a database .\n",
    "web scrapping is used in research , eCommerse , marketing ect."
   ]
  },
  {
   "cell_type": "raw",
   "id": "e26373ae-2fd2-4649-9e32-ea3ee39d0f6b",
   "metadata": {},
   "source": [
    "Q2. What are the different methods used for Web Scraping?\n",
    "\n",
    "Various methods by which we can do web scrapping are Text pattern matching and HTTP programming ."
   ]
  },
  {
   "cell_type": "raw",
   "id": "4a51b91d-3190-49a1-babe-d1125935e01f",
   "metadata": {},
   "source": [
    "Q3. What is Beautiful Soup? Why is it used?\n",
    "\n",
    "Beautiful Soup is a Python library that is used for web scraping purposes to pull the data out of HTML and XML files. It creates a parse tree from page source code that can be used to extract data in a hierarchical and more readable manner."
   ]
  },
  {
   "cell_type": "raw",
   "id": "8cfb3f8c-9265-4815-a31e-62790896718c",
   "metadata": {},
   "source": [
    "Q4. Why is flask used in this Web Scraping project?\n",
    "\n",
    "\n",
    "Flask is a lightweight framework to build websites. We'll use this to parse our collected data and display it as HTML in a new HTML file."
   ]
  },
  {
   "cell_type": "raw",
   "id": "32f58e87-6715-4b64-b9c8-926fb92f3222",
   "metadata": {},
   "source": [
    "Q5. Write the names of AWS services used in this project. Also, explain the use of each service.\n",
    "\n"
   ]
  },
  {
   "cell_type": "raw",
   "id": "8aaf67aa-9275-47a3-a8b5-f1f3fb92d5eb",
   "metadata": {},
   "source": [
    "What services have you used in AWS?\n",
    "\n",
    "\n",
    "AWS Cloud Products\n",
    "Compute.\n",
    "Storage.\n",
    "Database.\n",
    "Networking & Content Delivery.\n",
    "Analytics.\n",
    "Machine Learning.\n",
    "Security, Identity, & Compliance.\n",
    "and  using AWS Elastic Beanstalk helps us to deploy and manage web applications with capacity provisioning, app health monitoring, and more."
   ]
  }
 ],
 "metadata": {
  "kernelspec": {
   "display_name": "Python 3 (ipykernel)",
   "language": "python",
   "name": "python3"
  },
  "language_info": {
   "codemirror_mode": {
    "name": "ipython",
    "version": 3
   },
   "file_extension": ".py",
   "mimetype": "text/x-python",
   "name": "python",
   "nbconvert_exporter": "python",
   "pygments_lexer": "ipython3",
   "version": "3.10.6"
  }
 },
 "nbformat": 4,
 "nbformat_minor": 5
}

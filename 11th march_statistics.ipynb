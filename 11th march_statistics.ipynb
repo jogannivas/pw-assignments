{
 "cells": [
  {
   "cell_type": "markdown",
   "id": "ca1d0d2f-66ad-44f4-97b4-178028d69b82",
   "metadata": {},
   "source": [
    "Q1: What is the difference between a t-test and a z-test? Provide an example scenario where you would\n",
    "use each type of test."
   ]
  },
  {
   "cell_type": "code",
   "execution_count": 1,
   "id": "202ead6a-6f58-4cbe-ad63-2453f92a485f",
   "metadata": {},
   "outputs": [
    {
     "data": {
      "text/plain": [
       "\"Z-test is the statistical hypothesis used to determine whether the two samples' means calculated are different if the standard deviation is available and the sample is large. In contrast, the T-test determines how averages of different data sets differ in case the standard deviation or the variance is unknown.\""
      ]
     },
     "execution_count": 1,
     "metadata": {},
     "output_type": "execute_result"
    }
   ],
   "source": [
    "'''Z-test is the statistical hypothesis used to determine whether the two samples' means calculated are different if the standard deviation is available and the sample is large. In contrast, the T-test determines how averages of different data sets differ in case the standard deviation or the variance is unknown.'''"
   ]
  },
  {
   "cell_type": "markdown",
   "id": "778be66b-ee38-4c0f-8c7d-66ff86273e28",
   "metadata": {},
   "source": [
    "Q2: Differentiate between one-tailed and two-tailed tests."
   ]
  },
  {
   "cell_type": "code",
   "execution_count": 2,
   "id": "e25c56f4-3631-485f-a267-0936733af5de",
   "metadata": {},
   "outputs": [
    {
     "data": {
      "text/plain": [
       "'The main difference between one-tailed and two-tailed tests is that one-tailed tests will only have one critical region whereas two-tailed tests will have two critical regions.'"
      ]
     },
     "execution_count": 2,
     "metadata": {},
     "output_type": "execute_result"
    }
   ],
   "source": [
    "'''The main difference between one-tailed and two-tailed tests is that one-tailed tests will only have one critical region whereas two-tailed tests will have two critical regions.'''"
   ]
  },
  {
   "cell_type": "markdown",
   "id": "6ada134b-fd58-4e3a-ba2a-955b3a181758",
   "metadata": {},
   "source": [
    "Q3: Explain the concept of Type 1 and Type 2 errors in hypothesis testing. Provide an example scenario for each type of error."
   ]
  },
  {
   "cell_type": "code",
   "execution_count": 3,
   "id": "e2599968-ca77-4595-bb7c-6d3dd5937a44",
   "metadata": {},
   "outputs": [
    {
     "data": {
      "text/plain": [
       "\"Type I error (false positive): the test result says you have coronavirus, but you actually don't. Type II error (false negative)\""
      ]
     },
     "execution_count": 3,
     "metadata": {},
     "output_type": "execute_result"
    }
   ],
   "source": [
    "'''Type I error (false positive): the test result says you have coronavirus, but you actually don't. Type II error (false negative)'''"
   ]
  },
  {
   "cell_type": "markdown",
   "id": "7cfdb2b5-7404-4c6a-a351-362692977b83",
   "metadata": {},
   "source": [
    "Q4: Explain Bayes's theorem with an example."
   ]
  },
  {
   "cell_type": "code",
   "execution_count": 4,
   "id": "7a36e6d6-0330-4d48-a1ca-a5a99bdac3a0",
   "metadata": {},
   "outputs": [
    {
     "data": {
      "text/plain": [
       "'Bayes theorem gives the probability of an “event” with the given information on “tests”. There is a difference between “events” and “tests”. \\nexample there is a test for liver disease, which is different from actually having the liver disease , an event.'"
      ]
     },
     "execution_count": 4,
     "metadata": {},
     "output_type": "execute_result"
    }
   ],
   "source": [
    "'''Bayes theorem gives the probability of an “event” with the given information on “tests”. There is a difference between “events” and “tests”. \n",
    "example there is a test for liver disease, which is different from actually having the liver disease , an event.'''"
   ]
  },
  {
   "cell_type": "markdown",
   "id": "a820f0ea-4570-4bae-89fe-c5b21dec21fd",
   "metadata": {},
   "source": [
    "Q5: What is a confidence interval? How to calculate the confidence interval, explain with an example."
   ]
  },
  {
   "cell_type": "code",
   "execution_count": 5,
   "id": "439fcc3c-c027-4036-bfab-be01746acc1c",
   "metadata": {},
   "outputs": [
    {
     "data": {
      "text/plain": [
       "'Confidence, in statistics, is another way to describe probability. For example, if we construct a confidence interval with a 95% confidence level, you are confident that 95 out of 100 times the estimate will fall between the upper and lower values specified by the confidence interval.'"
      ]
     },
     "execution_count": 5,
     "metadata": {},
     "output_type": "execute_result"
    }
   ],
   "source": [
    "'''Confidence, in statistics, is another way to describe probability. For example, if we construct a confidence interval with a 95% confidence level, you are confident that 95 out of 100 times the estimate will fall between the upper and lower values specified by the confidence interval.'''"
   ]
  },
  {
   "cell_type": "markdown",
   "id": "00610b62-149f-4278-afeb-61bd8287976a",
   "metadata": {},
   "source": [
    "Q6. Use Bayes' Theorem to calculate the probability of an event occurring given prior knowledge of the\n",
    "event's probability and new evidence. Provide a sample problem and solution."
   ]
  },
  {
   "cell_type": "code",
   "execution_count": 6,
   "id": "5555826c-ba26-4077-821e-bcef7c31b5c2",
   "metadata": {},
   "outputs": [
    {
     "data": {
      "text/plain": [
       "\"\\nAccording to Bayes' Theorem, the probability of event A, given that event B has occurred, is as follows P(A) - P(B| A) P(A| B) = P(A)- P(Bl A)+P(A ) -P(BI A) Use Bayes' Theorem to find P(Al B)\\n\\n\\n\""
      ]
     },
     "execution_count": 6,
     "metadata": {},
     "output_type": "execute_result"
    }
   ],
   "source": [
    "'''\n",
    "According to Bayes' Theorem, the probability of event A, given that event B has occurred, is as follows P(A) - P(B| A) P(A| B) = P(A)- P(Bl A)+P(A ) -P(BI A) Use Bayes' Theorem to find P(Al B)\n",
    "\n",
    "\n",
    "'''"
   ]
  },
  {
   "cell_type": "markdown",
   "id": "cf142818-6547-4a50-8588-28466c5635ef",
   "metadata": {},
   "source": [
    "Q7. Calculate the 95% confidence interval for a sample of data with a mean of 50 and a standard deviation\n",
    "of 5. Interpret the results."
   ]
  },
  {
   "cell_type": "code",
   "execution_count": 7,
   "id": "39320bde-0130-41fb-94a6-beb3fa2c9143",
   "metadata": {},
   "outputs": [
    {
     "data": {
      "text/plain": [
       "'\\nlower CI=50 -(1.96)*5/5= 48.04\\nupper CI=50 +(1.96)*5/5=51.96\\nif the result will come between lower ci and upper ci then we can consider this one\\n'"
      ]
     },
     "execution_count": 7,
     "metadata": {},
     "output_type": "execute_result"
    }
   ],
   "source": [
    "'''\n",
    "lower CI=50 -(1.96)*5/5= 48.04\n",
    "upper CI=50 +(1.96)*5/5=51.96\n",
    "if the result will come between lower ci and upper ci then we can consider this one\n",
    "'''"
   ]
  },
  {
   "cell_type": "markdown",
   "id": "6bbb2606-eadb-4fb1-84ad-bf6bf667c7d8",
   "metadata": {},
   "source": [
    "Q8. What is the margin of error in a confidence interval? How does sample size affect the margin of error?\n",
    "Provide an example of a scenario where a larger sample size would result in a smaller margin of error."
   ]
  },
  {
   "cell_type": "code",
   "execution_count": 9,
   "id": "21b75ee3-4b6a-4bbc-96fd-cb85cc064291",
   "metadata": {},
   "outputs": [
    {
     "data": {
      "text/plain": [
       "'The margin of error is half the confidence interval ,It is intuitive that a greater sample size will be a closer representative of the population than a smaller sample size. Hence, the larger the sample size, the smaller the sample standard error and therefore the smaller the margin of error.'"
      ]
     },
     "execution_count": 9,
     "metadata": {},
     "output_type": "execute_result"
    }
   ],
   "source": [
    "'''The margin of error is half the confidence interval ,It is intuitive that a greater sample size will be a closer representative of the population than a smaller sample size. Hence, the larger the sample size, the smaller the sample standard error and therefore the smaller the margin of error.'''"
   ]
  },
  {
   "cell_type": "markdown",
   "id": "9c6572e3-8cb8-4e22-aa27-dfecc6c3c41e",
   "metadata": {},
   "source": [
    "Q9. Calculate the z-score for a data point with a value of 75, a population mean of 70, and a population\n",
    "standard deviation of 5. Interpret the results."
   ]
  },
  {
   "cell_type": "code",
   "execution_count": 10,
   "id": "ebccdd8a-1a2f-41d6-b961-cba4b79bb15e",
   "metadata": {},
   "outputs": [
    {
     "data": {
      "text/plain": [
       "'\\nmu=70\\nsigma=5\\nx=75\\nso z score=(75-70)/5\\n'"
      ]
     },
     "execution_count": 10,
     "metadata": {},
     "output_type": "execute_result"
    }
   ],
   "source": [
    "'''\n",
    "mu=70\n",
    "sigma=5\n",
    "x=75\n",
    "so z score=(75-70)/5\n",
    "'''"
   ]
  },
  {
   "cell_type": "markdown",
   "id": "e1bcf8c5-4456-4f7d-a22e-ffc33220e671",
   "metadata": {},
   "source": [
    "Q10. In a study of the effectiveness of a new weight loss drug, a sample of 50 participants lost an average\n",
    "of 6 pounds with a standard deviation of 2.5 pounds. Conduct a hypothesis test to determine if the drug is\n",
    "significantly effective at a 95% confidence level using a t-test."
   ]
  },
  {
   "cell_type": "code",
   "execution_count": 11,
   "id": "bf92dc23-620b-4e47-ada3-671833a5299d",
   "metadata": {},
   "outputs": [
    {
     "data": {
      "text/plain": [
       "'\\nn=50\\nsigma=2.5\\nCI=.95\\nmean x =6\\n\\nt=x-mu/s/root n\\n'"
      ]
     },
     "execution_count": 11,
     "metadata": {},
     "output_type": "execute_result"
    }
   ],
   "source": [
    "'''\n",
    "n=50\n",
    "sigma=2.5\n",
    "CI=.95\n",
    "mean x =6\n",
    "\n",
    "t=x-mu/s/root n\n",
    "'''"
   ]
  },
  {
   "cell_type": "markdown",
   "id": "0afe2a58-40b2-469b-a29c-af282f3117cd",
   "metadata": {},
   "source": [
    "Q12. A researcher is testing the effectiveness of two different teaching methods on student performance.\n",
    "Sample A has a mean score of 85 with a standard deviation of 6, while sample B has a mean score of 82\n",
    "with a standard deviation of 5. Conduct a hypothesis test to determine if the two teaching methods have a\n",
    "significant difference in student performance using a t-test with a significance level of 0.01."
   ]
  },
  {
   "cell_type": "code",
   "execution_count": null,
   "id": "c234dfc2-2aa8-410e-b1a8-c96efe8af480",
   "metadata": {},
   "outputs": [],
   "source": [
    "x1=85\n"
   ]
  }
 ],
 "metadata": {
  "kernelspec": {
   "display_name": "Python 3 (ipykernel)",
   "language": "python",
   "name": "python3"
  },
  "language_info": {
   "codemirror_mode": {
    "name": "ipython",
    "version": 3
   },
   "file_extension": ".py",
   "mimetype": "text/x-python",
   "name": "python",
   "nbconvert_exporter": "python",
   "pygments_lexer": "ipython3",
   "version": "3.10.6"
  }
 },
 "nbformat": 4,
 "nbformat_minor": 5
}

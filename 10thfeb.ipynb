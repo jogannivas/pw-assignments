{
 "cells": [
  {
   "cell_type": "raw",
   "id": "f72e93b9-8e1b-4987-bc7b-846c438a0936",
   "metadata": {},
   "source": [
    "Q1. Which function is used to open a file? What are the different modes of opening a file? Explain each mode\n",
    "of file opening.\n",
    "by using open () function we can open a file."
   ]
  },
  {
   "cell_type": "code",
   "execution_count": 1,
   "id": "dc32d6f0-d7a0-403f-afaf-50adad963de0",
   "metadata": {},
   "outputs": [],
   "source": [
    "#First mode toopen file \n",
    "m=open(\"jogannivas.txt\",'w')"
   ]
  },
  {
   "cell_type": "raw",
   "id": "9c0e3a5d-5739-4281-9f79-6dc712c268bb",
   "metadata": {},
   "source": [
    "Q2. Why close() function is used? Why is it important to close a file?\n",
    "close() function is use for the forther utility of another function,if we won't close a fuction the we cant able to open the next one.Hence our previous function is still open so now we are gng to close that one."
   ]
  },
  {
   "cell_type": "code",
   "execution_count": 2,
   "id": "946dc734-34e1-460d-b064-63cefdbc7491",
   "metadata": {},
   "outputs": [],
   "source": [
    "m.close()"
   ]
  },
  {
   "cell_type": "raw",
   "id": "435905d7-43ef-4a84-b6bc-f857d0837f1e",
   "metadata": {},
   "source": [
    "Q3. Write a python program to create a text file. Write ‘I want to become a Data Scientist’ in that file. Then\n",
    "close the file. Open this file and read the content of the file."
   ]
  },
  {
   "cell_type": "code",
   "execution_count": 13,
   "id": "5a2a721b-067c-46e6-b2ea-80bfe9c861d2",
   "metadata": {},
   "outputs": [],
   "source": [
    "n=open (\"joga.txt\",'w')\n"
   ]
  },
  {
   "cell_type": "code",
   "execution_count": 14,
   "id": "7b508072-b7c6-4db6-a8f7-5c77c54e8cd6",
   "metadata": {},
   "outputs": [
    {
     "data": {
      "text/plain": [
       "33"
      ]
     },
     "execution_count": 14,
     "metadata": {},
     "output_type": "execute_result"
    }
   ],
   "source": [
    "n.write(\"i want to become a Data Scientist\")\n"
   ]
  },
  {
   "cell_type": "code",
   "execution_count": 15,
   "id": "1e231ddd-598e-43e6-8f98-c67ccbfb1101",
   "metadata": {},
   "outputs": [
    {
     "data": {
      "text/plain": [
       "'i want to become a Data Scientist'"
      ]
     },
     "execution_count": 15,
     "metadata": {},
     "output_type": "execute_result"
    }
   ],
   "source": [
    "n=open(\"joga.txt\",'r')\n",
    "n.read()"
   ]
  },
  {
   "cell_type": "raw",
   "id": "eab0f35f-b9e9-479d-8ed8-f231aff36dee",
   "metadata": {},
   "source": [
    "Q4. Explain the following with python code: read(), readline() and readlines().\n",
    "The read() method returns the specified number of bytes from the file. Default is -1 which means the whole file.\n",
    "Python readline() method will return a line from the file when called. readlines() method will return all the lines in a file in the format of a list where each element is a line in the file."
   ]
  },
  {
   "cell_type": "raw",
   "id": "8195f627-6e1b-4094-a62f-f2fcec41f0b6",
   "metadata": {},
   "source": [
    "Q5. Explain why with statement is used with open(). What is the advantage of using with statement and\n",
    "open() together?\n",
    "The with statement works with the open() function to open a file.\n"
   ]
  },
  {
   "cell_type": "raw",
   "id": "83d2fc6a-06ed-4367-a3de-c88137c9db04",
   "metadata": {},
   "source": [
    "Q6. Explain the write() and writelines() functions. Give a suitable example."
   ]
  }
 ],
 "metadata": {
  "kernelspec": {
   "display_name": "Python 3 (ipykernel)",
   "language": "python",
   "name": "python3"
  },
  "language_info": {
   "codemirror_mode": {
    "name": "ipython",
    "version": 3
   },
   "file_extension": ".py",
   "mimetype": "text/x-python",
   "name": "python",
   "nbconvert_exporter": "python",
   "pygments_lexer": "ipython3",
   "version": "3.10.6"
  }
 },
 "nbformat": 4,
 "nbformat_minor": 5
}

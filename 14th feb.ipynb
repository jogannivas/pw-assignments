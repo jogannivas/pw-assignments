{
 "cells": [
  {
   "cell_type": "raw",
   "id": "2c800953-c861-4b2d-ae17-a3a21c39d53d",
   "metadata": {},
   "source": [
    "Q1. what is multithreading in python? why is it used? Name the module used to handle threads in python"
   ]
  },
  {
   "cell_type": "raw",
   "id": "88396ccb-16bd-4c67-bf6f-8b075a9076e3",
   "metadata": {},
   "source": [
    "Multithreading refers to concurrently executing multiple threads by rapidly switching the control of the CPU between threads (called context switching). The Python Global Interpreter Lock limits one thread to run at a time even if the machine contains multiple processors.\n",
    "Python multithreading enables efficient utilization of the resources as the threads share the data space and memory. Multithreading in Python allows the concurrent and parallel occurrence of various tasks. It causes a reduction in time consumption or response time, thereby increasing the performance.\n",
    "To use multithreading, we need to import the threading module in Python Program. A start() method is used to initiate the activity of a thread."
   ]
  },
  {
   "cell_type": "raw",
   "id": "0a435dbd-6d68-4847-9944-08aa480d1e2f",
   "metadata": {},
   "source": [
    "Q2. why threading module used?write the use of the following functions\n",
    "\n",
    "activeCount()\n",
    "currentThread()\n",
    "enumerate()\n",
    "\n",
    "Threads allows a program to operate more efficiently by doing multiple things at the same time. Threads can be used to perform complicated tasks in the background without interrupting the main program.\n",
    "activeCount()\n",
    "threading.activeCount() − Returns the number of thread objects that are active. \n",
    "threading.currentThread() − Returns the number of thread objects in the caller's thread control. \n",
    "threading.enumerate() − Returns a list of all thread objects that are currently active."
   ]
  },
  {
   "cell_type": "raw",
   "id": "1e09ae08-d062-41a7-a8b0-99d8a6938c60",
   "metadata": {},
   "source": [
    "3. Explain the following functions\n",
    "run()\n",
    "start()\n",
    "join()\n",
    "isAlive()\n",
    "run() method is an inbuilt method of the Thread class of the threading module in Python. This method is used to represent a thread's activity.\n",
    "start() method is an inbuilt method of the Thread class of the threading module in Python. It is used to start a thread's activity.\n",
    "is_alive() method is an inbuilt method of the Thread class of the threading module in Python. It uses a Thread object, and checks whether that thread is alive or not, ie, it is still running or not."
   ]
  },
  {
   "cell_type": "code",
   "execution_count": 21,
   "id": "95ce0cb9-e42b-445b-9c31-ceca62918fe7",
   "metadata": {},
   "outputs": [
    {
     "name": "stdout",
     "output_type": "stream",
     "text": [
      "hence the square of  0  is  0  and cube is 0\n",
      "hence the square of  1  is  1  and cube is 1\n",
      "hence the square of  2  is  4  and cube is 8\n",
      "hence the square of  3  is  9  and cube is 27\n",
      "hence the square of  4  is  16  and cube is 64\n",
      "hence the square of  5  is  25  and cube is 125\n",
      "hence the square of  6  is  36  and cube is 216\n",
      "hence the square of  7  is  49  and cube is 343\n",
      "hence the square of  8  is  64  and cube is 512\n",
      "hence the square of  9  is  81  and cube is 729\n"
     ]
    }
   ],
   "source": [
    "'''Q4. rite a python program to create two threads. Thread one must print the list of squares and thread\n",
    "two must print the list of cubes'''\n",
    "\n",
    "import threading\n",
    "def thr (num):\n",
    "    #a=int(input (\"enter the number that you want get square\"))\n",
    "    #b=int(input (\"enter the number that you want get square\"))\n",
    "    return_sq=num**2\n",
    "    return_cu=num**3\n",
    "    print(\"hence the square of \",num, \" is \",return_sq,\" and cube is\",return_cu)\n",
    "\n",
    "thread=[threading.Thread(target=thr,args=(i,)) for i in range(10)]\n",
    "for i in thread :\n",
    "    i .start()"
   ]
  },
  {
   "cell_type": "raw",
   "id": "0cbaea9b-0bb9-479c-a2a0-fda32654ac8c",
   "metadata": {},
   "source": [
    "Q5. State advantages and disadvantages of multithreading.\n",
    "adv:-\n",
    "Multithreading in Python streamlines the efficient utilization of resources as the threads share the same memory and data space.\n",
    "It also allows the concurrent appearance of multiple tasks and reduces the response time. This improves the performance.\n",
    "dis_adv:-\n",
    "Difficulty of writing code. Multithreaded and multicontexted applications are not easy to write\n",
    "Difficulty of debugging\n",
    "Difficulty of managing concurrency\n",
    "Difficulty of testing"
   ]
  },
  {
   "cell_type": "raw",
   "id": "f02491cc-479a-4fa8-9ae8-4de5b35e9149",
   "metadata": {},
   "source": [
    "Q6. Explain deadlocks and race conditions.\n",
    "A race condition occurs when two threads use the same variable at a given time. Deadlock exists when two threads seek one lock simultaneously. This situation will stop both threads from processing or executing the functions."
   ]
  }
 ],
 "metadata": {
  "kernelspec": {
   "display_name": "Python 3 (ipykernel)",
   "language": "python",
   "name": "python3"
  },
  "language_info": {
   "codemirror_mode": {
    "name": "ipython",
    "version": 3
   },
   "file_extension": ".py",
   "mimetype": "text/x-python",
   "name": "python",
   "nbconvert_exporter": "python",
   "pygments_lexer": "ipython3",
   "version": "3.10.6"
  }
 },
 "nbformat": 4,
 "nbformat_minor": 5
}

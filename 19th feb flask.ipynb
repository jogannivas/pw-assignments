{
 "cells": [
  {
   "cell_type": "raw",
   "id": "cab25e80-ce89-4a33-99ce-0165bd2474f5",
   "metadata": {},
   "source": [
    "Q1. What is Flask Framework? What are the advantages of Flask Framework?\n",
    "\n",
    "Flask is a web framework that provides libraries to build lightweight web applications in python.\n",
    "Scalable. Size is everything, and Flask's status as a microframework means that you can use it to grow a tech project such as a web app incredibly quickly. \n",
    "Flexible.\n",
    "Easy to negotiate. \n",
    "Lightweight. \n",
    "Documentation.\n",
    "Not a lot of tools. \n"
   ]
  },
  {
   "cell_type": "code",
   "execution_count": null,
   "id": "1da6bf73-6a90-45c3-b9f7-4e2fca4f2214",
   "metadata": {},
   "outputs": [],
   "source": [
    "'''Q2. Create a simple Flask application to display ‘Hello World!!’. Attach the screenshot of the output in\n",
    "Jupyter Notebook.'''\n",
    "from flask import Flask\n",
    "\n",
    "app = Flask(__name__)\n",
    "\n",
    "@app.route(\"/\")\n",
    "def hello_world():\n",
    "    return \"<h1>Hello, World!</h1>\"\n",
    "\n",
    "if __name__==\"__main__\":\n",
    "    app.run(host=\"0.0.0.0\")\n",
    "    \n"
   ]
  },
  {
   "cell_type": "raw",
   "id": "80e08cce-98fb-4d8e-91f7-43d215ab9cb6",
   "metadata": {},
   "source": [
    "Q3. What is App routing in Flask? Why do we use app routes?\n",
    "\n",
    "App routing is used to map the specific URL with the associated function that is intended to perform some task. It is used to access some particular page like Flask Tutorial in the web application.\n",
    "\n",
    "@app.route(\"/\") (it will help to give a specific path to us)\n"
   ]
  },
  {
   "cell_type": "code",
   "execution_count": null,
   "id": "32e7fd36-bf99-42a6-a679-d346c98327fa",
   "metadata": {},
   "outputs": [],
   "source": [
    "'''Q4. Create a “/welcome” route to display the welcome message “Welcome to ABC Corporation” and a “/”\n",
    "route to show the following details:\n",
    "Company Name: ABC Corporation\n",
    "Location: India\n",
    "Contact Detail: 999-999-9999'''\n",
    "\n",
    "\n",
    "from flask import Flask\n",
    "\n",
    "\n",
    "app = Flask(__name__)\n",
    "\n",
    "@app.route(\"/welcome\")\n",
    "def hello_world():\n",
    "    return \"<h1> “Welcome to ABC Corporation”</h1>\"\n",
    "@app.route(\"/\")\n",
    "def hello_world1():\n",
    "    return \"<h1> Company Name: ABC Corporation,Location: India,Contact Detail: 999-999-9999</h1>\"\n",
    "if __name__==\"__main__\":\n",
    "    app.run(host=\"0.0.0.0\")\n",
    "\n",
    "https://blue-chef-pqsyd.ineuron.app:5000/\n",
    "https://blue-chef-pqsyd.ineuron.app:5000/welcome"
   ]
  },
  {
   "cell_type": "raw",
   "id": "90f30891-ddf3-4019-9f46-b1db9b8b72ae",
   "metadata": {},
   "source": [
    "'''Q5. What function is used in Flask for URL Building? Write a Python code to demonstrate the working of the\n",
    "url_for() function.'''\n",
    "\n",
    "To build a URL to a specific function, use the url_for() function. It accepts the name of the function as its first argument and any number of keyword arguments, each corresponding to a variable part of the URL rule.'''"
   ]
  },
  {
   "cell_type": "code",
   "execution_count": null,
   "id": "a40c61b9-c7a3-441b-b8b6-7c19292aa4cd",
   "metadata": {},
   "outputs": [],
   "source": []
  }
 ],
 "metadata": {
  "kernelspec": {
   "display_name": "Python 3 (ipykernel)",
   "language": "python",
   "name": "python3"
  },
  "language_info": {
   "codemirror_mode": {
    "name": "ipython",
    "version": 3
   },
   "file_extension": ".py",
   "mimetype": "text/x-python",
   "name": "python",
   "nbconvert_exporter": "python",
   "pygments_lexer": "ipython3",
   "version": "3.10.6"
  }
 },
 "nbformat": 4,
 "nbformat_minor": 5
}

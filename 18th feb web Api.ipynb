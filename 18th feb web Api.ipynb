{
 "cells": [
  {
   "cell_type": "raw",
   "id": "0feadbb9-3088-4a54-9e15-dccaf917db03",
   "metadata": {},
   "source": [
    "Q1. What is an API? Give an example, where an API is used in real life.\n",
    "\n",
    " APIs are mechanisms that enable two software components to communicate with each other using a set of definitions and protocols.\n",
    " Example we are accessing the dsata from phone pe where that application communicate with it server to give us information.\n",
    " APIs are used in web applications to connect user-facing front ends with critical back-end functionality and data"
   ]
  },
  {
   "cell_type": "raw",
   "id": "0dcb4369-7277-4181-b99b-fe7f99375eca",
   "metadata": {},
   "source": [
    "Q2. Give advantages and disadvantages of using API.\n",
    "\n",
    "As a single point of entry, an API is a gateway and can become a hacker's primary target. Once the API is compromised, all other applications and systems become vulnerable.\n",
    "API is the acronym for application programming interface — a software intermediary that allows two applications to talk to each other. APIs are an accessible way to extract and share data within and across organizations. APIs are all around us."
   ]
  },
  {
   "cell_type": "raw",
   "id": "70c7ef57-cb2d-4d47-9ab5-9a9e622683db",
   "metadata": {},
   "source": [
    "Q3. What is a Web API? Differentiate between API and Web API.\n",
    "\n",
    " A Web API is an application programming interface for the Web.\n",
    " \n",
    "API stands for Application Programming Interface. A Web API is an application programming interface for the Web. A Browser API can extend the functionality of a web browser. A Server API can extend the functionality of a web server."
   ]
  },
  {
   "cell_type": "raw",
   "id": "bbbfeacb-1d68-4e73-bd9e-4ded0eecc68a",
   "metadata": {},
   "source": [
    "Q4. Explain REST and SOAP Architecture. Mention shortcomings of SOAP.\n",
    "REST is a set of guidelines that offers flexible implementation, whereas SOAP is a protocol with specific requirements like XML messaging. REST APIs are lightweight, whrere SOAP is not but SOAP is more secure then the rest API.\n",
    "API Calls are not Cached. An API call is a process of sending a request when an API has been set up with the necessary endpoints.\n",
    "Extremely Complicated. SOAP is substantially more sophisticated than REST. \n",
    "No Choice of Data Formats.\n",
    "Requires More Bandwidth."
   ]
  },
  {
   "cell_type": "raw",
   "id": "d2a53114-c4c9-41f6-8620-6cba2c98b0d2",
   "metadata": {},
   "source": [
    "Q5. Differentiate between REST and SOAP.\n",
    "\n",
    "Representational state transfer (REST) is a set of architectural principles.\n",
    "Simple object access protocol (SOAP).\n",
    "\n",
    "rest use HTTP protocol where soap use xml http and stmp.\n",
    "soap is more secure then rest.\n",
    " rest api is more choosible apis then soap."
   ]
  },
  {
   "cell_type": "code",
   "execution_count": null,
   "id": "0040d4cd-816f-471e-878b-1c3654d43911",
   "metadata": {},
   "outputs": [],
   "source": []
  }
 ],
 "metadata": {
  "kernelspec": {
   "display_name": "Python 3 (ipykernel)",
   "language": "python",
   "name": "python3"
  },
  "language_info": {
   "codemirror_mode": {
    "name": "ipython",
    "version": 3
   },
   "file_extension": ".py",
   "mimetype": "text/x-python",
   "name": "python",
   "nbconvert_exporter": "python",
   "pygments_lexer": "ipython3",
   "version": "3.10.6"
  }
 },
 "nbformat": 4,
 "nbformat_minor": 5
}

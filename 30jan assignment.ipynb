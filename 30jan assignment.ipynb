{
 "cells": [
  {
   "cell_type": "code",
   "execution_count": 13,
   "id": "ab78c986-063b-4300-9368-618d3adf562c",
   "metadata": {},
   "outputs": [
    {
     "name": "stdin",
     "output_type": "stream",
     "text": [
      "entre your percentage here 70\n"
     ]
    },
    {
     "name": "stdout",
     "output_type": "stream",
     "text": [
      " nice you got B grade\n"
     ]
    }
   ],
   "source": [
    "# Q1/////write a program to accept input from user and display the grade according to the following criteria\n",
    "per=int (input(\"entre your percentage here\"))\n",
    "if (per>90):\n",
    "    print(\" waooooo you got A grade\")\n",
    "    \n",
    "elif (per>80 & per<= 90):\n",
    "    print (\" nice you got B grade\")\n",
    "    \n",
    "elif (per>60 & per<=80):\n",
    "    print (\" fine you got C grade\")\n",
    "elif (per<60):\n",
    "    print(\" sorry you got D grade\")\n",
    "    "
   ]
  },
  {
   "cell_type": "code",
   "execution_count": 30,
   "id": "522f344b-df30-45d0-a536-2a8081a19043",
   "metadata": {},
   "outputs": [
    {
     "name": "stdin",
     "output_type": "stream",
     "text": [
      "enter the bike price 700000\n"
     ]
    },
    {
     "name": "stdout",
     "output_type": "stream",
     "text": [
      "805000.0 with 15% of tex\n"
     ]
    }
   ],
   "source": [
    "# Q2///write a program to accept the cost price of the bike and display the road tex to be paid according to the following criteria\n",
    "bike_price=int (input (\"enter the bike price\"))\n",
    "bike_cost_with_tex=0\n",
    "if (bike_price > 100000):\n",
    "    bike_cost_with_tex= bike_price+(bike_price*15)/100\n",
    "    print(bike_cost_with_tex,\"with 15% of tex\")\n",
    "elif(bike_price>50000 & bike_price<100000):\n",
    "    bike_cost_with_tex= bike_price+(bike_price*10)/100\n",
    "    print (bike_cost_with_tex ,\"with 10% of tex\")\n",
    "elif(bike_price<50000):\n",
    "    bike_cost_with_tex= bike_price+(bike_price*5)/100\n",
    "    print (bike_cost_with_tex,\"with 5% of tex\")"
   ]
  },
  {
   "cell_type": "code",
   "execution_count": 29,
   "id": "f8e4a0b8-fe40-4bf9-b903-24c9cece70d7",
   "metadata": {},
   "outputs": [
    {
     "name": "stdin",
     "output_type": "stream",
     "text": [
      "entre the cityname uot of three odisha\n"
     ]
    },
    {
     "name": "stdout",
     "output_type": "stream",
     "text": [
      "Entre a city name out of these( delhi,agra,jaypur)\n"
     ]
    }
   ],
   "source": [
    "#Q3/// take input from user of city name and display the monument name of that city\n",
    "city=input (\"entre the cityname uot of three\")\n",
    "if (city== \"delhi\" or city ==\"agra\" or city == \"jaypur\"):\n",
    "    if (city == \"delhi\"):\n",
    "        print(\"the mounment of \",city,\" is Red_fort\")\n",
    "    elif (city == \"agra\"):\n",
    "        print(\"the mounment of \",city,\" is Taj_mahal\")\n",
    "    elif (city == \"jaypur\"):\n",
    "        print(\"the mounment of \",city,\" is Jal_mahal\")\n",
    "\n",
    "else:\n",
    "    print(\"Entre a city name out of these( delhi,agra,jaypur)\")"
   ]
  },
  {
   "cell_type": "code",
   "execution_count": 37,
   "id": "d469c247-bb44-4d0e-ad42-56c30330dc01",
   "metadata": {},
   "outputs": [
    {
     "name": "stdin",
     "output_type": "stream",
     "text": [
      " entre a number here  13\n"
     ]
    },
    {
     "name": "stdout",
     "output_type": "stream",
     "text": [
      "12\n",
      "so the number can devide by  13 is 1\n"
     ]
    }
   ],
   "source": [
    "#Q4/// check how maney times a given number can divide by 3 before it is less then and equel to10\n",
    "number=int(input(\" entre a number here \"))\n",
    "count=0\n",
    "if (number <=10):\n",
    "    print (\"tour ans is zero\")\n",
    "else:\n",
    "    for i in range(10,number+1):\n",
    "        if (i%3==0):\n",
    "            print(i)\n",
    "            count=count+1\n",
    "print (\"so the number can devide by \",number ,\"is\",count)"
   ]
  },
  {
   "cell_type": "raw",
   "id": "6de60dbb-1502-4080-847a-094e3ed0f3bb",
   "metadata": {},
   "source": [
    "Q5/// why and when we use while loop in python , give a detailed description with example.\n",
    "'''A \"While\" Loop is used to repeat a specific block of code an unknown number of times, until a condition is met.\n",
    "\n",
    "The main reason that While is much slower is because the while loop checks the condition after each iteration '''"
   ]
  },
  {
   "cell_type": "code",
   "execution_count": 43,
   "id": "a051c1e5-46fd-4421-8038-81b64751eafd",
   "metadata": {},
   "outputs": [
    {
     "name": "stdin",
     "output_type": "stream",
     "text": [
      "entre a number that you want to create a number table 500\n"
     ]
    },
    {
     "name": "stdout",
     "output_type": "stream",
     "text": [
      "500 * 1 = 500\n",
      "500 * 2 = 1000\n",
      "500 * 3 = 1500\n",
      "500 * 4 = 2000\n",
      "500 * 5 = 2500\n",
      "500 * 6 = 3000\n",
      "500 * 7 = 3500\n",
      "500 * 8 = 4000\n",
      "500 * 9 = 4500\n",
      "500 * 10 = 5000\n"
     ]
    }
   ],
   "source": [
    "#Q5//coading(use of while loop in python)\n",
    "n=int(input(\"entre a number that you want to create a number table\"))\n",
    "f=1\n",
    "while (f<11):\n",
    "    print (n,\"*\",f,\"=\",n*f)\n",
    "    f=f+1"
   ]
  },
  {
   "cell_type": "code",
   "execution_count": 66,
   "id": "aedc7e2b-9b08-4a4a-bf13-9bf299c2ac90",
   "metadata": {},
   "outputs": [
    {
     "name": "stdout",
     "output_type": "stream",
     "text": [
      "\n",
      "\n",
      " *  *  *  *  * \n",
      "\n",
      "\n",
      " *  *  *  *  * \n",
      "\n",
      "\n",
      " *  *  *  *  * \n"
     ]
    }
   ],
   "source": [
    "#Q6/// construct a pattern using nested while loop\n",
    "a=0\n",
    "while (a<3):\n",
    "    print(\"\\n\")\n",
    "    b=0\n",
    "    while(b<5):\n",
    "        print(\" * \",end=\"\")\n",
    "        \n",
    "        b=b+1\n",
    "    \n",
    "    a+=1\n",
    "    "
   ]
  },
  {
   "cell_type": "code",
   "execution_count": 68,
   "id": "6b0cf259-ee83-430a-88b0-cb9804d267f3",
   "metadata": {},
   "outputs": [
    {
     "name": "stdout",
     "output_type": "stream",
     "text": [
      "10\n",
      "9\n",
      "8\n",
      "7\n",
      "6\n",
      "5\n",
      "4\n",
      "3\n",
      "2\n",
      "1\n"
     ]
    }
   ],
   "source": [
    "#Q7////reverse a while loop to display number from 10 t0 2\n",
    "a=10\n",
    "while(a>0):\n",
    "    print(a)\n",
    "    a=a-1"
   ]
  },
  {
   "cell_type": "code",
   "execution_count": 69,
   "id": "a9872ede-9caa-4d1d-9c93-9bd54c247232",
   "metadata": {},
   "outputs": [
    {
     "name": "stdout",
     "output_type": "stream",
     "text": [
      "10\n",
      "9\n",
      "8\n",
      "7\n",
      "6\n",
      "5\n",
      "4\n",
      "3\n",
      "2\n",
      "1\n"
     ]
    }
   ],
   "source": [
    "#Q8////reverse a while loop to display number from 10 t0 2\n",
    "a=10\n",
    "while(a>0):\n",
    "    print(a)\n",
    "    a=a-1"
   ]
  },
  {
   "cell_type": "code",
   "execution_count": null,
   "id": "066d35fd-530b-489b-9b09-cd11f5391cf0",
   "metadata": {},
   "outputs": [],
   "source": []
  }
 ],
 "metadata": {
  "kernelspec": {
   "display_name": "Python 3 (ipykernel)",
   "language": "python",
   "name": "python3"
  },
  "language_info": {
   "codemirror_mode": {
    "name": "ipython",
    "version": 3
   },
   "file_extension": ".py",
   "mimetype": "text/x-python",
   "name": "python",
   "nbconvert_exporter": "python",
   "pygments_lexer": "ipython3",
   "version": "3.10.6"
  }
 },
 "nbformat": 4,
 "nbformat_minor": 5
}

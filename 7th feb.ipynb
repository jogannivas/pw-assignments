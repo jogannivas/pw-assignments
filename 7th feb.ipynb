{
 "cells": [
  {
   "cell_type": "code",
   "execution_count": 24,
   "id": "08d7d6e6-39ee-4501-8cc6-3982ea881a63",
   "metadata": {},
   "outputs": [
    {
     "name": "stdout",
     "output_type": "stream",
     "text": [
      "yes valedate\n"
     ]
    }
   ],
   "source": [
    "def password ( name):\n",
    "    upp,loo,dig,spe=0,0,0,0\n",
    "    for i in name:\n",
    "        if i.isupper():\n",
    "            upp=upp+1\n",
    "        elif i.islower ():\n",
    "            loo=loo+1\n",
    "        elif i.isdigit():\n",
    "            dig=dig+1\n",
    "        else :\n",
    "            spe=spe+1\n",
    "        \n",
    "    if (upp>1 and loo>1 and dig>0 and spe >2):\n",
    "         print('yes valedate')\n",
    "    else:\n",
    "        print('noo,your generated is not velid')\n",
    "    \n",
    "password(\"PW@skills&*365\")"
   ]
  },
  {
   "cell_type": "raw",
   "id": "0fccae1d-2a6b-4e9a-ac69-b83ed7f970b5",
   "metadata": {},
   "source": [
    "Q2. Solve the below-given questions using at least one of the following:\n",
    "1. Lambda functioJ\n",
    "2. Filter functioJ\n",
    "3. Zap functioJ\n",
    "4. List ComprehensioI\n",
    "B Check if the string starts with a particular letterY\n",
    "B Check if the string is numericY\n",
    "B Sort a list of tuples having fruit names and their quantity. [(\"mango\",99),(\"orange\",80), (\"grapes\", 1000)-\n",
    "B Find the squares of numbers from 1 to 100\n",
    "B Find the cube root of numbers from 1 to 100\n",
    "B Check if a given number is evenY\n",
    "B Filter odd numbers from the given list.\n",
    "[1,2,3,4,5,6,7,8,9,10-\n",
    "B Sort a list of integers into positive and negative integers lists.\n",
    "[1,2,3,4,5,6,-1,-2,-3,-4,-5,0]"
   ]
  },
  {
   "cell_type": "code",
   "execution_count": 37,
   "id": "1589eccc-f3e6-4e15-91fe-d82c3ef4ef57",
   "metadata": {},
   "outputs": [
    {
     "name": "stdin",
     "output_type": "stream",
     "text": [
      "enter a string fferfg\n"
     ]
    },
    {
     "name": "stdout",
     "output_type": "stream",
     "text": [
      "<function <lambda> at 0x7f1f2f748670>\n"
     ]
    }
   ],
   "source": [
    "string=input(\"enter a string\")\n",
    "s= lambda string :  s.type == str\n",
    "print( s)\n"
   ]
  },
  {
   "cell_type": "code",
   "execution_count": 43,
   "id": "afb19110-9766-490d-8217-861cb17f738e",
   "metadata": {},
   "outputs": [
    {
     "name": "stdin",
     "output_type": "stream",
     "text": [
      "enter a string 12233\n"
     ]
    },
    {
     "name": "stdout",
     "output_type": "stream",
     "text": [
      "<function <lambda> at 0x7f1f2cdb1e10>\n"
     ]
    }
   ],
   "source": [
    "num=int (input(\"enter a string\"))\n",
    "s= lambda num :  s.type == int\n",
    "print( s)"
   ]
  },
  {
   "cell_type": "code",
   "execution_count": 50,
   "id": "74b1c826-d4dc-4f85-a7c0-34e7db35cb6f",
   "metadata": {},
   "outputs": [
    {
     "name": "stdout",
     "output_type": "stream",
     "text": [
      "[('orange', 80), ('mango', 99), ('grapes', 1000)]\n"
     ]
    }
   ],
   "source": [
    "\n",
    "\n",
    "s=[(\"mango\",99),(\"orange\",80), (\"grapes\", 1000)]\n",
    "s.sort( key =lambda x : x[1])\n",
    "print (s)"
   ]
  },
  {
   "cell_type": "code",
   "execution_count": 73,
   "id": "32affc14-ae3d-4838-b402-a05606b60be8",
   "metadata": {},
   "outputs": [
    {
     "data": {
      "text/plain": [
       "[1,\n",
       " 4,\n",
       " 9,\n",
       " 16,\n",
       " 25,\n",
       " 36,\n",
       " 49,\n",
       " 64,\n",
       " 81,\n",
       " 100,\n",
       " 121,\n",
       " 144,\n",
       " 169,\n",
       " 196,\n",
       " 225,\n",
       " 256,\n",
       " 289,\n",
       " 324,\n",
       " 361,\n",
       " 400,\n",
       " 441,\n",
       " 484,\n",
       " 529,\n",
       " 576,\n",
       " 625,\n",
       " 676,\n",
       " 729,\n",
       " 784,\n",
       " 841,\n",
       " 900,\n",
       " 961,\n",
       " 1024,\n",
       " 1089,\n",
       " 1156,\n",
       " 1225,\n",
       " 1296,\n",
       " 1369,\n",
       " 1444,\n",
       " 1521,\n",
       " 1600,\n",
       " 1681,\n",
       " 1764,\n",
       " 1849,\n",
       " 1936,\n",
       " 2025,\n",
       " 2116,\n",
       " 2209,\n",
       " 2304,\n",
       " 2401,\n",
       " 2500,\n",
       " 2601,\n",
       " 2704,\n",
       " 2809,\n",
       " 2916,\n",
       " 3025,\n",
       " 3136,\n",
       " 3249,\n",
       " 3364,\n",
       " 3481,\n",
       " 3600,\n",
       " 3721,\n",
       " 3844,\n",
       " 3969,\n",
       " 4096,\n",
       " 4225,\n",
       " 4356,\n",
       " 4489,\n",
       " 4624,\n",
       " 4761,\n",
       " 4900,\n",
       " 5041,\n",
       " 5184,\n",
       " 5329,\n",
       " 5476,\n",
       " 5625,\n",
       " 5776,\n",
       " 5929,\n",
       " 6084,\n",
       " 6241,\n",
       " 6400,\n",
       " 6561,\n",
       " 6724,\n",
       " 6889,\n",
       " 7056,\n",
       " 7225,\n",
       " 7396,\n",
       " 7569,\n",
       " 7744,\n",
       " 7921,\n",
       " 8100,\n",
       " 8281,\n",
       " 8464,\n",
       " 8649,\n",
       " 8836,\n",
       " 9025,\n",
       " 9216,\n",
       " 9409,\n",
       " 9604,\n",
       " 9801,\n",
       " 10000]"
      ]
     },
     "execution_count": 73,
     "metadata": {},
     "output_type": "execute_result"
    }
   ],
   "source": [
    "sq=[]\n",
    "for i in range (1,101):\n",
    "    sq.append (i)\n",
    "list(map(lambda x : x**2 ,sq))"
   ]
  },
  {
   "cell_type": "code",
   "execution_count": 69,
   "id": "0527fd42-fb84-4e1b-9a04-95b14d9af3e6",
   "metadata": {},
   "outputs": [
    {
     "data": {
      "text/plain": [
       "[1.0,\n",
       " 1.2599210498948732,\n",
       " 1.4422495703074083,\n",
       " 1.5874010519681994,\n",
       " 1.7099759466766968,\n",
       " 1.8171205928321397,\n",
       " 1.912931182772389,\n",
       " 2.0,\n",
       " 2.080083823051904,\n",
       " 2.154434690031884,\n",
       " 2.2239800905693152,\n",
       " 2.2894284851066637,\n",
       " 2.3513346877207573,\n",
       " 2.4101422641752297,\n",
       " 2.46621207433047,\n",
       " 2.5198420997897464,\n",
       " 2.571281590658235,\n",
       " 2.6207413942088964,\n",
       " 2.668401648721945,\n",
       " 2.7144176165949063,\n",
       " 2.7589241763811203,\n",
       " 2.802039330655387,\n",
       " 2.8438669798515654,\n",
       " 2.8844991406148166,\n",
       " 2.924017738212866,\n",
       " 2.9624960684073702,\n",
       " 3.0,\n",
       " 3.0365889718756622,\n",
       " 3.072316825685847,\n",
       " 3.1072325059538586,\n",
       " 3.1413806523913927,\n",
       " 3.1748021039363987,\n",
       " 3.207534329995826,\n",
       " 3.239611801277483,\n",
       " 3.2710663101885897,\n",
       " 3.3019272488946263,\n",
       " 3.332221851645953,\n",
       " 3.361975406798963,\n",
       " 3.3912114430141664,\n",
       " 3.4199518933533937,\n",
       " 3.4482172403827303,\n",
       " 3.4760266448864496,\n",
       " 3.503398060386724,\n",
       " 3.530348335326063,\n",
       " 3.5568933044900626,\n",
       " 3.583047871015946,\n",
       " 3.6088260801386944,\n",
       " 3.634241185664279,\n",
       " 3.6593057100229713,\n",
       " 3.6840314986403864,\n",
       " 3.708429769266189,\n",
       " 3.7325111568172478,\n",
       " 3.756285754221072,\n",
       " 3.7797631496846193,\n",
       " 3.802952460761391,\n",
       " 3.825862365544778,\n",
       " 3.8485011312768047,\n",
       " 3.8708766406277966,\n",
       " 3.8929964158732604,\n",
       " 3.9148676411688634,\n",
       " 3.936497183102173,\n",
       " 3.9578916096804053,\n",
       " 3.9790572078963917,\n",
       " 3.9999999999999996,\n",
       " 4.020725758589058,\n",
       " 4.04124002062219,\n",
       " 4.0615481004456795,\n",
       " 4.081655101917348,\n",
       " 4.101565929702347,\n",
       " 4.121285299808556,\n",
       " 4.140817749422853,\n",
       " 4.160167646103808,\n",
       " 4.179339196381232,\n",
       " 4.198336453808407,\n",
       " 4.217163326508746,\n",
       " 4.235823584254893,\n",
       " 4.254320865115005,\n",
       " 4.272658681697917,\n",
       " 4.290840427026207,\n",
       " 4.308869380063767,\n",
       " 4.3267487109222245,\n",
       " 4.344481485768611,\n",
       " 4.362070671454838,\n",
       " 4.379519139887889,\n",
       " 4.396829672158179,\n",
       " 4.414004962442103,\n",
       " 4.431047621693634,\n",
       " 4.4479601811386305,\n",
       " 4.464745095584537,\n",
       " 4.481404746557164,\n",
       " 4.497941445275415,\n",
       " 4.514357435474001,\n",
       " 4.530654896083492,\n",
       " 4.546835943776344,\n",
       " 4.562902635386966,\n",
       " 4.5788569702133275,\n",
       " 4.594700892207039,\n",
       " 4.610436292058446,\n",
       " 4.626065009182741,\n",
       " 4.641588833612778]"
      ]
     },
     "execution_count": 69,
     "metadata": {},
     "output_type": "execute_result"
    }
   ],
   "source": [
    "a1=[]\n",
    "for i in range (1,101):\n",
    "    a1.append(i)\n",
    "list(map(lambda i : i**(1/3),a1))"
   ]
  },
  {
   "cell_type": "code",
   "execution_count": 82,
   "id": "f6f34622-caf4-4d77-a4bc-97f96bfb4802",
   "metadata": {},
   "outputs": [
    {
     "name": "stdin",
     "output_type": "stream",
     "text": [
      "Enter a number 4\n"
     ]
    },
    {
     "name": "stdout",
     "output_type": "stream",
     "text": [
      "<function <lambda> at 0x7f1f13d02950>\n"
     ]
    }
   ],
   "source": [
    "a=input (\"Enter a number\")\n",
    "a1=list(a)\n",
    "print (lambda x : x%2 ==0)"
   ]
  },
  {
   "cell_type": "code",
   "execution_count": 94,
   "id": "4557f5da-1738-4e61-a9e0-055acdd698e5",
   "metadata": {},
   "outputs": [
    {
     "data": {
      "text/plain": [
       "[[True, False, True, False, True, False, True, False, True, False]]"
      ]
     },
     "execution_count": 94,
     "metadata": {},
     "output_type": "execute_result"
    }
   ],
   "source": [
    "\n",
    "s1=[1,2,3,4,5,6,7,8,9,10]\n",
    "s2=[]\n",
    "for i in range(len(s1)):\n",
    "    s2.append(list(map(lambda x : x%2!=0,s1)))\n",
    "    break\n",
    "s2"
   ]
  },
  {
   "cell_type": "code",
   "execution_count": 102,
   "id": "41c4a239-3038-4b2d-a752-f465d4bc2291",
   "metadata": {},
   "outputs": [
    {
     "ename": "NameError",
     "evalue": "name 'xx' is not defined",
     "output_type": "error",
     "traceback": [
      "\u001b[0;31m---------------------------------------------------------------------------\u001b[0m",
      "\u001b[0;31mNameError\u001b[0m                                 Traceback (most recent call last)",
      "Cell \u001b[0;32mIn [102], line 3\u001b[0m\n\u001b[1;32m      1\u001b[0m xo\u001b[38;5;241m=\u001b[39m[\u001b[38;5;241m1\u001b[39m,\u001b[38;5;241m2\u001b[39m,\u001b[38;5;241m3\u001b[39m,\u001b[38;5;241m4\u001b[39m,\u001b[38;5;241m5\u001b[39m,\u001b[38;5;241m6\u001b[39m,\u001b[38;5;241m-\u001b[39m\u001b[38;5;241m1\u001b[39m,\u001b[38;5;241m-\u001b[39m\u001b[38;5;241m2\u001b[39m,\u001b[38;5;241m-\u001b[39m\u001b[38;5;241m3\u001b[39m,\u001b[38;5;241m-\u001b[39m\u001b[38;5;241m4\u001b[39m,\u001b[38;5;241m-\u001b[39m\u001b[38;5;241m5\u001b[39m,\u001b[38;5;241m0\u001b[39m]\n\u001b[1;32m      2\u001b[0m xo\u001b[38;5;241m.\u001b[39msort( key \u001b[38;5;241m=\u001b[39m \u001b[38;5;28;01mlambda\u001b[39;00m x: x\u001b[38;5;241m*\u001b[39m\u001b[38;5;241m4\u001b[39m)\n\u001b[0;32m----> 3\u001b[0m \u001b[43mxx\u001b[49m\n",
      "\u001b[0;31mNameError\u001b[0m: name 'xx' is not defined"
     ]
    }
   ],
   "source": [
    "xo=[1,2,3,4,5,6,-1,-2,-3,-4,-5,0]\n",
    "xo.sort( key = lambda x: x*4)\n",
    "xo"
   ]
  },
  {
   "cell_type": "code",
   "execution_count": null,
   "id": "c0fb92a5-3624-42bf-be05-c487e72a35dd",
   "metadata": {},
   "outputs": [],
   "source": []
  }
 ],
 "metadata": {
  "kernelspec": {
   "display_name": "Python 3 (ipykernel)",
   "language": "python",
   "name": "python3"
  },
  "language_info": {
   "codemirror_mode": {
    "name": "ipython",
    "version": 3
   },
   "file_extension": ".py",
   "mimetype": "text/x-python",
   "name": "python",
   "nbconvert_exporter": "python",
   "pygments_lexer": "ipython3",
   "version": "3.10.6"
  }
 },
 "nbformat": 4,
 "nbformat_minor": 5
}

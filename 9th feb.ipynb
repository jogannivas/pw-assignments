{
 "cells": [
  {
   "cell_type": "code",
   "execution_count": 10,
   "id": "cac56e5f-ae0d-4a12-92e3-e876a9871763",
   "metadata": {},
   "outputs": [
    {
     "data": {
      "text/plain": [
       "300"
      ]
     },
     "execution_count": 10,
     "metadata": {},
     "output_type": "execute_result"
    }
   ],
   "source": [
    "'''Q1, Create a vehicle class with an init method having instance variables as name_of_vehicle, max_speed\n",
    "and average_of_vehicle.'''\n",
    "\n",
    "class car:\n",
    "    def __init__(self,name,average,speed):\n",
    "        self.name=name \n",
    "        self.average=average\n",
    "        self.speed=speed\n",
    "    def set_speed(self,speed):\n",
    "        self.speed=0 if speed<0 else speed\n",
    "    def get_speed(self):\n",
    "        return self.speed\n",
    "c=car('audi',15,300)\n",
    "c.speed"
   ]
  },
  {
   "cell_type": "code",
   "execution_count": 56,
   "id": "6ec07bf0-6182-46c9-8054-20084a7c5fe2",
   "metadata": {},
   "outputs": [
    {
     "name": "stdin",
     "output_type": "stream",
     "text": [
      " enter please 5\n"
     ]
    },
    {
     "name": "stdout",
     "output_type": "stream",
     "text": [
      "enter 5 or 9 or 15 \n"
     ]
    },
    {
     "data": {
      "text/plain": [
       "('As per your given input output is', 5, 'swift dezire')"
      ]
     },
     "execution_count": 56,
     "metadata": {},
     "output_type": "execute_result"
    }
   ],
   "source": [
    "'''Q2. Create a child class car from the vehicle class created in Que 1, which will inherit the vehicle class.\n",
    "Create a method named seating_capacity which takes capacity as an argument and returns the name of\n",
    "the vehicle and its seating capacity.'''\n",
    "\n",
    "class vehicle:\n",
    "    dat={5:\"swift dezire\",9:'innova',15:'kia karnival',35:\"bus\",555:'train'}\n",
    "    def test1(self, capacity):\n",
    "        self.capacity=capacity\n",
    "        print(\"enter 5 or 9 or 15 \")\n",
    "        if (self.capacity==5):\n",
    "            return \"As per your given input output is\",self.capacity,dat[capacity]\n",
    "        elif (self.capacity == 9):\n",
    "            return \"As per your given input output is\",self.capacity,dat[capacity]\n",
    "        elif (self.capacity == 15):\n",
    "            return \"As per your given input output is\",self.capacity,dat[capacity]\n",
    "      \n",
    "        else:\n",
    "            return \"you have entered a wrong one\"\n",
    "        \n",
    "class car(vehicle):\n",
    "    def test2():\n",
    "        return \"this is from class 2\"\n",
    "audi=car()\n",
    "a=int(input (\" enter please\"))\n",
    "audi.test1(a)\n"
   ]
  },
  {
   "cell_type": "raw",
   "id": "1cb5f562-5465-4890-9633-8723f6e7e66d",
   "metadata": {},
   "source": [
    "#Q3. What is multiple inheritance? Write a python code to demonstrate multiple inheritance.\n",
    "When a class is derived from more than one base class it is called multiple Inheritance. The derived class inherits all the features of the base case."
   ]
  },
  {
   "cell_type": "code",
   "execution_count": 60,
   "id": "5011f64a-89e5-4a8f-a4ef-99c83147f6f8",
   "metadata": {},
   "outputs": [
    {
     "data": {
      "text/plain": [
       "' birendra kumar pradhan'"
      ]
     },
     "execution_count": 60,
     "metadata": {},
     "output_type": "execute_result"
    }
   ],
   "source": [
    "\n",
    "class nitya:\n",
    "    def nitya():\n",
    "        return \" nityananda pradhan\"\n",
    "class birendra:\n",
    "    def birendra():\n",
    "        return \" birendra kumar pradhan\"\n",
    "class jogannivas_shreennivas(nitya,birendra):\n",
    "    def bro():\n",
    "        return\"we are ultimate\"\n",
    "nb=jogannivas_shreennivas\n",
    "nb.birendra()\n",
    "\n",
    "    "
   ]
  },
  {
   "cell_type": "code",
   "execution_count": 62,
   "id": "0a7ca067-9122-464a-b73a-b078217fde7d",
   "metadata": {},
   "outputs": [
    {
     "name": "stdout",
     "output_type": "stream",
     "text": [
      "21\n",
      "21\n"
     ]
    }
   ],
   "source": [
    "''''Q4. What are getter and setter in python? Create a class and create a getter and a setter method in this\n",
    "class.\n",
    "Getter: A method that allows you to access an attribute in a given class. Setter: A method that allows you to set or mutate the value of an attribute in a class.'''\n",
    "\n",
    "class get_set:\n",
    "\tdef __init__(self, age = 0):\n",
    "\t\tself._age = age\n",
    "\t\n",
    "\t\n",
    "\tdef get_age(self):\n",
    "\t\treturn self._age\n",
    "\t\n",
    "\tdef set_age(self, x):\n",
    "\t\tself._age = x\n",
    "\n",
    "raja = get_set()\n",
    "\n",
    "\n",
    "raja.set_age(21)\n",
    "\n",
    "\n",
    "print(raj.get_age())\n",
    "\n",
    "print(raj._age)\n"
   ]
  },
  {
   "cell_type": "raw",
   "id": "897957f0-768e-47ef-93f8-6ae07d28a220",
   "metadata": {},
   "source": [
    "Q5.What is method overriding in python? Write a python code to demonstrate method overriding.\n",
    "Method overriding is a feature of object-oriented programming languages where the subclass or child class can provide the program with specific characteristics or a specific implementation process of data provided that are already defined in the parent class or superclass"
   ]
  },
  {
   "cell_type": "code",
   "execution_count": null,
   "id": "792ec4e4-6dcc-4d2a-9f24-cb32ead41cf8",
   "metadata": {},
   "outputs": [],
   "source": []
  }
 ],
 "metadata": {
  "kernelspec": {
   "display_name": "Python 3 (ipykernel)",
   "language": "python",
   "name": "python3"
  },
  "language_info": {
   "codemirror_mode": {
    "name": "ipython",
    "version": 3
   },
   "file_extension": ".py",
   "mimetype": "text/x-python",
   "name": "python",
   "nbconvert_exporter": "python",
   "pygments_lexer": "ipython3",
   "version": "3.10.6"
  }
 },
 "nbformat": 4,
 "nbformat_minor": 5
}

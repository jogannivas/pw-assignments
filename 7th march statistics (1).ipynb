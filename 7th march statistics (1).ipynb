{
 "cells": [
  {
   "cell_type": "markdown",
   "id": "7c7d8ea5-2088-43f0-a48c-5562b9c556ac",
   "metadata": {},
   "source": [
    "Q1. What are the three measures of central tendency?"
   ]
  },
  {
   "cell_type": "markdown",
   "id": "02a1491d-4af4-4744-89fe-93846e3e4d90",
   "metadata": {},
   "source": [
    "There are three main measures of central tendency:\n",
    "mode\n",
    "median\n",
    "mean"
   ]
  },
  {
   "cell_type": "markdown",
   "id": "d760dca0-81e1-4414-8f6c-5342251556d6",
   "metadata": {},
   "source": [
    "Q2. What is the difference between the mean, median, and mode? How are they used to measure the\n",
    "central tendency of a dataset?"
   ]
  },
  {
   "cell_type": "markdown",
   "id": "69115e13-5ff6-4461-92d2-107c400aef52",
   "metadata": {},
   "source": [
    "The difference between mean, median and mode are: Mean is the average value of the given observations. Median is the middle value of the given observations. Mode is the most repeated value in the given observation.\n",
    "\n",
    "\n"
   ]
  },
  {
   "cell_type": "code",
   "execution_count": 1,
   "id": "97fba958-7f91-4c12-b1aa-863247f2aafb",
   "metadata": {},
   "outputs": [
    {
     "data": {
      "text/plain": [
       "'Q3. Measure the three measures of central tendency for the given height data:\\n[178,177,176,177,178.2,178,175,179,180,175,178.9,176.2,177,172.5,178,176.5]'"
      ]
     },
     "execution_count": 1,
     "metadata": {},
     "output_type": "execute_result"
    }
   ],
   "source": [
    "'''Q3. Measure the three measures of central tendency for the given height data:\n",
    "[178,177,176,177,178.2,178,175,179,180,175,178.9,176.2,177,172.5,178,176.5]'''"
   ]
  },
  {
   "cell_type": "code",
   "execution_count": 5,
   "id": "31362aef-84ff-48ad-9f48-cb4313ed909e",
   "metadata": {},
   "outputs": [
    {
     "name": "stdout",
     "output_type": "stream",
     "text": [
      "177.01875\n",
      "177.0\n"
     ]
    }
   ],
   "source": [
    "import numpy as pd\n",
    "data=[178,177,176,177,178.2,178,175,179,180,175,178.9,176.2,177,172.5,178,176.5]\n",
    "print(pd.mean(data))\n",
    "print(pd.median(data))\n"
   ]
  },
  {
   "cell_type": "code",
   "execution_count": 7,
   "id": "b69ee824-cbfb-4760-bd31-32dbc5bb6f71",
   "metadata": {},
   "outputs": [
    {
     "ename": "AttributeError",
     "evalue": "module 'numpy' has no attribute 'mode'",
     "output_type": "error",
     "traceback": [
      "\u001b[0;31m---------------------------------------------------------------------------\u001b[0m",
      "\u001b[0;31mAttributeError\u001b[0m                            Traceback (most recent call last)",
      "Cell \u001b[0;32mIn [7], line 1\u001b[0m\n\u001b[0;32m----> 1\u001b[0m \u001b[43mpd\u001b[49m\u001b[38;5;241;43m.\u001b[39;49m\u001b[43mmode\u001b[49m(data)\n",
      "File \u001b[0;32m/opt/conda/lib/python3.10/site-packages/numpy/__init__.py:311\u001b[0m, in \u001b[0;36m__getattr__\u001b[0;34m(attr)\u001b[0m\n\u001b[1;32m    308\u001b[0m     \u001b[38;5;28;01mfrom\u001b[39;00m \u001b[38;5;21;01m.\u001b[39;00m\u001b[38;5;21;01mtesting\u001b[39;00m \u001b[38;5;28;01mimport\u001b[39;00m Tester\n\u001b[1;32m    309\u001b[0m     \u001b[38;5;28;01mreturn\u001b[39;00m Tester\n\u001b[0;32m--> 311\u001b[0m \u001b[38;5;28;01mraise\u001b[39;00m \u001b[38;5;167;01mAttributeError\u001b[39;00m(\u001b[38;5;124m\"\u001b[39m\u001b[38;5;124mmodule \u001b[39m\u001b[38;5;132;01m{!r}\u001b[39;00m\u001b[38;5;124m has no attribute \u001b[39m\u001b[38;5;124m\"\u001b[39m\n\u001b[1;32m    312\u001b[0m                      \u001b[38;5;124m\"\u001b[39m\u001b[38;5;132;01m{!r}\u001b[39;00m\u001b[38;5;124m\"\u001b[39m\u001b[38;5;241m.\u001b[39mformat(\u001b[38;5;18m__name__\u001b[39m, attr))\n",
      "\u001b[0;31mAttributeError\u001b[0m: module 'numpy' has no attribute 'mode'"
     ]
    }
   ],
   "source": [
    "pd.mode"
   ]
  },
  {
   "cell_type": "markdown",
   "id": "3d8d65a5-ef07-4101-87ca-a757b494dc12",
   "metadata": {},
   "source": [
    "Q4. Find the standard deviation for the given data:\n",
    "[178,177,176,177,178.2,178,175,179,180,175,178.9,176.2,177,172.5,178,176.5]"
   ]
  },
  {
   "cell_type": "code",
   "execution_count": 8,
   "id": "7ae765dc-58b9-4a00-9898-34b927ad7238",
   "metadata": {},
   "outputs": [
    {
     "data": {
      "text/plain": [
       "1.7885814036548633"
      ]
     },
     "execution_count": 8,
     "metadata": {},
     "output_type": "execute_result"
    }
   ],
   "source": [
    "import numpy as py\n",
    "da=[178,177,176,177,178.2,178,175,179,180,175,178.9,176.2,177,172.5,178,176.5]\n",
    "py.std(da)"
   ]
  },
  {
   "cell_type": "markdown",
   "id": "2f99bb9e-74f8-4f34-9e9e-ee1a5d03aab1",
   "metadata": {},
   "source": [
    "Q5. How are measures of dispersion such as range, variance, and standard deviation used to describe\n",
    "the spread of a dataset? Provide an example."
   ]
  },
  {
   "cell_type": "markdown",
   "id": "7841be07-ee61-4c75-b2ef-337f4c746427",
   "metadata": {},
   "source": [
    "Measures of dispersion describe the spread of the data. They include the range, interquartile range, standard deviation and variance. The range is given as the smallest and largest observations. This is the simplest measure of variability."
   ]
  },
  {
   "cell_type": "markdown",
   "id": "9717b65e-365b-4da4-bb7e-c178115d513e",
   "metadata": {},
   "source": [
    "Q6. What is a Venn diagram?"
   ]
  },
  {
   "cell_type": "markdown",
   "id": "911b3b13-5840-480d-8812-d411e9c70cb4",
   "metadata": {},
   "source": [
    "A Venn diagram illustrates the relationships between two or more data sets. "
   ]
  },
  {
   "cell_type": "markdown",
   "id": "53ed8002-0897-4d65-a158-49fa5d4a0adf",
   "metadata": {},
   "source": [
    "\n",
    "Q7. For the two given sets A = (2,3,4,5,6,7) & B = (0,2,6,8,10). Find:\n",
    "(i) A B\n",
    "(ii) A ⋃ B"
   ]
  },
  {
   "cell_type": "code",
   "execution_count": 17,
   "id": "8b0eb578-f0e4-41a2-815c-c6f133a2c6e6",
   "metadata": {},
   "outputs": [
    {
     "name": "stdout",
     "output_type": "stream",
     "text": [
      " Union is  [ 0  2  3  4  5  6  7  8 10]\n",
      " Intersection is  [2 6]\n"
     ]
    }
   ],
   "source": [
    "import numpy as np\n",
    "A = [(2,3,4,5,6,7)]\n",
    "B = [(0,2,6,8,10)]\n",
    "print(\" Union is \",np.union1d(A, B))\n",
    "print(\" Intersection is \",np.intersect1d(A,B))\n"
   ]
  },
  {
   "cell_type": "markdown",
   "id": "0a9b4038-c6c2-4429-9b8a-08796c4e9803",
   "metadata": {},
   "source": [
    "Q8. What do you understand about skewness in data?"
   ]
  },
  {
   "cell_type": "markdown",
   "id": "278cdf26-ea9c-45fe-ad00-bc57b134f3f0",
   "metadata": {},
   "source": [
    " Skewness is a measurement of the distortion of symmetrical distribution or asymmetry in a data set. Skewness is demonstrated on a bell curve when data points are not distributed symmetrically to the left and right sides of the median on a bell curve."
   ]
  },
  {
   "cell_type": "markdown",
   "id": "df591ac8-9082-4d2e-9142-43ffd118ad6d",
   "metadata": {},
   "source": [
    "Q9. If a data is right skewed then what will be the position of median with respect to mean?"
   ]
  },
  {
   "cell_type": "markdown",
   "id": "ad5d9997-70b3-40b6-8285-f2b185470016",
   "metadata": {},
   "source": [
    "Here median is smaller then mean"
   ]
  },
  {
   "cell_type": "markdown",
   "id": "3dac6fc8-4a55-454b-90a5-8e4e5c795136",
   "metadata": {},
   "source": [
    "Q10. Explain the difference between covariance and correlation. How are these measures used in\n",
    "statistical analysis?"
   ]
  },
  {
   "cell_type": "markdown",
   "id": "327a919d-8114-48ef-86b5-8efbff9a4c5a",
   "metadata": {},
   "source": [
    "Covariance is an indicator of the extent to which 2 random variables are dependent on each other. A higher number denotes higher dependency. Correlation is a statistical measure that indicates how strongly two variables are related. The value of covariance lies in the range of -∞ and +∞.\n",
    "\n",
    "correlation is a measure that determines the degree to which two or more random variables move in sequence. When an equivalent movement of another variable reciprocates the movement of one variable in some way or another during the study of two variables, the variables are said to be correlated."
   ]
  },
  {
   "cell_type": "markdown",
   "id": "fa70b6a7-f228-4242-82d6-950607e1cd3e",
   "metadata": {},
   "source": [
    "Q11. What is the formula for calculating the sample mean? Provide an example calculation for a\n",
    "dataset."
   ]
  },
  {
   "cell_type": "markdown",
   "id": "a71ab61d-30a4-464b-a015-c921f20146d6",
   "metadata": {},
   "source": [
    "The numpy. mean() function is used to compute the arithmetic mean along the specified axis."
   ]
  },
  {
   "cell_type": "code",
   "execution_count": 4,
   "id": "5bcc5c6c-1d3d-4648-acb5-83dfd7630ff6",
   "metadata": {},
   "outputs": [
    {
     "name": "stderr",
     "output_type": "stream",
     "text": [
      "/opt/conda/lib/python3.10/site-packages/numpy/core/fromnumeric.py:3430: FutureWarning: Dropping of nuisance columns in DataFrame reductions (with 'numeric_only=None') is deprecated; in a future version this will raise TypeError.  Select only valid columns before calling the reduction.\n",
      "  return mean(axis=axis, dtype=dtype, out=out, **kwargs)\n"
     ]
    },
    {
     "data": {
      "text/plain": [
       "0       764.303667\n",
       "1       744.781000\n",
       "2       721.964333\n",
       "3       730.812333\n",
       "4       789.287000\n",
       "          ...     \n",
       "269    3013.361000\n",
       "270    2523.572667\n",
       "271    2373.033333\n",
       "272    2256.780333\n",
       "273    4652.059667\n",
       "Length: 274, dtype: float64"
      ]
     },
     "execution_count": 4,
     "metadata": {},
     "output_type": "execute_result"
    }
   ],
   "source": [
    "import seaborn as sns\n",
    "import numpy as py\n",
    "dat=sns.load_dataset(\"healthexp\")\n",
    "py.mean(dat,axis=1)"
   ]
  },
  {
   "cell_type": "markdown",
   "id": "c651fe1e-956f-4288-8a75-b051d1a8fd5c",
   "metadata": {},
   "source": [
    "Q12. For a normal distribution data what is the relationship between its measure of central tendency?"
   ]
  },
  {
   "cell_type": "markdown",
   "id": "95953669-b342-4d01-a864-6bc361e52604",
   "metadata": {},
   "source": [
    "Any normal distribution has a graph that is perfectly symmetric about a vertical line through its peak. "
   ]
  },
  {
   "cell_type": "markdown",
   "id": "0705da84-61cd-4bcb-8391-88494ac8f33e",
   "metadata": {},
   "source": [
    "Q13. How is covariance different from correlation?"
   ]
  },
  {
   "cell_type": "markdown",
   "id": "98a85cf1-0aa0-4a84-9923-c723a94d85d9",
   "metadata": {},
   "source": [
    "Covariance is an indicator of the extent to which 2 random variables are dependent on each other. A higher number denotes higher dependency. Correlation is a statistical measure that indicates how strongly two variables are related."
   ]
  },
  {
   "cell_type": "markdown",
   "id": "164d6b15-c346-4362-b266-acbe0ff43b8f",
   "metadata": {},
   "source": [
    "Q14. How do outliers affect measures of central tendency and dispersion? Provide an example."
   ]
  },
  {
   "cell_type": "markdown",
   "id": "f61fae11-4bfa-4681-9243-9aec50d4b172",
   "metadata": {},
   "source": [
    "Measures of central tendency are mean, median and mode. Outliers affect the mean value of the data but have little effect on the median or mode of a given set of data."
   ]
  },
  {
   "cell_type": "code",
   "execution_count": 7,
   "id": "84ff4480-5410-4ff7-b730-865cda81268e",
   "metadata": {},
   "outputs": [
    {
     "name": "stdout",
     "output_type": "stream",
     "text": [
      "Age       31.833333\n",
      "Rating     3.743333\n",
      "dtype: float64\n",
      "Age       29.50\n",
      "Rating     3.79\n",
      "dtype: float64\n"
     ]
    },
    {
     "name": "stderr",
     "output_type": "stream",
     "text": [
      "/tmp/ipykernel_77/1113245372.py:8: FutureWarning: The default value of numeric_only in DataFrame.mean is deprecated. In a future version, it will default to False. In addition, specifying 'numeric_only=None' is deprecated. Select only valid columns or specify the value of numeric_only to silence this warning.\n",
      "  print (df.mean())\n",
      "/tmp/ipykernel_77/1113245372.py:9: FutureWarning: The default value of numeric_only in DataFrame.median is deprecated. In a future version, it will default to False. In addition, specifying 'numeric_only=None' is deprecated. Select only valid columns or specify the value of numeric_only to silence this warning.\n",
      "  print (df.median())\n"
     ]
    }
   ],
   "source": [
    "import pandas as pd\n",
    "d = {'Name':pd.Series(['Tom','James','Ricky','Vin','Steve','Smith','Jack',\n",
    "   'Lee','Chanchal','Gasper','Naviya','Andres']),\n",
    "   'Age':pd.Series([25,26,25,23,30,29,23,34,40,30,51,46]),\n",
    "   'Rating':pd.Series([4.23,3.24,3.98,2.56,3.20,4.6,3.8,3.78,2.98,4.80,4.10,3.65])}\n",
    "\n",
    "df = pd.DataFrame(d)\n",
    "print (df.mean())\n",
    "print (df.median())"
   ]
  },
  {
   "cell_type": "code",
   "execution_count": null,
   "id": "357c0022-285b-4f7b-9e50-79e70da49d20",
   "metadata": {},
   "outputs": [],
   "source": []
  }
 ],
 "metadata": {
  "kernelspec": {
   "display_name": "Python 3 (ipykernel)",
   "language": "python",
   "name": "python3"
  },
  "language_info": {
   "codemirror_mode": {
    "name": "ipython",
    "version": 3
   },
   "file_extension": ".py",
   "mimetype": "text/x-python",
   "name": "python",
   "nbconvert_exporter": "python",
   "pygments_lexer": "ipython3",
   "version": "3.10.6"
  }
 },
 "nbformat": 4,
 "nbformat_minor": 5
}

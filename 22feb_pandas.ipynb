{
 "cells": [
  {
   "cell_type": "code",
   "execution_count": 6,
   "id": "387045df-fa87-4407-abb1-9c8073fe9d51",
   "metadata": {},
   "outputs": [
    {
     "name": "stdout",
     "output_type": "stream",
     "text": [
      "0     4\n",
      "1     8\n",
      "2    15\n",
      "3    16\n",
      "4    23\n",
      "5    42\n",
      "dtype: object\n"
     ]
    }
   ],
   "source": [
    "'''Q1//create a pandas series that contain folling data : 4,8,15,16,23 and 42 then print the series.'''\n",
    "import pandas as pd\n",
    "\n",
    "\n",
    "list = ['4','8', '15', '16', '23', '42']\n",
    "\n",
    "\n",
    "series = pd.Series(list)\n",
    "print(series)\n"
   ]
  },
  {
   "cell_type": "code",
   "execution_count": 11,
   "id": "eb5fab13-a8c4-4880-95cb-8cac45418891",
   "metadata": {},
   "outputs": [
    {
     "name": "stdout",
     "output_type": "stream",
     "text": [
      "0    p\n",
      "1    w\n",
      "2    s\n",
      "3    k\n",
      "4    i\n",
      "5    l\n",
      "6    l\n",
      "7    s\n",
      "8    o\n",
      "9    k\n",
      "dtype: object\n"
     ]
    }
   ],
   "source": [
    "''' create a variable of list type containing 10 element in it and apply pandas series function variable print it '''\n",
    "\n",
    "import pandas as pd\n",
    "\n",
    "\n",
    "list = ['p','w', 's','k','i', 'l', 'l', 's','o','k']\n",
    "\n",
    "\n",
    "series = pd.Series(list)\n",
    "print(series)\n"
   ]
  },
  {
   "cell_type": "code",
   "execution_count": 12,
   "id": "56529774-b3c6-45ca-a78f-f3daedc14479",
   "metadata": {},
   "outputs": [
    {
     "data": {
      "text/html": [
       "<div>\n",
       "<style scoped>\n",
       "    .dataframe tbody tr th:only-of-type {\n",
       "        vertical-align: middle;\n",
       "    }\n",
       "\n",
       "    .dataframe tbody tr th {\n",
       "        vertical-align: top;\n",
       "    }\n",
       "\n",
       "    .dataframe thead th {\n",
       "        text-align: right;\n",
       "    }\n",
       "</style>\n",
       "<table border=\"1\" class=\"dataframe\">\n",
       "  <thead>\n",
       "    <tr style=\"text-align: right;\">\n",
       "      <th></th>\n",
       "      <th>Name</th>\n",
       "      <th>Age</th>\n",
       "      <th>Gender</th>\n",
       "    </tr>\n",
       "  </thead>\n",
       "  <tbody>\n",
       "    <tr>\n",
       "      <th>0</th>\n",
       "      <td>alice</td>\n",
       "      <td>25</td>\n",
       "      <td>Female</td>\n",
       "    </tr>\n",
       "    <tr>\n",
       "      <th>1</th>\n",
       "      <td>bob</td>\n",
       "      <td>30</td>\n",
       "      <td>Male</td>\n",
       "    </tr>\n",
       "    <tr>\n",
       "      <th>2</th>\n",
       "      <td>claire</td>\n",
       "      <td>27</td>\n",
       "      <td>Femle</td>\n",
       "    </tr>\n",
       "  </tbody>\n",
       "</table>\n",
       "</div>"
      ],
      "text/plain": [
       "     Name  Age  Gender\n",
       "0   alice   25  Female\n",
       "1     bob   30    Male\n",
       "2  claire   27   Femle"
      ]
     },
     "execution_count": 12,
     "metadata": {},
     "output_type": "execute_result"
    }
   ],
   "source": [
    "\n",
    "import pandas as pd\n",
    "\n",
    "\n",
    "data = [['alice', 25 ,\"Female\"], ['bob', 30,\"Male\"], ['claire', 27,\"Femle\"]]\n",
    "\n",
    "\n",
    "df = pd.DataFrame(data, columns=['Name', 'Age',\"Gender\"])\n",
    "\n",
    "\n",
    "df\n"
   ]
  },
  {
   "cell_type": "raw",
   "id": "c6457b35-0745-4a95-8653-fc49db387d37",
   "metadata": {},
   "source": [
    "'''what is data frame how is diffarent from series?Explain with exmple.\n",
    "\n",
    "Series in pandas contains a single list which can store heterogeneous type of data, because of this, series is also considered as a 1-dimensional data structure. On the other hand, DataFrame is a 2-dimensional data structure which contains multiple lists of heterogeneous type of data.'''\n"
   ]
  },
  {
   "cell_type": "raw",
   "id": "d8f4ddf6-bf01-4c6d-bc93-869bb129bb82",
   "metadata": {},
   "source": [
    "'''  what are the common function to manipulate data in pandas data frame? write a one with its example.\n",
    " Remove Column from pandas DataFrame.\n",
    " Add New Column to pandas DataFrame.\n",
    " Merge Two pandas DataFrames.\n",
    " Rename Columns of pandas DataFrame.\n",
    " Remove Row from pandas DataFrame.\n",
    " Add New Row to pandas DataFrame.\n",
    "  still we did not read any example of thtis related topic\n",
    "'''"
   ]
  },
  {
   "cell_type": "raw",
   "id": "17b1dd90-fc21-4932-96c2-f91efd7041ee",
   "metadata": {},
   "source": [
    " '''Which of the following is mutable in nature Series, DataFrame, Panel?\n",
    " \n",
    " Series Objects are value-mutable but size-immutable objects. \n",
    " \n",
    " Pandas DataFrame is mutable\n",
    " \n",
    " '''"
   ]
  },
  {
   "cell_type": "code",
   "execution_count": 16,
   "id": "77957fbf-7bce-4e27-92cc-43efd6f552f0",
   "metadata": {},
   "outputs": [
    {
     "name": "stdout",
     "output_type": "stream",
     "text": [
      "0      Spark\n",
      "1    PySpark\n",
      "2     Hadoop\n",
      "0      22000\n",
      "1      25000\n",
      "2      23000\n",
      "0       1000\n",
      "1       2300\n",
      "2       1000\n",
      "dtype: object\n"
     ]
    }
   ],
   "source": [
    "''' Create a DataFrame using multiple Series. Explain with an example.'''\n",
    "import pandas as pd\n",
    "\n",
    "courses = pd.Series([\"Spark\",\"PySpark\",\"Hadoop\"])\n",
    "fees = pd.Series([22000,25000,23000])\n",
    "discount  = pd.Series([1000,2300,1000])\n",
    "\n",
    "\n",
    "df=pd.concat([courses,fees])\n",
    "\n",
    "df=pd.concat([courses,fees,discount],)\n",
    "print(df)"
   ]
  },
  {
   "cell_type": "code",
   "execution_count": null,
   "id": "ce43e5b9-fdd9-4c4c-9a71-2e83e190854d",
   "metadata": {},
   "outputs": [],
   "source": []
  }
 ],
 "metadata": {
  "kernelspec": {
   "display_name": "Python 3 (ipykernel)",
   "language": "python",
   "name": "python3"
  },
  "language_info": {
   "codemirror_mode": {
    "name": "ipython",
    "version": 3
   },
   "file_extension": ".py",
   "mimetype": "text/x-python",
   "name": "python",
   "nbconvert_exporter": "python",
   "pygments_lexer": "ipython3",
   "version": "3.10.6"
  }
 },
 "nbformat": 4,
 "nbformat_minor": 5
}

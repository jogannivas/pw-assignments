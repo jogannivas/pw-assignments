{
 "cells": [
  {
   "cell_type": "markdown",
   "id": "c1186200-1c87-42e9-be2a-c7785983db51",
   "metadata": {},
   "source": [
    "#Q1\n",
    "The Pearson correlation coefficient, often denoted as \"r,\" ranges from -1 to +1. Here's how to interpret the value of r:\n",
    "\n",
    "If the correlation coefficient is close to +1, it indicates a strong positive linear relationship between the two variables. This means that as the amount of time spent studying increases, the final exam scores also tend to increase. The closer the correlation coefficient is to +1, the stronger the positive relationship.\n",
    "\n",
    "If the correlation coefficient is close to -1, it indicates a strong negative linear relationship between the two variables. In this case, as the amount of time spent studying increases, the final exam scores tend to decrease. The closer the correlation coefficient is to -1, the stronger the negative relationship.\n",
    "\n",
    "If the correlation coefficient is close to 0, it suggests little to no linear relationship between the two variables. This means that the amount of time spent studying and the final exam scores are not strongly related to each other."
   ]
  },
  {
   "cell_type": "markdown",
   "id": "dbd13797-e4c6-44aa-a281-e518a6b42a26",
   "metadata": {},
   "source": [
    "#Q2\n",
    " To calculate Spearman's rank correlation coefficient between the amount of sleep individuals get each night and their overall job satisfaction level, you need a dataset containing both variables for each individual. Once you have that data, you can use the following steps to calculate the correlation coefficient:\n",
    "\n",
    "Rank the data for each variable separately. Assign a rank of 1 to the lowest value, 2 to the second lowest value, and so on. If there are ties (i.e., multiple individuals with the same value), assign them the average rank.\n",
    "\n",
    "Calculate the difference between the ranks for each individual for both variables.\n",
    "\n",
    "Square the differences obtained in step 2.\n",
    "\n",
    "Calculate the sum of the squared differences.\n",
    " Spearman's rank correlation coefficient to calculate the correlation coefficient:\n",
    "\n",
    "ρ = 1 - (6 * Σd²) / (n * (n² - 1))\n",
    "\n"
   ]
  },
  {
   "cell_type": "markdown",
   "id": "fb138285-6efd-4937-92b7-23fde94120c9",
   "metadata": {},
   "source": [
    "#Q3\n",
    "To calculate the Pearson correlation coefficient and the Spearman's rank correlation coefficient between the number of hours of exercise per week and body mass index (BMI) in a sample of adults, you would need the dataset containing both variables for the 50 participants. Once you have the data, follow these steps:\n",
    "\n",
    "Calculate the mean (average) of the number of hours of exercise per week and the mean of the BMI.\n",
    "Calculate the difference between each participant's number of hours of exercise and the mean.\n",
    "Calculate the difference between each participant's BMI and the mean BMI.\n",
    "Multiply the differences calculated in steps 2 and 3 for each participant and sum them up.\n",
    "Calculate the standard deviation of the number of hours of exercise per week and the standard deviation of the BMI.\n",
    "Divide the sum obtained in step 4 by the product of the standard deviations calculated in step 5. This will give you the Pearson correlation coefficient."
   ]
  },
  {
   "cell_type": "markdown",
   "id": "af86742c-2333-43ab-b4c4-0aa2a15ab291",
   "metadata": {},
   "source": [
    "#Q4\n",
    "Calculate the mean (average) of the number of hours spent watching television per day and the mean of the level of physical activity.\n",
    "Calculate the difference between each participant's number of hours spent watching television and the mean.\n",
    "Calculate the difference between each participant's level of physical activity and the mean.\n",
    "Multiply the differences calculated in steps 2 and 3 for each participant and sum them up.\n",
    "Calculate the standard deviation of the number of hours spent watching television per day and the standard deviation of the level of physical activity.\n",
    "Divide the sum obtained in step 4 by the product of the standard deviations calculated in step 5. This will give you the Pearson correlation coefficient.\n",
    "Here's an example formula to calculate the Pearson correlation coefficient (r):\n",
    "\n",
    "r = Σ((X_i - X̄)(Y_i - Ȳ)) / (n * σ_x * σ_y)"
   ]
  },
  {
   "cell_type": "code",
   "execution_count": null,
   "id": "94232767-3eb2-432d-a08b-45d2ac2aef72",
   "metadata": {},
   "outputs": [],
   "source": [
    "#Q5\n",
    "''. Based on the data you provided, we have the following information regarding the relationship between age and preference for a particular brand of soft drink:\n",
    "\n",
    "Age (Years)\tSoft Drink Preference\n",
    "25\tCoke\n",
    "42\tPepsi\n",
    "37\tMountain Dew\n",
    "19\tCoke\n",
    "31\tPepsi\n",
    "28\tCoke\n",
    "To calculate the Pearson correlation coefficient between age and soft drink preference, we need to assign numeric values to the soft drink preferences. Let's assign 1 for Coke, 2 for Pepsi, and 3 for Mountain Dew. The dataset will then look like this:\n",
    "\n",
    "Age (Years)\tSoft Drink Preference\n",
    "25\t1\n",
    "42\t2\n",
    "37\t3\n",
    "19\t1\n",
    "31\t2\n",
    "28\t1'''"
   ]
  },
  {
   "cell_type": "markdown",
   "id": "759ed083-24eb-4d07-9a6a-6427953726b7",
   "metadata": {},
   "source": [
    "#Q6\n"
   ]
  },
  {
   "cell_type": "markdown",
   "id": "d4e1b3bc-8d25-4f33-a33e-20153e4c37a8",
   "metadata": {},
   "source": [
    "#Q7\n"
   ]
  }
 ],
 "metadata": {
  "kernelspec": {
   "display_name": "Python 3 (ipykernel)",
   "language": "python",
   "name": "python3"
  },
  "language_info": {
   "codemirror_mode": {
    "name": "ipython",
    "version": 3
   },
   "file_extension": ".py",
   "mimetype": "text/x-python",
   "name": "python",
   "nbconvert_exporter": "python",
   "pygments_lexer": "ipython3",
   "version": "3.10.6"
  }
 },
 "nbformat": 4,
 "nbformat_minor": 5
}

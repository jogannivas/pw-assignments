{
 "cells": [
  {
   "cell_type": "raw",
   "id": "49b212b6-490a-49a8-97df-4c65b7c4644a",
   "metadata": {},
   "source": [
    "Q1. What is MongoDB? Explain non-relational databases in short. In which scenarios it is preferred to use\n",
    "MongoDB over SQL databases?\n",
    "\n",
    "MongoDB is a document database used to build highly available and scalable internet applications. With its flexible schema approach, it's popular with development teams using agile methodologies.\n",
    "A non-relational database is a database that does not use the tabular schema of rows and columns found in most traditional database systems.\n",
    "MongoDB is well-suited for real-time analytics, content management, the Internet of Things, mobile, and other types of applications."
   ]
  },
  {
   "cell_type": "raw",
   "id": "1b09a5ed-93d6-4892-b7b9-b01e9ff8a85d",
   "metadata": {},
   "source": [
    "Q2. State and Explain the features of MongoDB.\n",
    "\n",
    "MongoDB is an open-source document-oriented database that is designed to store a large scale of data and also allows you to work with that data very efficiently. It is categorized under the NoSQL (Not only SQL) database because the storage and retrieval of data in the MongoDB are not in the form of tables. \n",
    "\n",
    "The MongoDB database is developed and managed by MongoDB.Inc under SSPL(Server Side Public License) and initially released in February 2009. It also provides official driver support for all the popular languages like C, C++, C#, and .Net, Go, Java, Node.js, Perl, PHP, Python, Motor, Ruby, Scala, Swift, Mongoid. So, that you can create an application using any of these languages. Nowadays there are so many companies that used MongoDB like Facebook, Nokia, eBay, Adobe, Google, etc. to store their large amount of data. \n"
   ]
  },
  {
   "cell_type": "code",
   "execution_count": null,
   "id": "5266f902-4101-4620-bc7a-495a62d2a251",
   "metadata": {},
   "outputs": [],
   "source": [
    "'''Q3. Write a code to connect MongoDB to Python. Also, create a database and a collection in MongoDB.'''\n",
    "import pymongo\n",
    "client = pymongo.MongoClient(\"mongodb+srv://jogannivas:<i wont say>@cluster0.1y4zc2o.mongodb.net/?retryWrites=true&w=majority\")\n",
    "db = client.test\n",
    "#pip install pymongo\n",
    "db=client['joga']\n",
    "data={\"name\":'jogannivas',\n",
    "     \"class\": 'Data Science Maasters',\n",
    "      \"time\": \"flexi\"}\n",
    "coll_jogannivas= db[\"my_record\"]\n",
    "coll_jogannivas.insert_one(data)\n",
    "\n"
   ]
  },
  {
   "cell_type": "code",
   "execution_count": null,
   "id": "71734333-2ae9-4069-90fe-77be7a593b31",
   "metadata": {},
   "outputs": [],
   "source": [
    "'''Q4. Using the database and the collection created in question number 3, write a code to insert one record,\n",
    "and insert many records. Use the find() and find_one() methods to print the inserted record.'''\n",
    "\n",
    "\n",
    "import pymongo\n",
    "client = pymongo.MongoClient(\"mongodb+srv://jogannivas:<i wont say>@cluster0.1y4zc2o.mongodb.net/?retryWrites=true&w=majority\")\n",
    "db = client.test\n",
    "#pip install pymongo\n",
    "db=client['joga']\n",
    "data={\"name\":'jogannivas',\n",
    "     \"class\": 'Data Science Maasters',\n",
    "      \"time\": \"flexi\"}\n",
    "coll_jogannivas= db[\"my_record\"]\n",
    "coll_jogannivas.insert_one(data)\n",
    "\n",
    "coll_jogannivas.insert_one({'hello':'i am jogannivas'})\n",
    "coll_jogannivas.find()\n",
    "coll_jogannivas.find_one()"
   ]
  },
  {
   "cell_type": "code",
   "execution_count": null,
   "id": "e4e09d38-9c1f-4eef-966f-fbe5c5a5b037",
   "metadata": {},
   "outputs": [],
   "source": [
    "'''Q5. Explain how you can use the find() method to query the MongoDB database. Write a simple code to\n",
    "demonstrate this\n",
    "\n",
    "In mongoDB, the find() method is used to fetch a particular data from the table. In other words, it is used to select data in a table. It is also used to return all events to the selected data. The find() method consists of two parameters by which we can find a particular record.'''\n",
    "  jogannivas.find({'hello':'i am jogannivas'})"
   ]
  },
  {
   "cell_type": "code",
   "execution_count": null,
   "id": "6834599e-1a04-4073-98e8-51ecc22fd3af",
   "metadata": {},
   "outputs": [],
   "source": [
    "Q6. Explain the sort() method. Give an example to demonstrate sorting in MongoDB.\n",
    "\n",
    "The sort() method specifies the order in which the query returns the matching documents from the given collection.\n",
    "db.Collection_Name.sort({filed_name:1 })"
   ]
  },
  {
   "cell_type": "raw",
   "id": "1e1cd3aa-9dbb-4384-9f15-3c7f34f02384",
   "metadata": {},
   "source": [
    "Q7. Explain why delete_one(), delete_many(), and drop() is used.\n",
    "\n",
    "To delete one document, we use the delete_one() method. \n",
    "deletemany()can be passed with a JSON document specifying the filter condition.\n"
   ]
  },
  {
   "cell_type": "code",
   "execution_count": null,
   "id": "26295c46-be3b-4530-bc0c-860418a874bc",
   "metadata": {},
   "outputs": [],
   "source": []
  }
 ],
 "metadata": {
  "kernelspec": {
   "display_name": "Python 3 (ipykernel)",
   "language": "python",
   "name": "python3"
  },
  "language_info": {
   "codemirror_mode": {
    "name": "ipython",
    "version": 3
   },
   "file_extension": ".py",
   "mimetype": "text/x-python",
   "name": "python",
   "nbconvert_exporter": "python",
   "pygments_lexer": "ipython3",
   "version": "3.10.6"
  }
 },
 "nbformat": 4,
 "nbformat_minor": 5
}

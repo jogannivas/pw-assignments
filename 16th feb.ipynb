{
 "cells": [
  {
   "cell_type": "raw",
   "id": "e4c6549e-8de9-428e-bb28-cd44bbeeafad",
   "metadata": {},
   "source": [
    "Q1. What is a database? Differentiate between SQL and NoSQL databases.\n",
    "A database is an organized collection of structured information, or data, typically stored electronically in a computer system. A database is usually controlled by a database management system (DBMS). Together, the data and the DBMS, along with the applications that are associated with them, are referred to as a database system, often shortened to just database.\n",
    "\n",
    " MySQL is a relational database that is based on a tabular design. NoSQL is non-relational and has a document-based design\n",
    " "
   ]
  },
  {
   "cell_type": "raw",
   "id": "20902664-bb7b-4e23-a9aa-53058074feba",
   "metadata": {},
   "source": [
    "Q2. What is DDL? Explain why CREATE, DROP, ALTER, and TRUNCATE are used with an example.\n",
    "\n",
    "Data Definition Language (DDL) is a subset of SQL. It is a language for describing data and its relationships in a database.\n",
    "The CREATE TABLE command creates a new table in the database.\n",
    "The ALTER TABLE command adds, deletes, or modifies columns in a table.\n",
    "\n",
    "The ALTER TABLE command also adds and deletes various constraints in a table.\n",
    "The DROP TABLE command deletes a table in the database.\n",
    "The TRUNCATE TABLE command deletes the data inside a table, but not the table itself.\n"
   ]
  },
  {
   "cell_type": "raw",
   "id": "406633fd-6291-4d6e-b232-1b17c727ff26",
   "metadata": {},
   "source": [
    "Q3. What is DML? Explain INSERT, UPDATE, and DELETE with an example.\n",
    "A data manipulation language (DML) is a family of computer languages including commands permitting users to manipulate data in a database.\n",
    "\n",
    "The INSERT statement introduces new rows into an existing table.\n",
    "The DELETE statement removes a row or combination of rows from a table.\n",
    "The UPDATE statement enables users to update a row or group of rows in a table."
   ]
  },
  {
   "cell_type": "raw",
   "id": "ce9ba9bf-d60b-4309-aa60-44b8a406ad3e",
   "metadata": {},
   "source": [
    "Q4. What is DQL? Explain SELECT with an example.\n",
    "\n",
    "Data query language is part of the base grouping of SQL sub-languages.DQL commands are basically SELECT statements. SELECT statements let you query the database to find information in one or more tables, and return the query as a result set. \n",
    "\n",
    "select * from  jogannivas.study  which will further select the whole column from study table which is situated at jogannivas database."
   ]
  },
  {
   "cell_type": "raw",
   "id": "cb110d9d-7992-48dd-8d64-6e892d67dda0",
   "metadata": {},
   "source": [
    "Q5. Explain Primary Key and Foreign Key.\n",
    "\n",
    "A primary key, also called a primary keyword, is a column in a relational database table that's distinctive for each record. It's a unique identifier, such as a driver's license number, telephone number with area code or vehicle identification number .\n",
    "A foreign key is a column or combination of columns that is used to establish and enforce a link between the data in two tables to control the data that can be stored in the foreign key table."
   ]
  },
  {
   "cell_type": "code",
   "execution_count": 3,
   "id": "cb987626-ebd0-465f-ba51-a5753056a7f8",
   "metadata": {},
   "outputs": [
    {
     "data": {
      "text/plain": [
       "'Q6. Write a python code to connect MySQL to python. Explain the cursor() and execute() method.\\nimport mysql.connector\\n# import mysql.connector\\n#create user \\'user\\'@\\'%\\' identified by \\'password\\'\\nmydb = mysql.connector.connect(\\n  host=\"localhost\",\\n  user=\"abc\",\\n  password=\"password\"\\n)\\nprint(mydb)\\nmycursor = mydb.cursor()\\nmycursor.execute(\"SHOW DATABASES\")\\nfor x in mycursor:\\n  print(x)\\n\\nA cursor is an object which helps to execute the query and fetch the records from the database.\\nexecute() Method. This method executes the given database operation (query or command). \\n'"
      ]
     },
     "execution_count": 3,
     "metadata": {},
     "output_type": "execute_result"
    }
   ],
   "source": [
    "'''Q6. Write a python code to connect MySQL to python. Explain the cursor() and execute() method.'''\n",
    "import mysql.connector\n",
    "# import mysql.connector\n",
    "#create user 'user'@'%' identified by 'password'\n",
    "mydb = mysql.connector.connect(\n",
    "  host=\"localhost\",\n",
    "  user=\"abc\",\n",
    "  password=\"password\"\n",
    ")\n",
    "print(mydb)\n",
    "mycursor = mydb.cursor()\n",
    "mycursor.execute(\"SHOW DATABASES\")\n",
    "for x in mycursor:\n",
    "  print(x)\n",
    "'''\n",
    "A cursor is an object which helps to execute the query and fetch the records from the database.\n",
    "\n",
    "execute() Method. This method executes the given database operation (query or command). \n",
    "'''"
   ]
  },
  {
   "cell_type": "raw",
   "id": "a9021d93-7343-4f7c-8a08-da51783159b8",
   "metadata": {},
   "source": [
    "Q7. Give the order of execution of SQL clauses in an SQL query.\n",
    "FROM\tTables are joined to get the base data.\n",
    "GROUP BY\tThe filtered base data is grouped.\n",
    "SELECT\tThe final data is returned.\n",
    "ORDER BY\tThe final data is sorted.\n"
   ]
  }
 ],
 "metadata": {
  "kernelspec": {
   "display_name": "Python 3 (ipykernel)",
   "language": "python",
   "name": "python3"
  },
  "language_info": {
   "codemirror_mode": {
    "name": "ipython",
    "version": 3
   },
   "file_extension": ".py",
   "mimetype": "text/x-python",
   "name": "python",
   "nbconvert_exporter": "python",
   "pygments_lexer": "ipython3",
   "version": "3.10.6"
  }
 },
 "nbformat": 4,
 "nbformat_minor": 5
}

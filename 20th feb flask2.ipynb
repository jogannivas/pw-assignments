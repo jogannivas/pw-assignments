{
 "cells": [
  {
   "cell_type": "raw",
   "id": "fc065de5-a143-4da7-8657-89d793370d0e",
   "metadata": {},
   "source": [
    "Q1. Explain GET and POST methods.\n",
    "\n",
    "GET carries request parameter appended in URL string while POST carries request parameter in message body which makes it more secure way of transferring data "
   ]
  },
  {
   "cell_type": "raw",
   "id": "c6dd60cf-ef24-41ab-818e-b7c6b3266979",
   "metadata": {},
   "source": [
    "Q2. Why is request used in Flask?\n",
    "\n",
    "   To access the incoming data in Flask, we have to use the request object. The request object holds all incoming data from the request."
   ]
  },
  {
   "cell_type": "raw",
   "id": "45cde3bc-547f-42e4-9796-7c155483eedf",
   "metadata": {},
   "source": [
    "Q3. Why is redirect() used in Flask?\n",
    "\n",
    "redirect() function returns a response object and redirects the user to another target location with specified status code. "
   ]
  },
  {
   "cell_type": "raw",
   "id": "a3b122fa-54c2-48e5-b9a6-e24cc945de7f",
   "metadata": {},
   "source": [
    "Q4. What are templates in Flask? Why is the render_template() function used?\n",
    "\n",
    "Templates are files that contain static data as well as placeholders for dynamic data. A template is rendered with specific data to produce a final document. Flask uses the Jinja template library to render templates. In your application, you will use templates to render HTML which will display in the user's browser.\n",
    "\n",
    "render_template is used to generate output from a template file that is found in the application's templates folder."
   ]
  },
  {
   "cell_type": "raw",
   "id": "de2affad-859a-462d-b5a5-956edf3a0b4a",
   "metadata": {},
   "source": [
    "Q5. Create a simple API. Use Postman to test it. Attach the screenshot of the output in the Jupyter Notebook."
   ]
  },
  {
   "cell_type": "code",
   "execution_count": null,
   "id": "6a212bce-97b3-43b3-ac41-931686a8d731",
   "metadata": {},
   "outputs": [],
   "source": []
  }
 ],
 "metadata": {
  "kernelspec": {
   "display_name": "Python 3 (ipykernel)",
   "language": "python",
   "name": "python3"
  },
  "language_info": {
   "codemirror_mode": {
    "name": "ipython",
    "version": 3
   },
   "file_extension": ".py",
   "mimetype": "text/x-python",
   "name": "python",
   "nbconvert_exporter": "python",
   "pygments_lexer": "ipython3",
   "version": "3.10.6"
  }
 },
 "nbformat": 4,
 "nbformat_minor": 5
}
